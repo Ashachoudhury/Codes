{
 "cells": [
  {
   "cell_type": "code",
   "execution_count": 1,
   "id": "2f76e063",
   "metadata": {},
   "outputs": [
    {
     "name": "stdout",
     "output_type": "stream",
     "text": [
      "%pylab is deprecated, use %matplotlib inline and import the required libraries.\n",
      "Populating the interactive namespace from numpy and matplotlib\n",
      "%pylab is deprecated, use %matplotlib inline and import the required libraries.\n",
      "Populating the interactive namespace from numpy and matplotlib\n"
     ]
    }
   ],
   "source": [
    "#START OF NEW Coding \n",
    "\n",
    "%matplotlib inline\n",
    "import matplotlib.pyplot as plt\n",
    "import matplotlib as mpl\n",
    "import numpy as np\n",
    "#import mdshare\n",
    "import mdtraj as md\n",
    "import MDAnalysis as mda\n",
    "#import nglview\n",
    "import pyemma\n",
    "from pyemma.util.contexts import settings\n",
    "import pyemma.coordinates as coor\n",
    "import pyemma.msm as msm\n",
    "import pyemma.plots as peplt\n",
    "%pylab inline\n",
    "\n",
    "import pyemma\n",
    "\n",
    "pyemma.__version__\n",
    "\n",
    "'2.5.5+9.ge9257b9.dirty'\n",
    "\n",
    "\n",
    "import numpy as np\n",
    "%pylab inline\n",
    "\n",
    "\n",
    "import pyemma.coordinates as coor\n",
    "\n",
    "# some helper funcs\n",
    "def average_by_state(dtraj, x, nstates):\n",
    "    assert(len(dtraj) == len(x))\n",
    "    N = len(dtraj)\n",
    "    res = np.zeros((nstates))\n",
    "    for i in range(nstates):\n",
    "        I = np.argwhere(dtraj == i)[:,0]\n",
    "        res[i] = np.mean(x[I])\n",
    "    return res\n",
    "\n",
    "def avg_by_set(x, sets):\n",
    "    # compute mean positions of sets. This is important because of some technical points the set order\n",
    "    # in the coarse-grained TPT object can be different from the input order.\n",
    "    avg = np.zeros(len(sets))\n",
    "    for i in range(len(sets)):\n",
    "        I = list(sets[i])\n",
    "        avg[i] = np.mean(x[I])\n",
    "    return avg"
   ]
  },
  {
   "cell_type": "code",
   "execution_count": 2,
   "id": "96f43b58",
   "metadata": {},
   "outputs": [],
   "source": [
    "\n",
    "trajfile = [\"/home1/wt/c1-sim1/c1-protein.xtc\", \"/home1/wt/c2-sim1/c2-protein.xtc\", \"/home1/wt/c3-sim1/c3-protein.xtc\", \"/home1/wt/c4-sim1/c4-protein.xtc\", \"/home1/wt/c5-sim1/c5-protein.xtc\", \"/home1/wt/c6-sim1/c6-protein.xtc\", \"/home1/wt/c7-sim1/c7-protein.xtc\", \"/home1/wt/c8-sim1/c8-protein.xtc\", \"/home1/wt/c9-sim1/c9-protein.xtc\", \"/home1/wt/c10-sim1/c10-protein.xtc\", \"/home1/wt/c1-sim2/c1-protein.xtc\", \"/home1/wt/c2-sim2/c2-protein.xtc\", \"/home1/wt/c3-sim2/c3-protein.xtc\", \"/home1/wt/c4-sim2/c4-protein.xtc\", \"/home1/wt/c5-sim2/c5-protein.xtc\", \"/home1/wt/c6-sim2/c6-protein.xtc\", \"/home1/wt/c7-sim2/c7-protein.xtc\", \"/home1/wt/c8-sim2/c8-protein.xtc\", \"/home1/wt/c9-sim2/c9-protein.xtc\", \"/home1/wt/c10-sim2/c10-protein.xtc\", \"/home1/wt/c1-sim3/c1-protein.xtc\", \"/home1/wt/c2-sim3/c2-protein.xtc\", \"/home1/wt/c3-sim3/c3-protein.xtc\", \"/home1/wt/c4-sim3/c4-protein.xtc\", \"/home1/wt/c5-sim3/c5-protein.xtc\", \"/home1/wt/c6-sim3/c6-protein.xtc\", \"/home1/wt/c7-sim3/c7-protein.xtc\", \"/home1/wt/c8-sim3/c8-protein.xtc\", \"/home1/wt/c9-sim3/c9-protein.xtc\", \"/home1/wt/c10-sim3/c10-protein.xtc\"\n",
    "]\n",
    "topfile = '/home1/wt/wt-protein.gro'\n",
    "\n",
    "\n",
    "xtc_traj = md.load (trajfile, top='/home1/wt/wt-protein.gro')\n",
    "\n",
    "pdb = md.load ('/home1/wt/wt-protein.gro')"
   ]
  },
  {
   "cell_type": "code",
   "execution_count": 3,
   "id": "a1d639b6",
   "metadata": {},
   "outputs": [
    {
     "name": "stdout",
     "output_type": "stream",
     "text": [
      "Timestep of the trajectory is: 10.0 ps\n"
     ]
    },
    {
     "name": "stderr",
     "output_type": "stream",
     "text": [
      "/home/rajarshi/miniconda3/lib/python3.9/site-packages/MDAnalysis/coordinates/XDR.py:202: UserWarning: Cannot write lock/offset file in same location as /home1/wt/c1-sim1/c1-protein.xtc. Using slow offset calculation.\n",
      "  warnings.warn(f\"Cannot write lock/offset file in same location as \"\n",
      "/home/rajarshi/miniconda3/lib/python3.9/site-packages/MDAnalysis/coordinates/XDR.py:258: UserWarning: Couldn't save offsets because: [Errno 13] Permission denied: '/home1/wt/c1-sim1/.c1-protein.xtc_offsets.npz'\n",
      "  warnings.warn(f\"Couldn't save offsets because: {e}\")\n"
     ]
    }
   ],
   "source": [
    "import MDAnalysis as mda\n",
    "\n",
    "# Load your .gro and .xtc files\n",
    "universe = mda.Universe(\"/home1/wt/wt-protein.gro\", \"/home1/wt/c1-sim1/c1-protein.xtc\")\n",
    "\n",
    "# Get timestep from the first two frames\n",
    "timestep = universe.trajectory[1].time - universe.trajectory[0].time\n",
    "print(f\"Timestep of the trajectory is: {timestep} ps\")\n"
   ]
  },
  {
   "cell_type": "code",
   "execution_count": 4,
   "id": "e21bee5d",
   "metadata": {},
   "outputs": [
    {
     "data": {
      "application/vnd.jupyter.widget-view+json": {
       "model_id": "",
       "version_major": 2,
       "version_minor": 0
      },
      "text/plain": [
       "Obtaining file info:   0%|                                                                 | 0/29 [00:00<?, ?i…"
      ]
     },
     "metadata": {},
     "output_type": "display_data"
    },
    {
     "data": {
      "application/vnd.jupyter.widget-view+json": {
       "model_id": "",
       "version_major": 2,
       "version_minor": 0
      },
      "text/plain": [
       "getting output of FeatureReader:   0%|                                                     | 0/29 [00:00<?, ?i…"
      ]
     },
     "metadata": {},
     "output_type": "display_data"
    },
    {
     "data": {
      "application/vnd.jupyter.widget-view+json": {
       "model_id": "",
       "version_major": 2,
       "version_minor": 0
      },
      "text/plain": [
       "Obtaining file info:   0%|                                                                 | 0/29 [00:00<?, ?i…"
      ]
     },
     "metadata": {},
     "output_type": "display_data"
    },
    {
     "name": "stdout",
     "output_type": "stream",
     "text": [
      "trajectory length =  <bound method DataSource.trajectory_length of <pyemma.coordinates.data.feature_reader.FeatureReader object at 0x7fc914d15ee0>>\n",
      "number of dimension =  48\n"
     ]
    }
   ],
   "source": [
    "#Selecting the feature for MSM Building\n",
    "\n",
    "feat = pyemma.coordinates.featurizer(pdb)\n",
    "feat.add_backbone_torsions(periodic=True, cossin=True)\n",
    "data = pyemma.coordinates.load(trajfile, features=feat)\n",
    "\n",
    "\n",
    "\n",
    "inp = coor.source(trajfile, feat)\n",
    "print('trajectory length = ',inp.trajectory_length)\n",
    "print('number of dimension = ',inp.dimension())\n",
    "\n",
    "\n"
   ]
  },
  {
   "cell_type": "code",
   "execution_count": 5,
   "id": "1e333de8",
   "metadata": {},
   "outputs": [],
   "source": [
    "\n",
    "\n",
    "def score_cv(data, dim, lag, number_of_splits=10, validation_fraction=0.5):\n",
    "    \"\"\"Compute a cross-validated VAMP2 score.\n",
    "\n",
    "    We randomly split the list of independent trajectories into\n",
    "    a training and a validation set, compute the VAMP2 score,\n",
    "    and repeat this process several times.\n",
    "\n",
    "    Parameters\n",
    "    ----------\n",
    "    data : list of numpy.ndarrays\n",
    "        The input data.\n",
    "    dim : int\n",
    "        Number of processes to score; equivalent to the dimension\n",
    "        after projecting the data with VAMP2.\n",
    "    lag : int\n",
    "        Lag time for the VAMP2 scoring.\n",
    "    number_of_splits : int, optional, default=10\n",
    "        How often do we repeat the splitting and score calculation.\n",
    "    validation_fraction : int, optional, default=0.5\n",
    "        Fraction of trajectories which should go into the validation\n",
    "        set during a split.\n",
    "    \"\"\"\n",
    "    # we temporarily suppress very short-lived progress bars\n",
    "    with pyemma.util.contexts.settings(show_progress_bars=False):\n",
    "        nval = int(len(data) * validation_fraction)\n",
    "        scores = np.zeros(number_of_splits)\n",
    "        for n in range(number_of_splits):\n",
    "            ival = np.random.choice(len(data), size=nval, replace=False)\n",
    "            vamp = pyemma.coordinates.vamp(\n",
    "                [d for i, d in enumerate(data) if i not in ival], lag=lag, dim=dim)\n",
    "            scores[n] = vamp.score([d for i, d in enumerate(data) if i in ival])\n",
    "    return scores\n",
    "\n",
    "\n"
   ]
  },
  {
   "cell_type": "code",
   "execution_count": 6,
   "id": "c33b0f15",
   "metadata": {
    "scrolled": true
   },
   "outputs": [
    {
     "name": "stderr",
     "output_type": "stream",
     "text": [
      "/home/rajarshi/miniconda3/lib/python3.9/site-packages/decorator.py:232: PyEMMA_DeprecationWarning: Call to deprecated function \"vamp\". Called from /home/rajarshi/miniconda3/lib/python3.9/site-packages/decorator.py line 232. Use deeptime.decomposition.VAMP instead.\n",
      "  return caller(func, *(extras + args), **kw)\n",
      "/home/rajarshi/miniconda3/lib/python3.9/site-packages/decorator.py:232: PyEMMA_DeprecationWarning: Call to deprecated function \"vamp\". Called from /home/rajarshi/miniconda3/lib/python3.9/site-packages/decorator.py line 232. Use deeptime.decomposition.VAMP instead.\n",
      "  return caller(func, *(extras + args), **kw)\n",
      "/home/rajarshi/miniconda3/lib/python3.9/site-packages/decorator.py:232: PyEMMA_DeprecationWarning: Call to deprecated function \"vamp\". Called from /home/rajarshi/miniconda3/lib/python3.9/site-packages/decorator.py line 232. Use deeptime.decomposition.VAMP instead.\n",
      "  return caller(func, *(extras + args), **kw)\n",
      "/home/rajarshi/miniconda3/lib/python3.9/site-packages/decorator.py:232: PyEMMA_DeprecationWarning: Call to deprecated function \"vamp\". Called from /home/rajarshi/miniconda3/lib/python3.9/site-packages/decorator.py line 232. Use deeptime.decomposition.VAMP instead.\n",
      "  return caller(func, *(extras + args), **kw)\n",
      "/home/rajarshi/miniconda3/lib/python3.9/site-packages/decorator.py:232: PyEMMA_DeprecationWarning: Call to deprecated function \"vamp\". Called from /home/rajarshi/miniconda3/lib/python3.9/site-packages/decorator.py line 232. Use deeptime.decomposition.VAMP instead.\n",
      "  return caller(func, *(extras + args), **kw)\n",
      "/home/rajarshi/miniconda3/lib/python3.9/site-packages/decorator.py:232: PyEMMA_DeprecationWarning: Call to deprecated function \"vamp\". Called from /home/rajarshi/miniconda3/lib/python3.9/site-packages/decorator.py line 232. Use deeptime.decomposition.VAMP instead.\n",
      "  return caller(func, *(extras + args), **kw)\n",
      "/home/rajarshi/miniconda3/lib/python3.9/site-packages/decorator.py:232: PyEMMA_DeprecationWarning: Call to deprecated function \"vamp\". Called from /home/rajarshi/miniconda3/lib/python3.9/site-packages/decorator.py line 232. Use deeptime.decomposition.VAMP instead.\n",
      "  return caller(func, *(extras + args), **kw)\n",
      "/home/rajarshi/miniconda3/lib/python3.9/site-packages/decorator.py:232: PyEMMA_DeprecationWarning: Call to deprecated function \"vamp\". Called from /home/rajarshi/miniconda3/lib/python3.9/site-packages/decorator.py line 232. Use deeptime.decomposition.VAMP instead.\n",
      "  return caller(func, *(extras + args), **kw)\n",
      "/home/rajarshi/miniconda3/lib/python3.9/site-packages/decorator.py:232: PyEMMA_DeprecationWarning: Call to deprecated function \"vamp\". Called from /home/rajarshi/miniconda3/lib/python3.9/site-packages/decorator.py line 232. Use deeptime.decomposition.VAMP instead.\n",
      "  return caller(func, *(extras + args), **kw)\n",
      "/home/rajarshi/miniconda3/lib/python3.9/site-packages/decorator.py:232: PyEMMA_DeprecationWarning: Call to deprecated function \"vamp\". Called from /home/rajarshi/miniconda3/lib/python3.9/site-packages/decorator.py line 232. Use deeptime.decomposition.VAMP instead.\n",
      "  return caller(func, *(extras + args), **kw)\n",
      "/home/rajarshi/miniconda3/lib/python3.9/site-packages/decorator.py:232: PyEMMA_DeprecationWarning: Call to deprecated function \"vamp\". Called from /home/rajarshi/miniconda3/lib/python3.9/site-packages/decorator.py line 232. Use deeptime.decomposition.VAMP instead.\n",
      "  return caller(func, *(extras + args), **kw)\n",
      "/home/rajarshi/miniconda3/lib/python3.9/site-packages/decorator.py:232: PyEMMA_DeprecationWarning: Call to deprecated function \"vamp\". Called from /home/rajarshi/miniconda3/lib/python3.9/site-packages/decorator.py line 232. Use deeptime.decomposition.VAMP instead.\n",
      "  return caller(func, *(extras + args), **kw)\n",
      "/home/rajarshi/miniconda3/lib/python3.9/site-packages/decorator.py:232: PyEMMA_DeprecationWarning: Call to deprecated function \"vamp\". Called from /home/rajarshi/miniconda3/lib/python3.9/site-packages/decorator.py line 232. Use deeptime.decomposition.VAMP instead.\n",
      "  return caller(func, *(extras + args), **kw)\n",
      "/home/rajarshi/miniconda3/lib/python3.9/site-packages/decorator.py:232: PyEMMA_DeprecationWarning: Call to deprecated function \"vamp\". Called from /home/rajarshi/miniconda3/lib/python3.9/site-packages/decorator.py line 232. Use deeptime.decomposition.VAMP instead.\n",
      "  return caller(func, *(extras + args), **kw)\n",
      "/home/rajarshi/miniconda3/lib/python3.9/site-packages/decorator.py:232: PyEMMA_DeprecationWarning: Call to deprecated function \"vamp\". Called from /home/rajarshi/miniconda3/lib/python3.9/site-packages/decorator.py line 232. Use deeptime.decomposition.VAMP instead.\n",
      "  return caller(func, *(extras + args), **kw)\n",
      "/home/rajarshi/miniconda3/lib/python3.9/site-packages/decorator.py:232: PyEMMA_DeprecationWarning: Call to deprecated function \"vamp\". Called from /home/rajarshi/miniconda3/lib/python3.9/site-packages/decorator.py line 232. Use deeptime.decomposition.VAMP instead.\n",
      "  return caller(func, *(extras + args), **kw)\n",
      "/home/rajarshi/miniconda3/lib/python3.9/site-packages/decorator.py:232: PyEMMA_DeprecationWarning: Call to deprecated function \"vamp\". Called from /home/rajarshi/miniconda3/lib/python3.9/site-packages/decorator.py line 232. Use deeptime.decomposition.VAMP instead.\n",
      "  return caller(func, *(extras + args), **kw)\n",
      "/home/rajarshi/miniconda3/lib/python3.9/site-packages/decorator.py:232: PyEMMA_DeprecationWarning: Call to deprecated function \"vamp\". Called from /home/rajarshi/miniconda3/lib/python3.9/site-packages/decorator.py line 232. Use deeptime.decomposition.VAMP instead.\n",
      "  return caller(func, *(extras + args), **kw)\n",
      "/home/rajarshi/miniconda3/lib/python3.9/site-packages/decorator.py:232: PyEMMA_DeprecationWarning: Call to deprecated function \"vamp\". Called from /home/rajarshi/miniconda3/lib/python3.9/site-packages/decorator.py line 232. Use deeptime.decomposition.VAMP instead.\n",
      "  return caller(func, *(extras + args), **kw)\n",
      "/home/rajarshi/miniconda3/lib/python3.9/site-packages/decorator.py:232: PyEMMA_DeprecationWarning: Call to deprecated function \"vamp\". Called from /home/rajarshi/miniconda3/lib/python3.9/site-packages/decorator.py line 232. Use deeptime.decomposition.VAMP instead.\n",
      "  return caller(func, *(extras + args), **kw)\n",
      "/home/rajarshi/miniconda3/lib/python3.9/site-packages/decorator.py:232: PyEMMA_DeprecationWarning: Call to deprecated function \"vamp\". Called from /home/rajarshi/miniconda3/lib/python3.9/site-packages/decorator.py line 232. Use deeptime.decomposition.VAMP instead.\n",
      "  return caller(func, *(extras + args), **kw)\n",
      "/home/rajarshi/miniconda3/lib/python3.9/site-packages/decorator.py:232: PyEMMA_DeprecationWarning: Call to deprecated function \"vamp\". Called from /home/rajarshi/miniconda3/lib/python3.9/site-packages/decorator.py line 232. Use deeptime.decomposition.VAMP instead.\n",
      "  return caller(func, *(extras + args), **kw)\n",
      "/home/rajarshi/miniconda3/lib/python3.9/site-packages/decorator.py:232: PyEMMA_DeprecationWarning: Call to deprecated function \"vamp\". Called from /home/rajarshi/miniconda3/lib/python3.9/site-packages/decorator.py line 232. Use deeptime.decomposition.VAMP instead.\n",
      "  return caller(func, *(extras + args), **kw)\n",
      "/home/rajarshi/miniconda3/lib/python3.9/site-packages/decorator.py:232: PyEMMA_DeprecationWarning: Call to deprecated function \"vamp\". Called from /home/rajarshi/miniconda3/lib/python3.9/site-packages/decorator.py line 232. Use deeptime.decomposition.VAMP instead.\n",
      "  return caller(func, *(extras + args), **kw)\n",
      "/home/rajarshi/miniconda3/lib/python3.9/site-packages/decorator.py:232: PyEMMA_DeprecationWarning: Call to deprecated function \"vamp\". Called from /home/rajarshi/miniconda3/lib/python3.9/site-packages/decorator.py line 232. Use deeptime.decomposition.VAMP instead.\n",
      "  return caller(func, *(extras + args), **kw)\n",
      "/home/rajarshi/miniconda3/lib/python3.9/site-packages/decorator.py:232: PyEMMA_DeprecationWarning: Call to deprecated function \"vamp\". Called from /home/rajarshi/miniconda3/lib/python3.9/site-packages/decorator.py line 232. Use deeptime.decomposition.VAMP instead.\n",
      "  return caller(func, *(extras + args), **kw)\n",
      "/home/rajarshi/miniconda3/lib/python3.9/site-packages/decorator.py:232: PyEMMA_DeprecationWarning: Call to deprecated function \"vamp\". Called from /home/rajarshi/miniconda3/lib/python3.9/site-packages/decorator.py line 232. Use deeptime.decomposition.VAMP instead.\n",
      "  return caller(func, *(extras + args), **kw)\n"
     ]
    },
    {
     "name": "stderr",
     "output_type": "stream",
     "text": [
      "/home/rajarshi/miniconda3/lib/python3.9/site-packages/decorator.py:232: PyEMMA_DeprecationWarning: Call to deprecated function \"vamp\". Called from /home/rajarshi/miniconda3/lib/python3.9/site-packages/decorator.py line 232. Use deeptime.decomposition.VAMP instead.\n",
      "  return caller(func, *(extras + args), **kw)\n",
      "/home/rajarshi/miniconda3/lib/python3.9/site-packages/decorator.py:232: PyEMMA_DeprecationWarning: Call to deprecated function \"vamp\". Called from /home/rajarshi/miniconda3/lib/python3.9/site-packages/decorator.py line 232. Use deeptime.decomposition.VAMP instead.\n",
      "  return caller(func, *(extras + args), **kw)\n",
      "/home/rajarshi/miniconda3/lib/python3.9/site-packages/decorator.py:232: PyEMMA_DeprecationWarning: Call to deprecated function \"vamp\". Called from /home/rajarshi/miniconda3/lib/python3.9/site-packages/decorator.py line 232. Use deeptime.decomposition.VAMP instead.\n",
      "  return caller(func, *(extras + args), **kw)\n",
      "/home/rajarshi/miniconda3/lib/python3.9/site-packages/decorator.py:232: PyEMMA_DeprecationWarning: Call to deprecated function \"vamp\". Called from /home/rajarshi/miniconda3/lib/python3.9/site-packages/decorator.py line 232. Use deeptime.decomposition.VAMP instead.\n",
      "  return caller(func, *(extras + args), **kw)\n",
      "/home/rajarshi/miniconda3/lib/python3.9/site-packages/decorator.py:232: PyEMMA_DeprecationWarning: Call to deprecated function \"vamp\". Called from /home/rajarshi/miniconda3/lib/python3.9/site-packages/decorator.py line 232. Use deeptime.decomposition.VAMP instead.\n",
      "  return caller(func, *(extras + args), **kw)\n",
      "/home/rajarshi/miniconda3/lib/python3.9/site-packages/decorator.py:232: PyEMMA_DeprecationWarning: Call to deprecated function \"vamp\". Called from /home/rajarshi/miniconda3/lib/python3.9/site-packages/decorator.py line 232. Use deeptime.decomposition.VAMP instead.\n",
      "  return caller(func, *(extras + args), **kw)\n",
      "/home/rajarshi/miniconda3/lib/python3.9/site-packages/decorator.py:232: PyEMMA_DeprecationWarning: Call to deprecated function \"vamp\". Called from /home/rajarshi/miniconda3/lib/python3.9/site-packages/decorator.py line 232. Use deeptime.decomposition.VAMP instead.\n",
      "  return caller(func, *(extras + args), **kw)\n",
      "/home/rajarshi/miniconda3/lib/python3.9/site-packages/decorator.py:232: PyEMMA_DeprecationWarning: Call to deprecated function \"vamp\". Called from /home/rajarshi/miniconda3/lib/python3.9/site-packages/decorator.py line 232. Use deeptime.decomposition.VAMP instead.\n",
      "  return caller(func, *(extras + args), **kw)\n",
      "/home/rajarshi/miniconda3/lib/python3.9/site-packages/decorator.py:232: PyEMMA_DeprecationWarning: Call to deprecated function \"vamp\". Called from /home/rajarshi/miniconda3/lib/python3.9/site-packages/decorator.py line 232. Use deeptime.decomposition.VAMP instead.\n",
      "  return caller(func, *(extras + args), **kw)\n",
      "/home/rajarshi/miniconda3/lib/python3.9/site-packages/decorator.py:232: PyEMMA_DeprecationWarning: Call to deprecated function \"vamp\". Called from /home/rajarshi/miniconda3/lib/python3.9/site-packages/decorator.py line 232. Use deeptime.decomposition.VAMP instead.\n",
      "  return caller(func, *(extras + args), **kw)\n",
      "/home/rajarshi/miniconda3/lib/python3.9/site-packages/decorator.py:232: PyEMMA_DeprecationWarning: Call to deprecated function \"vamp\". Called from /home/rajarshi/miniconda3/lib/python3.9/site-packages/decorator.py line 232. Use deeptime.decomposition.VAMP instead.\n",
      "  return caller(func, *(extras + args), **kw)\n",
      "/home/rajarshi/miniconda3/lib/python3.9/site-packages/decorator.py:232: PyEMMA_DeprecationWarning: Call to deprecated function \"vamp\". Called from /home/rajarshi/miniconda3/lib/python3.9/site-packages/decorator.py line 232. Use deeptime.decomposition.VAMP instead.\n",
      "  return caller(func, *(extras + args), **kw)\n",
      "/home/rajarshi/miniconda3/lib/python3.9/site-packages/decorator.py:232: PyEMMA_DeprecationWarning: Call to deprecated function \"vamp\". Called from /home/rajarshi/miniconda3/lib/python3.9/site-packages/decorator.py line 232. Use deeptime.decomposition.VAMP instead.\n",
      "  return caller(func, *(extras + args), **kw)\n",
      "/home/rajarshi/miniconda3/lib/python3.9/site-packages/decorator.py:232: PyEMMA_DeprecationWarning: Call to deprecated function \"vamp\". Called from /home/rajarshi/miniconda3/lib/python3.9/site-packages/decorator.py line 232. Use deeptime.decomposition.VAMP instead.\n",
      "  return caller(func, *(extras + args), **kw)\n",
      "/home/rajarshi/miniconda3/lib/python3.9/site-packages/decorator.py:232: PyEMMA_DeprecationWarning: Call to deprecated function \"vamp\". Called from /home/rajarshi/miniconda3/lib/python3.9/site-packages/decorator.py line 232. Use deeptime.decomposition.VAMP instead.\n",
      "  return caller(func, *(extras + args), **kw)\n",
      "/home/rajarshi/miniconda3/lib/python3.9/site-packages/decorator.py:232: PyEMMA_DeprecationWarning: Call to deprecated function \"vamp\". Called from /home/rajarshi/miniconda3/lib/python3.9/site-packages/decorator.py line 232. Use deeptime.decomposition.VAMP instead.\n",
      "  return caller(func, *(extras + args), **kw)\n",
      "/home/rajarshi/miniconda3/lib/python3.9/site-packages/decorator.py:232: PyEMMA_DeprecationWarning: Call to deprecated function \"vamp\". Called from /home/rajarshi/miniconda3/lib/python3.9/site-packages/decorator.py line 232. Use deeptime.decomposition.VAMP instead.\n",
      "  return caller(func, *(extras + args), **kw)\n",
      "/home/rajarshi/miniconda3/lib/python3.9/site-packages/decorator.py:232: PyEMMA_DeprecationWarning: Call to deprecated function \"vamp\". Called from /home/rajarshi/miniconda3/lib/python3.9/site-packages/decorator.py line 232. Use deeptime.decomposition.VAMP instead.\n",
      "  return caller(func, *(extras + args), **kw)\n",
      "/home/rajarshi/miniconda3/lib/python3.9/site-packages/decorator.py:232: PyEMMA_DeprecationWarning: Call to deprecated function \"vamp\". Called from /home/rajarshi/miniconda3/lib/python3.9/site-packages/decorator.py line 232. Use deeptime.decomposition.VAMP instead.\n",
      "  return caller(func, *(extras + args), **kw)\n",
      "/home/rajarshi/miniconda3/lib/python3.9/site-packages/decorator.py:232: PyEMMA_DeprecationWarning: Call to deprecated function \"vamp\". Called from /home/rajarshi/miniconda3/lib/python3.9/site-packages/decorator.py line 232. Use deeptime.decomposition.VAMP instead.\n",
      "  return caller(func, *(extras + args), **kw)\n",
      "/home/rajarshi/miniconda3/lib/python3.9/site-packages/decorator.py:232: PyEMMA_DeprecationWarning: Call to deprecated function \"vamp\". Called from /home/rajarshi/miniconda3/lib/python3.9/site-packages/decorator.py line 232. Use deeptime.decomposition.VAMP instead.\n",
      "  return caller(func, *(extras + args), **kw)\n",
      "/home/rajarshi/miniconda3/lib/python3.9/site-packages/decorator.py:232: PyEMMA_DeprecationWarning: Call to deprecated function \"vamp\". Called from /home/rajarshi/miniconda3/lib/python3.9/site-packages/decorator.py line 232. Use deeptime.decomposition.VAMP instead.\n",
      "  return caller(func, *(extras + args), **kw)\n",
      "/home/rajarshi/miniconda3/lib/python3.9/site-packages/decorator.py:232: PyEMMA_DeprecationWarning: Call to deprecated function \"vamp\". Called from /home/rajarshi/miniconda3/lib/python3.9/site-packages/decorator.py line 232. Use deeptime.decomposition.VAMP instead.\n",
      "  return caller(func, *(extras + args), **kw)\n",
      "/home/rajarshi/miniconda3/lib/python3.9/site-packages/decorator.py:232: PyEMMA_DeprecationWarning: Call to deprecated function \"vamp\". Called from /home/rajarshi/miniconda3/lib/python3.9/site-packages/decorator.py line 232. Use deeptime.decomposition.VAMP instead.\n",
      "  return caller(func, *(extras + args), **kw)\n",
      "/home/rajarshi/miniconda3/lib/python3.9/site-packages/decorator.py:232: PyEMMA_DeprecationWarning: Call to deprecated function \"vamp\". Called from /home/rajarshi/miniconda3/lib/python3.9/site-packages/decorator.py line 232. Use deeptime.decomposition.VAMP instead.\n",
      "  return caller(func, *(extras + args), **kw)\n",
      "/home/rajarshi/miniconda3/lib/python3.9/site-packages/decorator.py:232: PyEMMA_DeprecationWarning: Call to deprecated function \"vamp\". Called from /home/rajarshi/miniconda3/lib/python3.9/site-packages/decorator.py line 232. Use deeptime.decomposition.VAMP instead.\n",
      "  return caller(func, *(extras + args), **kw)\n",
      "/home/rajarshi/miniconda3/lib/python3.9/site-packages/decorator.py:232: PyEMMA_DeprecationWarning: Call to deprecated function \"vamp\". Called from /home/rajarshi/miniconda3/lib/python3.9/site-packages/decorator.py line 232. Use deeptime.decomposition.VAMP instead.\n",
      "  return caller(func, *(extras + args), **kw)\n"
     ]
    },
    {
     "name": "stderr",
     "output_type": "stream",
     "text": [
      "/home/rajarshi/miniconda3/lib/python3.9/site-packages/decorator.py:232: PyEMMA_DeprecationWarning: Call to deprecated function \"vamp\". Called from /home/rajarshi/miniconda3/lib/python3.9/site-packages/decorator.py line 232. Use deeptime.decomposition.VAMP instead.\n",
      "  return caller(func, *(extras + args), **kw)\n",
      "/home/rajarshi/miniconda3/lib/python3.9/site-packages/decorator.py:232: PyEMMA_DeprecationWarning: Call to deprecated function \"vamp\". Called from /home/rajarshi/miniconda3/lib/python3.9/site-packages/decorator.py line 232. Use deeptime.decomposition.VAMP instead.\n",
      "  return caller(func, *(extras + args), **kw)\n",
      "/home/rajarshi/miniconda3/lib/python3.9/site-packages/decorator.py:232: PyEMMA_DeprecationWarning: Call to deprecated function \"vamp\". Called from /home/rajarshi/miniconda3/lib/python3.9/site-packages/decorator.py line 232. Use deeptime.decomposition.VAMP instead.\n",
      "  return caller(func, *(extras + args), **kw)\n",
      "/home/rajarshi/miniconda3/lib/python3.9/site-packages/decorator.py:232: PyEMMA_DeprecationWarning: Call to deprecated function \"vamp\". Called from /home/rajarshi/miniconda3/lib/python3.9/site-packages/decorator.py line 232. Use deeptime.decomposition.VAMP instead.\n",
      "  return caller(func, *(extras + args), **kw)\n",
      "/home/rajarshi/miniconda3/lib/python3.9/site-packages/decorator.py:232: PyEMMA_DeprecationWarning: Call to deprecated function \"vamp\". Called from /home/rajarshi/miniconda3/lib/python3.9/site-packages/decorator.py line 232. Use deeptime.decomposition.VAMP instead.\n",
      "  return caller(func, *(extras + args), **kw)\n",
      "/home/rajarshi/miniconda3/lib/python3.9/site-packages/decorator.py:232: PyEMMA_DeprecationWarning: Call to deprecated function \"vamp\". Called from /home/rajarshi/miniconda3/lib/python3.9/site-packages/decorator.py line 232. Use deeptime.decomposition.VAMP instead.\n",
      "  return caller(func, *(extras + args), **kw)\n",
      "/home/rajarshi/miniconda3/lib/python3.9/site-packages/decorator.py:232: PyEMMA_DeprecationWarning: Call to deprecated function \"vamp\". Called from /home/rajarshi/miniconda3/lib/python3.9/site-packages/decorator.py line 232. Use deeptime.decomposition.VAMP instead.\n",
      "  return caller(func, *(extras + args), **kw)\n",
      "/home/rajarshi/miniconda3/lib/python3.9/site-packages/decorator.py:232: PyEMMA_DeprecationWarning: Call to deprecated function \"vamp\". Called from /home/rajarshi/miniconda3/lib/python3.9/site-packages/decorator.py line 232. Use deeptime.decomposition.VAMP instead.\n",
      "  return caller(func, *(extras + args), **kw)\n",
      "/home/rajarshi/miniconda3/lib/python3.9/site-packages/decorator.py:232: PyEMMA_DeprecationWarning: Call to deprecated function \"vamp\". Called from /home/rajarshi/miniconda3/lib/python3.9/site-packages/decorator.py line 232. Use deeptime.decomposition.VAMP instead.\n",
      "  return caller(func, *(extras + args), **kw)\n",
      "/home/rajarshi/miniconda3/lib/python3.9/site-packages/decorator.py:232: PyEMMA_DeprecationWarning: Call to deprecated function \"vamp\". Called from /home/rajarshi/miniconda3/lib/python3.9/site-packages/decorator.py line 232. Use deeptime.decomposition.VAMP instead.\n",
      "  return caller(func, *(extras + args), **kw)\n",
      "/home/rajarshi/miniconda3/lib/python3.9/site-packages/decorator.py:232: PyEMMA_DeprecationWarning: Call to deprecated function \"vamp\". Called from /home/rajarshi/miniconda3/lib/python3.9/site-packages/decorator.py line 232. Use deeptime.decomposition.VAMP instead.\n",
      "  return caller(func, *(extras + args), **kw)\n",
      "/home/rajarshi/miniconda3/lib/python3.9/site-packages/decorator.py:232: PyEMMA_DeprecationWarning: Call to deprecated function \"vamp\". Called from /home/rajarshi/miniconda3/lib/python3.9/site-packages/decorator.py line 232. Use deeptime.decomposition.VAMP instead.\n",
      "  return caller(func, *(extras + args), **kw)\n",
      "/home/rajarshi/miniconda3/lib/python3.9/site-packages/decorator.py:232: PyEMMA_DeprecationWarning: Call to deprecated function \"vamp\". Called from /home/rajarshi/miniconda3/lib/python3.9/site-packages/decorator.py line 232. Use deeptime.decomposition.VAMP instead.\n",
      "  return caller(func, *(extras + args), **kw)\n",
      "/home/rajarshi/miniconda3/lib/python3.9/site-packages/decorator.py:232: PyEMMA_DeprecationWarning: Call to deprecated function \"vamp\". Called from /home/rajarshi/miniconda3/lib/python3.9/site-packages/decorator.py line 232. Use deeptime.decomposition.VAMP instead.\n",
      "  return caller(func, *(extras + args), **kw)\n",
      "/home/rajarshi/miniconda3/lib/python3.9/site-packages/decorator.py:232: PyEMMA_DeprecationWarning: Call to deprecated function \"vamp\". Called from /home/rajarshi/miniconda3/lib/python3.9/site-packages/decorator.py line 232. Use deeptime.decomposition.VAMP instead.\n",
      "  return caller(func, *(extras + args), **kw)\n",
      "/home/rajarshi/miniconda3/lib/python3.9/site-packages/decorator.py:232: PyEMMA_DeprecationWarning: Call to deprecated function \"vamp\". Called from /home/rajarshi/miniconda3/lib/python3.9/site-packages/decorator.py line 232. Use deeptime.decomposition.VAMP instead.\n",
      "  return caller(func, *(extras + args), **kw)\n",
      "/home/rajarshi/miniconda3/lib/python3.9/site-packages/decorator.py:232: PyEMMA_DeprecationWarning: Call to deprecated function \"vamp\". Called from /home/rajarshi/miniconda3/lib/python3.9/site-packages/decorator.py line 232. Use deeptime.decomposition.VAMP instead.\n",
      "  return caller(func, *(extras + args), **kw)\n",
      "/home/rajarshi/miniconda3/lib/python3.9/site-packages/decorator.py:232: PyEMMA_DeprecationWarning: Call to deprecated function \"vamp\". Called from /home/rajarshi/miniconda3/lib/python3.9/site-packages/decorator.py line 232. Use deeptime.decomposition.VAMP instead.\n",
      "  return caller(func, *(extras + args), **kw)\n",
      "/home/rajarshi/miniconda3/lib/python3.9/site-packages/decorator.py:232: PyEMMA_DeprecationWarning: Call to deprecated function \"vamp\". Called from /home/rajarshi/miniconda3/lib/python3.9/site-packages/decorator.py line 232. Use deeptime.decomposition.VAMP instead.\n",
      "  return caller(func, *(extras + args), **kw)\n",
      "/home/rajarshi/miniconda3/lib/python3.9/site-packages/decorator.py:232: PyEMMA_DeprecationWarning: Call to deprecated function \"vamp\". Called from /home/rajarshi/miniconda3/lib/python3.9/site-packages/decorator.py line 232. Use deeptime.decomposition.VAMP instead.\n",
      "  return caller(func, *(extras + args), **kw)\n",
      "/home/rajarshi/miniconda3/lib/python3.9/site-packages/decorator.py:232: PyEMMA_DeprecationWarning: Call to deprecated function \"vamp\". Called from /home/rajarshi/miniconda3/lib/python3.9/site-packages/decorator.py line 232. Use deeptime.decomposition.VAMP instead.\n",
      "  return caller(func, *(extras + args), **kw)\n",
      "/home/rajarshi/miniconda3/lib/python3.9/site-packages/decorator.py:232: PyEMMA_DeprecationWarning: Call to deprecated function \"vamp\". Called from /home/rajarshi/miniconda3/lib/python3.9/site-packages/decorator.py line 232. Use deeptime.decomposition.VAMP instead.\n",
      "  return caller(func, *(extras + args), **kw)\n",
      "/home/rajarshi/miniconda3/lib/python3.9/site-packages/decorator.py:232: PyEMMA_DeprecationWarning: Call to deprecated function \"vamp\". Called from /home/rajarshi/miniconda3/lib/python3.9/site-packages/decorator.py line 232. Use deeptime.decomposition.VAMP instead.\n",
      "  return caller(func, *(extras + args), **kw)\n",
      "/home/rajarshi/miniconda3/lib/python3.9/site-packages/decorator.py:232: PyEMMA_DeprecationWarning: Call to deprecated function \"vamp\". Called from /home/rajarshi/miniconda3/lib/python3.9/site-packages/decorator.py line 232. Use deeptime.decomposition.VAMP instead.\n",
      "  return caller(func, *(extras + args), **kw)\n",
      "/home/rajarshi/miniconda3/lib/python3.9/site-packages/decorator.py:232: PyEMMA_DeprecationWarning: Call to deprecated function \"vamp\". Called from /home/rajarshi/miniconda3/lib/python3.9/site-packages/decorator.py line 232. Use deeptime.decomposition.VAMP instead.\n",
      "  return caller(func, *(extras + args), **kw)\n",
      "/home/rajarshi/miniconda3/lib/python3.9/site-packages/decorator.py:232: PyEMMA_DeprecationWarning: Call to deprecated function \"vamp\". Called from /home/rajarshi/miniconda3/lib/python3.9/site-packages/decorator.py line 232. Use deeptime.decomposition.VAMP instead.\n",
      "  return caller(func, *(extras + args), **kw)\n",
      "/home/rajarshi/miniconda3/lib/python3.9/site-packages/decorator.py:232: PyEMMA_DeprecationWarning: Call to deprecated function \"vamp\". Called from /home/rajarshi/miniconda3/lib/python3.9/site-packages/decorator.py line 232. Use deeptime.decomposition.VAMP instead.\n",
      "  return caller(func, *(extras + args), **kw)\n"
     ]
    },
    {
     "name": "stderr",
     "output_type": "stream",
     "text": [
      "/home/rajarshi/miniconda3/lib/python3.9/site-packages/decorator.py:232: PyEMMA_DeprecationWarning: Call to deprecated function \"vamp\". Called from /home/rajarshi/miniconda3/lib/python3.9/site-packages/decorator.py line 232. Use deeptime.decomposition.VAMP instead.\n",
      "  return caller(func, *(extras + args), **kw)\n",
      "/home/rajarshi/miniconda3/lib/python3.9/site-packages/decorator.py:232: PyEMMA_DeprecationWarning: Call to deprecated function \"vamp\". Called from /home/rajarshi/miniconda3/lib/python3.9/site-packages/decorator.py line 232. Use deeptime.decomposition.VAMP instead.\n",
      "  return caller(func, *(extras + args), **kw)\n",
      "/home/rajarshi/miniconda3/lib/python3.9/site-packages/decorator.py:232: PyEMMA_DeprecationWarning: Call to deprecated function \"vamp\". Called from /home/rajarshi/miniconda3/lib/python3.9/site-packages/decorator.py line 232. Use deeptime.decomposition.VAMP instead.\n",
      "  return caller(func, *(extras + args), **kw)\n",
      "/home/rajarshi/miniconda3/lib/python3.9/site-packages/decorator.py:232: PyEMMA_DeprecationWarning: Call to deprecated function \"vamp\". Called from /home/rajarshi/miniconda3/lib/python3.9/site-packages/decorator.py line 232. Use deeptime.decomposition.VAMP instead.\n",
      "  return caller(func, *(extras + args), **kw)\n",
      "/home/rajarshi/miniconda3/lib/python3.9/site-packages/decorator.py:232: PyEMMA_DeprecationWarning: Call to deprecated function \"vamp\". Called from /home/rajarshi/miniconda3/lib/python3.9/site-packages/decorator.py line 232. Use deeptime.decomposition.VAMP instead.\n",
      "  return caller(func, *(extras + args), **kw)\n",
      "/home/rajarshi/miniconda3/lib/python3.9/site-packages/decorator.py:232: PyEMMA_DeprecationWarning: Call to deprecated function \"vamp\". Called from /home/rajarshi/miniconda3/lib/python3.9/site-packages/decorator.py line 232. Use deeptime.decomposition.VAMP instead.\n",
      "  return caller(func, *(extras + args), **kw)\n",
      "/home/rajarshi/miniconda3/lib/python3.9/site-packages/decorator.py:232: PyEMMA_DeprecationWarning: Call to deprecated function \"vamp\". Called from /home/rajarshi/miniconda3/lib/python3.9/site-packages/decorator.py line 232. Use deeptime.decomposition.VAMP instead.\n",
      "  return caller(func, *(extras + args), **kw)\n",
      "/home/rajarshi/miniconda3/lib/python3.9/site-packages/decorator.py:232: PyEMMA_DeprecationWarning: Call to deprecated function \"vamp\". Called from /home/rajarshi/miniconda3/lib/python3.9/site-packages/decorator.py line 232. Use deeptime.decomposition.VAMP instead.\n",
      "  return caller(func, *(extras + args), **kw)\n",
      "/home/rajarshi/miniconda3/lib/python3.9/site-packages/decorator.py:232: PyEMMA_DeprecationWarning: Call to deprecated function \"vamp\". Called from /home/rajarshi/miniconda3/lib/python3.9/site-packages/decorator.py line 232. Use deeptime.decomposition.VAMP instead.\n",
      "  return caller(func, *(extras + args), **kw)\n",
      "/home/rajarshi/miniconda3/lib/python3.9/site-packages/decorator.py:232: PyEMMA_DeprecationWarning: Call to deprecated function \"vamp\". Called from /home/rajarshi/miniconda3/lib/python3.9/site-packages/decorator.py line 232. Use deeptime.decomposition.VAMP instead.\n",
      "  return caller(func, *(extras + args), **kw)\n",
      "/home/rajarshi/miniconda3/lib/python3.9/site-packages/decorator.py:232: PyEMMA_DeprecationWarning: Call to deprecated function \"vamp\". Called from /home/rajarshi/miniconda3/lib/python3.9/site-packages/decorator.py line 232. Use deeptime.decomposition.VAMP instead.\n",
      "  return caller(func, *(extras + args), **kw)\n",
      "/home/rajarshi/miniconda3/lib/python3.9/site-packages/decorator.py:232: PyEMMA_DeprecationWarning: Call to deprecated function \"vamp\". Called from /home/rajarshi/miniconda3/lib/python3.9/site-packages/decorator.py line 232. Use deeptime.decomposition.VAMP instead.\n",
      "  return caller(func, *(extras + args), **kw)\n",
      "/home/rajarshi/miniconda3/lib/python3.9/site-packages/decorator.py:232: PyEMMA_DeprecationWarning: Call to deprecated function \"vamp\". Called from /home/rajarshi/miniconda3/lib/python3.9/site-packages/decorator.py line 232. Use deeptime.decomposition.VAMP instead.\n",
      "  return caller(func, *(extras + args), **kw)\n",
      "/home/rajarshi/miniconda3/lib/python3.9/site-packages/decorator.py:232: PyEMMA_DeprecationWarning: Call to deprecated function \"vamp\". Called from /home/rajarshi/miniconda3/lib/python3.9/site-packages/decorator.py line 232. Use deeptime.decomposition.VAMP instead.\n",
      "  return caller(func, *(extras + args), **kw)\n",
      "/home/rajarshi/miniconda3/lib/python3.9/site-packages/decorator.py:232: PyEMMA_DeprecationWarning: Call to deprecated function \"vamp\". Called from /home/rajarshi/miniconda3/lib/python3.9/site-packages/decorator.py line 232. Use deeptime.decomposition.VAMP instead.\n",
      "  return caller(func, *(extras + args), **kw)\n",
      "/home/rajarshi/miniconda3/lib/python3.9/site-packages/decorator.py:232: PyEMMA_DeprecationWarning: Call to deprecated function \"vamp\". Called from /home/rajarshi/miniconda3/lib/python3.9/site-packages/decorator.py line 232. Use deeptime.decomposition.VAMP instead.\n",
      "  return caller(func, *(extras + args), **kw)\n",
      "/home/rajarshi/miniconda3/lib/python3.9/site-packages/decorator.py:232: PyEMMA_DeprecationWarning: Call to deprecated function \"vamp\". Called from /home/rajarshi/miniconda3/lib/python3.9/site-packages/decorator.py line 232. Use deeptime.decomposition.VAMP instead.\n",
      "  return caller(func, *(extras + args), **kw)\n",
      "/home/rajarshi/miniconda3/lib/python3.9/site-packages/decorator.py:232: PyEMMA_DeprecationWarning: Call to deprecated function \"vamp\". Called from /home/rajarshi/miniconda3/lib/python3.9/site-packages/decorator.py line 232. Use deeptime.decomposition.VAMP instead.\n",
      "  return caller(func, *(extras + args), **kw)\n",
      "/home/rajarshi/miniconda3/lib/python3.9/site-packages/decorator.py:232: PyEMMA_DeprecationWarning: Call to deprecated function \"vamp\". Called from /home/rajarshi/miniconda3/lib/python3.9/site-packages/decorator.py line 232. Use deeptime.decomposition.VAMP instead.\n",
      "  return caller(func, *(extras + args), **kw)\n",
      "/home/rajarshi/miniconda3/lib/python3.9/site-packages/decorator.py:232: PyEMMA_DeprecationWarning: Call to deprecated function \"vamp\". Called from /home/rajarshi/miniconda3/lib/python3.9/site-packages/decorator.py line 232. Use deeptime.decomposition.VAMP instead.\n",
      "  return caller(func, *(extras + args), **kw)\n",
      "/home/rajarshi/miniconda3/lib/python3.9/site-packages/decorator.py:232: PyEMMA_DeprecationWarning: Call to deprecated function \"vamp\". Called from /home/rajarshi/miniconda3/lib/python3.9/site-packages/decorator.py line 232. Use deeptime.decomposition.VAMP instead.\n",
      "  return caller(func, *(extras + args), **kw)\n",
      "/home/rajarshi/miniconda3/lib/python3.9/site-packages/decorator.py:232: PyEMMA_DeprecationWarning: Call to deprecated function \"vamp\". Called from /home/rajarshi/miniconda3/lib/python3.9/site-packages/decorator.py line 232. Use deeptime.decomposition.VAMP instead.\n",
      "  return caller(func, *(extras + args), **kw)\n",
      "/home/rajarshi/miniconda3/lib/python3.9/site-packages/decorator.py:232: PyEMMA_DeprecationWarning: Call to deprecated function \"vamp\". Called from /home/rajarshi/miniconda3/lib/python3.9/site-packages/decorator.py line 232. Use deeptime.decomposition.VAMP instead.\n",
      "  return caller(func, *(extras + args), **kw)\n",
      "/home/rajarshi/miniconda3/lib/python3.9/site-packages/decorator.py:232: PyEMMA_DeprecationWarning: Call to deprecated function \"vamp\". Called from /home/rajarshi/miniconda3/lib/python3.9/site-packages/decorator.py line 232. Use deeptime.decomposition.VAMP instead.\n",
      "  return caller(func, *(extras + args), **kw)\n",
      "/home/rajarshi/miniconda3/lib/python3.9/site-packages/decorator.py:232: PyEMMA_DeprecationWarning: Call to deprecated function \"vamp\". Called from /home/rajarshi/miniconda3/lib/python3.9/site-packages/decorator.py line 232. Use deeptime.decomposition.VAMP instead.\n",
      "  return caller(func, *(extras + args), **kw)\n",
      "/home/rajarshi/miniconda3/lib/python3.9/site-packages/decorator.py:232: PyEMMA_DeprecationWarning: Call to deprecated function \"vamp\". Called from /home/rajarshi/miniconda3/lib/python3.9/site-packages/decorator.py line 232. Use deeptime.decomposition.VAMP instead.\n",
      "  return caller(func, *(extras + args), **kw)\n",
      "/home/rajarshi/miniconda3/lib/python3.9/site-packages/decorator.py:232: PyEMMA_DeprecationWarning: Call to deprecated function \"vamp\". Called from /home/rajarshi/miniconda3/lib/python3.9/site-packages/decorator.py line 232. Use deeptime.decomposition.VAMP instead.\n",
      "  return caller(func, *(extras + args), **kw)\n"
     ]
    },
    {
     "name": "stderr",
     "output_type": "stream",
     "text": [
      "/home/rajarshi/miniconda3/lib/python3.9/site-packages/decorator.py:232: PyEMMA_DeprecationWarning: Call to deprecated function \"vamp\". Called from /home/rajarshi/miniconda3/lib/python3.9/site-packages/decorator.py line 232. Use deeptime.decomposition.VAMP instead.\n",
      "  return caller(func, *(extras + args), **kw)\n",
      "/home/rajarshi/miniconda3/lib/python3.9/site-packages/decorator.py:232: PyEMMA_DeprecationWarning: Call to deprecated function \"vamp\". Called from /home/rajarshi/miniconda3/lib/python3.9/site-packages/decorator.py line 232. Use deeptime.decomposition.VAMP instead.\n",
      "  return caller(func, *(extras + args), **kw)\n",
      "/home/rajarshi/miniconda3/lib/python3.9/site-packages/decorator.py:232: PyEMMA_DeprecationWarning: Call to deprecated function \"vamp\". Called from /home/rajarshi/miniconda3/lib/python3.9/site-packages/decorator.py line 232. Use deeptime.decomposition.VAMP instead.\n",
      "  return caller(func, *(extras + args), **kw)\n",
      "/home/rajarshi/miniconda3/lib/python3.9/site-packages/decorator.py:232: PyEMMA_DeprecationWarning: Call to deprecated function \"vamp\". Called from /home/rajarshi/miniconda3/lib/python3.9/site-packages/decorator.py line 232. Use deeptime.decomposition.VAMP instead.\n",
      "  return caller(func, *(extras + args), **kw)\n",
      "/home/rajarshi/miniconda3/lib/python3.9/site-packages/decorator.py:232: PyEMMA_DeprecationWarning: Call to deprecated function \"vamp\". Called from /home/rajarshi/miniconda3/lib/python3.9/site-packages/decorator.py line 232. Use deeptime.decomposition.VAMP instead.\n",
      "  return caller(func, *(extras + args), **kw)\n",
      "/home/rajarshi/miniconda3/lib/python3.9/site-packages/decorator.py:232: PyEMMA_DeprecationWarning: Call to deprecated function \"vamp\". Called from /home/rajarshi/miniconda3/lib/python3.9/site-packages/decorator.py line 232. Use deeptime.decomposition.VAMP instead.\n",
      "  return caller(func, *(extras + args), **kw)\n",
      "/home/rajarshi/miniconda3/lib/python3.9/site-packages/decorator.py:232: PyEMMA_DeprecationWarning: Call to deprecated function \"vamp\". Called from /home/rajarshi/miniconda3/lib/python3.9/site-packages/decorator.py line 232. Use deeptime.decomposition.VAMP instead.\n",
      "  return caller(func, *(extras + args), **kw)\n",
      "/home/rajarshi/miniconda3/lib/python3.9/site-packages/decorator.py:232: PyEMMA_DeprecationWarning: Call to deprecated function \"vamp\". Called from /home/rajarshi/miniconda3/lib/python3.9/site-packages/decorator.py line 232. Use deeptime.decomposition.VAMP instead.\n",
      "  return caller(func, *(extras + args), **kw)\n",
      "/home/rajarshi/miniconda3/lib/python3.9/site-packages/decorator.py:232: PyEMMA_DeprecationWarning: Call to deprecated function \"vamp\". Called from /home/rajarshi/miniconda3/lib/python3.9/site-packages/decorator.py line 232. Use deeptime.decomposition.VAMP instead.\n",
      "  return caller(func, *(extras + args), **kw)\n",
      "/home/rajarshi/miniconda3/lib/python3.9/site-packages/decorator.py:232: PyEMMA_DeprecationWarning: Call to deprecated function \"vamp\". Called from /home/rajarshi/miniconda3/lib/python3.9/site-packages/decorator.py line 232. Use deeptime.decomposition.VAMP instead.\n",
      "  return caller(func, *(extras + args), **kw)\n",
      "/home/rajarshi/miniconda3/lib/python3.9/site-packages/decorator.py:232: PyEMMA_DeprecationWarning: Call to deprecated function \"vamp\". Called from /home/rajarshi/miniconda3/lib/python3.9/site-packages/decorator.py line 232. Use deeptime.decomposition.VAMP instead.\n",
      "  return caller(func, *(extras + args), **kw)\n",
      "/home/rajarshi/miniconda3/lib/python3.9/site-packages/decorator.py:232: PyEMMA_DeprecationWarning: Call to deprecated function \"vamp\". Called from /home/rajarshi/miniconda3/lib/python3.9/site-packages/decorator.py line 232. Use deeptime.decomposition.VAMP instead.\n",
      "  return caller(func, *(extras + args), **kw)\n",
      "/home/rajarshi/miniconda3/lib/python3.9/site-packages/decorator.py:232: PyEMMA_DeprecationWarning: Call to deprecated function \"vamp\". Called from /home/rajarshi/miniconda3/lib/python3.9/site-packages/decorator.py line 232. Use deeptime.decomposition.VAMP instead.\n",
      "  return caller(func, *(extras + args), **kw)\n",
      "/home/rajarshi/miniconda3/lib/python3.9/site-packages/decorator.py:232: PyEMMA_DeprecationWarning: Call to deprecated function \"vamp\". Called from /home/rajarshi/miniconda3/lib/python3.9/site-packages/decorator.py line 232. Use deeptime.decomposition.VAMP instead.\n",
      "  return caller(func, *(extras + args), **kw)\n",
      "/home/rajarshi/miniconda3/lib/python3.9/site-packages/decorator.py:232: PyEMMA_DeprecationWarning: Call to deprecated function \"vamp\". Called from /home/rajarshi/miniconda3/lib/python3.9/site-packages/decorator.py line 232. Use deeptime.decomposition.VAMP instead.\n",
      "  return caller(func, *(extras + args), **kw)\n",
      "/home/rajarshi/miniconda3/lib/python3.9/site-packages/decorator.py:232: PyEMMA_DeprecationWarning: Call to deprecated function \"vamp\". Called from /home/rajarshi/miniconda3/lib/python3.9/site-packages/decorator.py line 232. Use deeptime.decomposition.VAMP instead.\n",
      "  return caller(func, *(extras + args), **kw)\n",
      "/home/rajarshi/miniconda3/lib/python3.9/site-packages/decorator.py:232: PyEMMA_DeprecationWarning: Call to deprecated function \"vamp\". Called from /home/rajarshi/miniconda3/lib/python3.9/site-packages/decorator.py line 232. Use deeptime.decomposition.VAMP instead.\n",
      "  return caller(func, *(extras + args), **kw)\n",
      "/home/rajarshi/miniconda3/lib/python3.9/site-packages/decorator.py:232: PyEMMA_DeprecationWarning: Call to deprecated function \"vamp\". Called from /home/rajarshi/miniconda3/lib/python3.9/site-packages/decorator.py line 232. Use deeptime.decomposition.VAMP instead.\n",
      "  return caller(func, *(extras + args), **kw)\n",
      "/home/rajarshi/miniconda3/lib/python3.9/site-packages/decorator.py:232: PyEMMA_DeprecationWarning: Call to deprecated function \"vamp\". Called from /home/rajarshi/miniconda3/lib/python3.9/site-packages/decorator.py line 232. Use deeptime.decomposition.VAMP instead.\n",
      "  return caller(func, *(extras + args), **kw)\n",
      "/home/rajarshi/miniconda3/lib/python3.9/site-packages/decorator.py:232: PyEMMA_DeprecationWarning: Call to deprecated function \"vamp\". Called from /home/rajarshi/miniconda3/lib/python3.9/site-packages/decorator.py line 232. Use deeptime.decomposition.VAMP instead.\n",
      "  return caller(func, *(extras + args), **kw)\n",
      "/home/rajarshi/miniconda3/lib/python3.9/site-packages/decorator.py:232: PyEMMA_DeprecationWarning: Call to deprecated function \"vamp\". Called from /home/rajarshi/miniconda3/lib/python3.9/site-packages/decorator.py line 232. Use deeptime.decomposition.VAMP instead.\n",
      "  return caller(func, *(extras + args), **kw)\n",
      "/home/rajarshi/miniconda3/lib/python3.9/site-packages/decorator.py:232: PyEMMA_DeprecationWarning: Call to deprecated function \"vamp\". Called from /home/rajarshi/miniconda3/lib/python3.9/site-packages/decorator.py line 232. Use deeptime.decomposition.VAMP instead.\n",
      "  return caller(func, *(extras + args), **kw)\n",
      "/home/rajarshi/miniconda3/lib/python3.9/site-packages/decorator.py:232: PyEMMA_DeprecationWarning: Call to deprecated function \"vamp\". Called from /home/rajarshi/miniconda3/lib/python3.9/site-packages/decorator.py line 232. Use deeptime.decomposition.VAMP instead.\n",
      "  return caller(func, *(extras + args), **kw)\n",
      "/home/rajarshi/miniconda3/lib/python3.9/site-packages/decorator.py:232: PyEMMA_DeprecationWarning: Call to deprecated function \"vamp\". Called from /home/rajarshi/miniconda3/lib/python3.9/site-packages/decorator.py line 232. Use deeptime.decomposition.VAMP instead.\n",
      "  return caller(func, *(extras + args), **kw)\n",
      "/home/rajarshi/miniconda3/lib/python3.9/site-packages/decorator.py:232: PyEMMA_DeprecationWarning: Call to deprecated function \"vamp\". Called from /home/rajarshi/miniconda3/lib/python3.9/site-packages/decorator.py line 232. Use deeptime.decomposition.VAMP instead.\n",
      "  return caller(func, *(extras + args), **kw)\n",
      "/home/rajarshi/miniconda3/lib/python3.9/site-packages/decorator.py:232: PyEMMA_DeprecationWarning: Call to deprecated function \"vamp\". Called from /home/rajarshi/miniconda3/lib/python3.9/site-packages/decorator.py line 232. Use deeptime.decomposition.VAMP instead.\n",
      "  return caller(func, *(extras + args), **kw)\n",
      "/home/rajarshi/miniconda3/lib/python3.9/site-packages/decorator.py:232: PyEMMA_DeprecationWarning: Call to deprecated function \"vamp\". Called from /home/rajarshi/miniconda3/lib/python3.9/site-packages/decorator.py line 232. Use deeptime.decomposition.VAMP instead.\n",
      "  return caller(func, *(extras + args), **kw)\n"
     ]
    },
    {
     "name": "stderr",
     "output_type": "stream",
     "text": [
      "/home/rajarshi/miniconda3/lib/python3.9/site-packages/decorator.py:232: PyEMMA_DeprecationWarning: Call to deprecated function \"vamp\". Called from /home/rajarshi/miniconda3/lib/python3.9/site-packages/decorator.py line 232. Use deeptime.decomposition.VAMP instead.\n",
      "  return caller(func, *(extras + args), **kw)\n",
      "/home/rajarshi/miniconda3/lib/python3.9/site-packages/decorator.py:232: PyEMMA_DeprecationWarning: Call to deprecated function \"vamp\". Called from /home/rajarshi/miniconda3/lib/python3.9/site-packages/decorator.py line 232. Use deeptime.decomposition.VAMP instead.\n",
      "  return caller(func, *(extras + args), **kw)\n",
      "/home/rajarshi/miniconda3/lib/python3.9/site-packages/decorator.py:232: PyEMMA_DeprecationWarning: Call to deprecated function \"vamp\". Called from /home/rajarshi/miniconda3/lib/python3.9/site-packages/decorator.py line 232. Use deeptime.decomposition.VAMP instead.\n",
      "  return caller(func, *(extras + args), **kw)\n",
      "/home/rajarshi/miniconda3/lib/python3.9/site-packages/decorator.py:232: PyEMMA_DeprecationWarning: Call to deprecated function \"vamp\". Called from /home/rajarshi/miniconda3/lib/python3.9/site-packages/decorator.py line 232. Use deeptime.decomposition.VAMP instead.\n",
      "  return caller(func, *(extras + args), **kw)\n",
      "/home/rajarshi/miniconda3/lib/python3.9/site-packages/decorator.py:232: PyEMMA_DeprecationWarning: Call to deprecated function \"vamp\". Called from /home/rajarshi/miniconda3/lib/python3.9/site-packages/decorator.py line 232. Use deeptime.decomposition.VAMP instead.\n",
      "  return caller(func, *(extras + args), **kw)\n",
      "/home/rajarshi/miniconda3/lib/python3.9/site-packages/decorator.py:232: PyEMMA_DeprecationWarning: Call to deprecated function \"vamp\". Called from /home/rajarshi/miniconda3/lib/python3.9/site-packages/decorator.py line 232. Use deeptime.decomposition.VAMP instead.\n",
      "  return caller(func, *(extras + args), **kw)\n",
      "/home/rajarshi/miniconda3/lib/python3.9/site-packages/decorator.py:232: PyEMMA_DeprecationWarning: Call to deprecated function \"vamp\". Called from /home/rajarshi/miniconda3/lib/python3.9/site-packages/decorator.py line 232. Use deeptime.decomposition.VAMP instead.\n",
      "  return caller(func, *(extras + args), **kw)\n",
      "/home/rajarshi/miniconda3/lib/python3.9/site-packages/decorator.py:232: PyEMMA_DeprecationWarning: Call to deprecated function \"vamp\". Called from /home/rajarshi/miniconda3/lib/python3.9/site-packages/decorator.py line 232. Use deeptime.decomposition.VAMP instead.\n",
      "  return caller(func, *(extras + args), **kw)\n",
      "/home/rajarshi/miniconda3/lib/python3.9/site-packages/decorator.py:232: PyEMMA_DeprecationWarning: Call to deprecated function \"vamp\". Called from /home/rajarshi/miniconda3/lib/python3.9/site-packages/decorator.py line 232. Use deeptime.decomposition.VAMP instead.\n",
      "  return caller(func, *(extras + args), **kw)\n",
      "/home/rajarshi/miniconda3/lib/python3.9/site-packages/decorator.py:232: PyEMMA_DeprecationWarning: Call to deprecated function \"vamp\". Called from /home/rajarshi/miniconda3/lib/python3.9/site-packages/decorator.py line 232. Use deeptime.decomposition.VAMP instead.\n",
      "  return caller(func, *(extras + args), **kw)\n",
      "/home/rajarshi/miniconda3/lib/python3.9/site-packages/decorator.py:232: PyEMMA_DeprecationWarning: Call to deprecated function \"vamp\". Called from /home/rajarshi/miniconda3/lib/python3.9/site-packages/decorator.py line 232. Use deeptime.decomposition.VAMP instead.\n",
      "  return caller(func, *(extras + args), **kw)\n",
      "/home/rajarshi/miniconda3/lib/python3.9/site-packages/decorator.py:232: PyEMMA_DeprecationWarning: Call to deprecated function \"vamp\". Called from /home/rajarshi/miniconda3/lib/python3.9/site-packages/decorator.py line 232. Use deeptime.decomposition.VAMP instead.\n",
      "  return caller(func, *(extras + args), **kw)\n",
      "/home/rajarshi/miniconda3/lib/python3.9/site-packages/decorator.py:232: PyEMMA_DeprecationWarning: Call to deprecated function \"vamp\". Called from /home/rajarshi/miniconda3/lib/python3.9/site-packages/decorator.py line 232. Use deeptime.decomposition.VAMP instead.\n",
      "  return caller(func, *(extras + args), **kw)\n",
      "/home/rajarshi/miniconda3/lib/python3.9/site-packages/decorator.py:232: PyEMMA_DeprecationWarning: Call to deprecated function \"vamp\". Called from /home/rajarshi/miniconda3/lib/python3.9/site-packages/decorator.py line 232. Use deeptime.decomposition.VAMP instead.\n",
      "  return caller(func, *(extras + args), **kw)\n",
      "/home/rajarshi/miniconda3/lib/python3.9/site-packages/decorator.py:232: PyEMMA_DeprecationWarning: Call to deprecated function \"vamp\". Called from /home/rajarshi/miniconda3/lib/python3.9/site-packages/decorator.py line 232. Use deeptime.decomposition.VAMP instead.\n",
      "  return caller(func, *(extras + args), **kw)\n",
      "/home/rajarshi/miniconda3/lib/python3.9/site-packages/decorator.py:232: PyEMMA_DeprecationWarning: Call to deprecated function \"vamp\". Called from /home/rajarshi/miniconda3/lib/python3.9/site-packages/decorator.py line 232. Use deeptime.decomposition.VAMP instead.\n",
      "  return caller(func, *(extras + args), **kw)\n",
      "/home/rajarshi/miniconda3/lib/python3.9/site-packages/decorator.py:232: PyEMMA_DeprecationWarning: Call to deprecated function \"vamp\". Called from /home/rajarshi/miniconda3/lib/python3.9/site-packages/decorator.py line 232. Use deeptime.decomposition.VAMP instead.\n",
      "  return caller(func, *(extras + args), **kw)\n",
      "/home/rajarshi/miniconda3/lib/python3.9/site-packages/decorator.py:232: PyEMMA_DeprecationWarning: Call to deprecated function \"vamp\". Called from /home/rajarshi/miniconda3/lib/python3.9/site-packages/decorator.py line 232. Use deeptime.decomposition.VAMP instead.\n",
      "  return caller(func, *(extras + args), **kw)\n",
      "/home/rajarshi/miniconda3/lib/python3.9/site-packages/decorator.py:232: PyEMMA_DeprecationWarning: Call to deprecated function \"vamp\". Called from /home/rajarshi/miniconda3/lib/python3.9/site-packages/decorator.py line 232. Use deeptime.decomposition.VAMP instead.\n",
      "  return caller(func, *(extras + args), **kw)\n",
      "/home/rajarshi/miniconda3/lib/python3.9/site-packages/decorator.py:232: PyEMMA_DeprecationWarning: Call to deprecated function \"vamp\". Called from /home/rajarshi/miniconda3/lib/python3.9/site-packages/decorator.py line 232. Use deeptime.decomposition.VAMP instead.\n",
      "  return caller(func, *(extras + args), **kw)\n",
      "/home/rajarshi/miniconda3/lib/python3.9/site-packages/decorator.py:232: PyEMMA_DeprecationWarning: Call to deprecated function \"vamp\". Called from /home/rajarshi/miniconda3/lib/python3.9/site-packages/decorator.py line 232. Use deeptime.decomposition.VAMP instead.\n",
      "  return caller(func, *(extras + args), **kw)\n",
      "/home/rajarshi/miniconda3/lib/python3.9/site-packages/decorator.py:232: PyEMMA_DeprecationWarning: Call to deprecated function \"vamp\". Called from /home/rajarshi/miniconda3/lib/python3.9/site-packages/decorator.py line 232. Use deeptime.decomposition.VAMP instead.\n",
      "  return caller(func, *(extras + args), **kw)\n",
      "/home/rajarshi/miniconda3/lib/python3.9/site-packages/decorator.py:232: PyEMMA_DeprecationWarning: Call to deprecated function \"vamp\". Called from /home/rajarshi/miniconda3/lib/python3.9/site-packages/decorator.py line 232. Use deeptime.decomposition.VAMP instead.\n",
      "  return caller(func, *(extras + args), **kw)\n",
      "/home/rajarshi/miniconda3/lib/python3.9/site-packages/decorator.py:232: PyEMMA_DeprecationWarning: Call to deprecated function \"vamp\". Called from /home/rajarshi/miniconda3/lib/python3.9/site-packages/decorator.py line 232. Use deeptime.decomposition.VAMP instead.\n",
      "  return caller(func, *(extras + args), **kw)\n",
      "/home/rajarshi/miniconda3/lib/python3.9/site-packages/decorator.py:232: PyEMMA_DeprecationWarning: Call to deprecated function \"vamp\". Called from /home/rajarshi/miniconda3/lib/python3.9/site-packages/decorator.py line 232. Use deeptime.decomposition.VAMP instead.\n",
      "  return caller(func, *(extras + args), **kw)\n",
      "/home/rajarshi/miniconda3/lib/python3.9/site-packages/decorator.py:232: PyEMMA_DeprecationWarning: Call to deprecated function \"vamp\". Called from /home/rajarshi/miniconda3/lib/python3.9/site-packages/decorator.py line 232. Use deeptime.decomposition.VAMP instead.\n",
      "  return caller(func, *(extras + args), **kw)\n",
      "/home/rajarshi/miniconda3/lib/python3.9/site-packages/decorator.py:232: PyEMMA_DeprecationWarning: Call to deprecated function \"vamp\". Called from /home/rajarshi/miniconda3/lib/python3.9/site-packages/decorator.py line 232. Use deeptime.decomposition.VAMP instead.\n",
      "  return caller(func, *(extras + args), **kw)\n"
     ]
    },
    {
     "name": "stderr",
     "output_type": "stream",
     "text": [
      "/home/rajarshi/miniconda3/lib/python3.9/site-packages/decorator.py:232: PyEMMA_DeprecationWarning: Call to deprecated function \"vamp\". Called from /home/rajarshi/miniconda3/lib/python3.9/site-packages/decorator.py line 232. Use deeptime.decomposition.VAMP instead.\n",
      "  return caller(func, *(extras + args), **kw)\n",
      "/home/rajarshi/miniconda3/lib/python3.9/site-packages/decorator.py:232: PyEMMA_DeprecationWarning: Call to deprecated function \"vamp\". Called from /home/rajarshi/miniconda3/lib/python3.9/site-packages/decorator.py line 232. Use deeptime.decomposition.VAMP instead.\n",
      "  return caller(func, *(extras + args), **kw)\n",
      "/home/rajarshi/miniconda3/lib/python3.9/site-packages/decorator.py:232: PyEMMA_DeprecationWarning: Call to deprecated function \"vamp\". Called from /home/rajarshi/miniconda3/lib/python3.9/site-packages/decorator.py line 232. Use deeptime.decomposition.VAMP instead.\n",
      "  return caller(func, *(extras + args), **kw)\n",
      "/home/rajarshi/miniconda3/lib/python3.9/site-packages/decorator.py:232: PyEMMA_DeprecationWarning: Call to deprecated function \"vamp\". Called from /home/rajarshi/miniconda3/lib/python3.9/site-packages/decorator.py line 232. Use deeptime.decomposition.VAMP instead.\n",
      "  return caller(func, *(extras + args), **kw)\n",
      "/home/rajarshi/miniconda3/lib/python3.9/site-packages/decorator.py:232: PyEMMA_DeprecationWarning: Call to deprecated function \"vamp\". Called from /home/rajarshi/miniconda3/lib/python3.9/site-packages/decorator.py line 232. Use deeptime.decomposition.VAMP instead.\n",
      "  return caller(func, *(extras + args), **kw)\n",
      "/home/rajarshi/miniconda3/lib/python3.9/site-packages/decorator.py:232: PyEMMA_DeprecationWarning: Call to deprecated function \"vamp\". Called from /home/rajarshi/miniconda3/lib/python3.9/site-packages/decorator.py line 232. Use deeptime.decomposition.VAMP instead.\n",
      "  return caller(func, *(extras + args), **kw)\n",
      "/home/rajarshi/miniconda3/lib/python3.9/site-packages/decorator.py:232: PyEMMA_DeprecationWarning: Call to deprecated function \"vamp\". Called from /home/rajarshi/miniconda3/lib/python3.9/site-packages/decorator.py line 232. Use deeptime.decomposition.VAMP instead.\n",
      "  return caller(func, *(extras + args), **kw)\n",
      "/home/rajarshi/miniconda3/lib/python3.9/site-packages/decorator.py:232: PyEMMA_DeprecationWarning: Call to deprecated function \"vamp\". Called from /home/rajarshi/miniconda3/lib/python3.9/site-packages/decorator.py line 232. Use deeptime.decomposition.VAMP instead.\n",
      "  return caller(func, *(extras + args), **kw)\n",
      "/home/rajarshi/miniconda3/lib/python3.9/site-packages/decorator.py:232: PyEMMA_DeprecationWarning: Call to deprecated function \"vamp\". Called from /home/rajarshi/miniconda3/lib/python3.9/site-packages/decorator.py line 232. Use deeptime.decomposition.VAMP instead.\n",
      "  return caller(func, *(extras + args), **kw)\n",
      "/home/rajarshi/miniconda3/lib/python3.9/site-packages/decorator.py:232: PyEMMA_DeprecationWarning: Call to deprecated function \"vamp\". Called from /home/rajarshi/miniconda3/lib/python3.9/site-packages/decorator.py line 232. Use deeptime.decomposition.VAMP instead.\n",
      "  return caller(func, *(extras + args), **kw)\n",
      "/home/rajarshi/miniconda3/lib/python3.9/site-packages/decorator.py:232: PyEMMA_DeprecationWarning: Call to deprecated function \"vamp\". Called from /home/rajarshi/miniconda3/lib/python3.9/site-packages/decorator.py line 232. Use deeptime.decomposition.VAMP instead.\n",
      "  return caller(func, *(extras + args), **kw)\n",
      "/home/rajarshi/miniconda3/lib/python3.9/site-packages/decorator.py:232: PyEMMA_DeprecationWarning: Call to deprecated function \"vamp\". Called from /home/rajarshi/miniconda3/lib/python3.9/site-packages/decorator.py line 232. Use deeptime.decomposition.VAMP instead.\n",
      "  return caller(func, *(extras + args), **kw)\n",
      "/home/rajarshi/miniconda3/lib/python3.9/site-packages/decorator.py:232: PyEMMA_DeprecationWarning: Call to deprecated function \"vamp\". Called from /home/rajarshi/miniconda3/lib/python3.9/site-packages/decorator.py line 232. Use deeptime.decomposition.VAMP instead.\n",
      "  return caller(func, *(extras + args), **kw)\n",
      "/home/rajarshi/miniconda3/lib/python3.9/site-packages/decorator.py:232: PyEMMA_DeprecationWarning: Call to deprecated function \"vamp\". Called from /home/rajarshi/miniconda3/lib/python3.9/site-packages/decorator.py line 232. Use deeptime.decomposition.VAMP instead.\n",
      "  return caller(func, *(extras + args), **kw)\n",
      "/home/rajarshi/miniconda3/lib/python3.9/site-packages/decorator.py:232: PyEMMA_DeprecationWarning: Call to deprecated function \"vamp\". Called from /home/rajarshi/miniconda3/lib/python3.9/site-packages/decorator.py line 232. Use deeptime.decomposition.VAMP instead.\n",
      "  return caller(func, *(extras + args), **kw)\n",
      "/home/rajarshi/miniconda3/lib/python3.9/site-packages/decorator.py:232: PyEMMA_DeprecationWarning: Call to deprecated function \"vamp\". Called from /home/rajarshi/miniconda3/lib/python3.9/site-packages/decorator.py line 232. Use deeptime.decomposition.VAMP instead.\n",
      "  return caller(func, *(extras + args), **kw)\n",
      "/home/rajarshi/miniconda3/lib/python3.9/site-packages/decorator.py:232: PyEMMA_DeprecationWarning: Call to deprecated function \"vamp\". Called from /home/rajarshi/miniconda3/lib/python3.9/site-packages/decorator.py line 232. Use deeptime.decomposition.VAMP instead.\n",
      "  return caller(func, *(extras + args), **kw)\n",
      "/home/rajarshi/miniconda3/lib/python3.9/site-packages/decorator.py:232: PyEMMA_DeprecationWarning: Call to deprecated function \"vamp\". Called from /home/rajarshi/miniconda3/lib/python3.9/site-packages/decorator.py line 232. Use deeptime.decomposition.VAMP instead.\n",
      "  return caller(func, *(extras + args), **kw)\n",
      "/home/rajarshi/miniconda3/lib/python3.9/site-packages/decorator.py:232: PyEMMA_DeprecationWarning: Call to deprecated function \"vamp\". Called from /home/rajarshi/miniconda3/lib/python3.9/site-packages/decorator.py line 232. Use deeptime.decomposition.VAMP instead.\n",
      "  return caller(func, *(extras + args), **kw)\n",
      "/home/rajarshi/miniconda3/lib/python3.9/site-packages/decorator.py:232: PyEMMA_DeprecationWarning: Call to deprecated function \"vamp\". Called from /home/rajarshi/miniconda3/lib/python3.9/site-packages/decorator.py line 232. Use deeptime.decomposition.VAMP instead.\n",
      "  return caller(func, *(extras + args), **kw)\n",
      "/home/rajarshi/miniconda3/lib/python3.9/site-packages/decorator.py:232: PyEMMA_DeprecationWarning: Call to deprecated function \"vamp\". Called from /home/rajarshi/miniconda3/lib/python3.9/site-packages/decorator.py line 232. Use deeptime.decomposition.VAMP instead.\n",
      "  return caller(func, *(extras + args), **kw)\n",
      "/home/rajarshi/miniconda3/lib/python3.9/site-packages/decorator.py:232: PyEMMA_DeprecationWarning: Call to deprecated function \"vamp\". Called from /home/rajarshi/miniconda3/lib/python3.9/site-packages/decorator.py line 232. Use deeptime.decomposition.VAMP instead.\n",
      "  return caller(func, *(extras + args), **kw)\n",
      "/home/rajarshi/miniconda3/lib/python3.9/site-packages/decorator.py:232: PyEMMA_DeprecationWarning: Call to deprecated function \"vamp\". Called from /home/rajarshi/miniconda3/lib/python3.9/site-packages/decorator.py line 232. Use deeptime.decomposition.VAMP instead.\n",
      "  return caller(func, *(extras + args), **kw)\n",
      "/home/rajarshi/miniconda3/lib/python3.9/site-packages/decorator.py:232: PyEMMA_DeprecationWarning: Call to deprecated function \"vamp\". Called from /home/rajarshi/miniconda3/lib/python3.9/site-packages/decorator.py line 232. Use deeptime.decomposition.VAMP instead.\n",
      "  return caller(func, *(extras + args), **kw)\n",
      "/home/rajarshi/miniconda3/lib/python3.9/site-packages/decorator.py:232: PyEMMA_DeprecationWarning: Call to deprecated function \"vamp\". Called from /home/rajarshi/miniconda3/lib/python3.9/site-packages/decorator.py line 232. Use deeptime.decomposition.VAMP instead.\n",
      "  return caller(func, *(extras + args), **kw)\n",
      "/home/rajarshi/miniconda3/lib/python3.9/site-packages/decorator.py:232: PyEMMA_DeprecationWarning: Call to deprecated function \"vamp\". Called from /home/rajarshi/miniconda3/lib/python3.9/site-packages/decorator.py line 232. Use deeptime.decomposition.VAMP instead.\n",
      "  return caller(func, *(extras + args), **kw)\n",
      "/home/rajarshi/miniconda3/lib/python3.9/site-packages/decorator.py:232: PyEMMA_DeprecationWarning: Call to deprecated function \"vamp\". Called from /home/rajarshi/miniconda3/lib/python3.9/site-packages/decorator.py line 232. Use deeptime.decomposition.VAMP instead.\n",
      "  return caller(func, *(extras + args), **kw)\n"
     ]
    },
    {
     "name": "stderr",
     "output_type": "stream",
     "text": [
      "/home/rajarshi/miniconda3/lib/python3.9/site-packages/decorator.py:232: PyEMMA_DeprecationWarning: Call to deprecated function \"vamp\". Called from /home/rajarshi/miniconda3/lib/python3.9/site-packages/decorator.py line 232. Use deeptime.decomposition.VAMP instead.\n",
      "  return caller(func, *(extras + args), **kw)\n",
      "/home/rajarshi/miniconda3/lib/python3.9/site-packages/decorator.py:232: PyEMMA_DeprecationWarning: Call to deprecated function \"vamp\". Called from /home/rajarshi/miniconda3/lib/python3.9/site-packages/decorator.py line 232. Use deeptime.decomposition.VAMP instead.\n",
      "  return caller(func, *(extras + args), **kw)\n",
      "/home/rajarshi/miniconda3/lib/python3.9/site-packages/decorator.py:232: PyEMMA_DeprecationWarning: Call to deprecated function \"vamp\". Called from /home/rajarshi/miniconda3/lib/python3.9/site-packages/decorator.py line 232. Use deeptime.decomposition.VAMP instead.\n",
      "  return caller(func, *(extras + args), **kw)\n",
      "/home/rajarshi/miniconda3/lib/python3.9/site-packages/decorator.py:232: PyEMMA_DeprecationWarning: Call to deprecated function \"vamp\". Called from /home/rajarshi/miniconda3/lib/python3.9/site-packages/decorator.py line 232. Use deeptime.decomposition.VAMP instead.\n",
      "  return caller(func, *(extras + args), **kw)\n",
      "/home/rajarshi/miniconda3/lib/python3.9/site-packages/decorator.py:232: PyEMMA_DeprecationWarning: Call to deprecated function \"vamp\". Called from /home/rajarshi/miniconda3/lib/python3.9/site-packages/decorator.py line 232. Use deeptime.decomposition.VAMP instead.\n",
      "  return caller(func, *(extras + args), **kw)\n",
      "/home/rajarshi/miniconda3/lib/python3.9/site-packages/decorator.py:232: PyEMMA_DeprecationWarning: Call to deprecated function \"vamp\". Called from /home/rajarshi/miniconda3/lib/python3.9/site-packages/decorator.py line 232. Use deeptime.decomposition.VAMP instead.\n",
      "  return caller(func, *(extras + args), **kw)\n",
      "/home/rajarshi/miniconda3/lib/python3.9/site-packages/decorator.py:232: PyEMMA_DeprecationWarning: Call to deprecated function \"vamp\". Called from /home/rajarshi/miniconda3/lib/python3.9/site-packages/decorator.py line 232. Use deeptime.decomposition.VAMP instead.\n",
      "  return caller(func, *(extras + args), **kw)\n",
      "/home/rajarshi/miniconda3/lib/python3.9/site-packages/decorator.py:232: PyEMMA_DeprecationWarning: Call to deprecated function \"vamp\". Called from /home/rajarshi/miniconda3/lib/python3.9/site-packages/decorator.py line 232. Use deeptime.decomposition.VAMP instead.\n",
      "  return caller(func, *(extras + args), **kw)\n",
      "/home/rajarshi/miniconda3/lib/python3.9/site-packages/decorator.py:232: PyEMMA_DeprecationWarning: Call to deprecated function \"vamp\". Called from /home/rajarshi/miniconda3/lib/python3.9/site-packages/decorator.py line 232. Use deeptime.decomposition.VAMP instead.\n",
      "  return caller(func, *(extras + args), **kw)\n",
      "/home/rajarshi/miniconda3/lib/python3.9/site-packages/decorator.py:232: PyEMMA_DeprecationWarning: Call to deprecated function \"vamp\". Called from /home/rajarshi/miniconda3/lib/python3.9/site-packages/decorator.py line 232. Use deeptime.decomposition.VAMP instead.\n",
      "  return caller(func, *(extras + args), **kw)\n",
      "/home/rajarshi/miniconda3/lib/python3.9/site-packages/decorator.py:232: PyEMMA_DeprecationWarning: Call to deprecated function \"vamp\". Called from /home/rajarshi/miniconda3/lib/python3.9/site-packages/decorator.py line 232. Use deeptime.decomposition.VAMP instead.\n",
      "  return caller(func, *(extras + args), **kw)\n",
      "/home/rajarshi/miniconda3/lib/python3.9/site-packages/decorator.py:232: PyEMMA_DeprecationWarning: Call to deprecated function \"vamp\". Called from /home/rajarshi/miniconda3/lib/python3.9/site-packages/decorator.py line 232. Use deeptime.decomposition.VAMP instead.\n",
      "  return caller(func, *(extras + args), **kw)\n",
      "/home/rajarshi/miniconda3/lib/python3.9/site-packages/decorator.py:232: PyEMMA_DeprecationWarning: Call to deprecated function \"vamp\". Called from /home/rajarshi/miniconda3/lib/python3.9/site-packages/decorator.py line 232. Use deeptime.decomposition.VAMP instead.\n",
      "  return caller(func, *(extras + args), **kw)\n",
      "/home/rajarshi/miniconda3/lib/python3.9/site-packages/decorator.py:232: PyEMMA_DeprecationWarning: Call to deprecated function \"vamp\". Called from /home/rajarshi/miniconda3/lib/python3.9/site-packages/decorator.py line 232. Use deeptime.decomposition.VAMP instead.\n",
      "  return caller(func, *(extras + args), **kw)\n",
      "/home/rajarshi/miniconda3/lib/python3.9/site-packages/decorator.py:232: PyEMMA_DeprecationWarning: Call to deprecated function \"vamp\". Called from /home/rajarshi/miniconda3/lib/python3.9/site-packages/decorator.py line 232. Use deeptime.decomposition.VAMP instead.\n",
      "  return caller(func, *(extras + args), **kw)\n",
      "/home/rajarshi/miniconda3/lib/python3.9/site-packages/decorator.py:232: PyEMMA_DeprecationWarning: Call to deprecated function \"vamp\". Called from /home/rajarshi/miniconda3/lib/python3.9/site-packages/decorator.py line 232. Use deeptime.decomposition.VAMP instead.\n",
      "  return caller(func, *(extras + args), **kw)\n",
      "/home/rajarshi/miniconda3/lib/python3.9/site-packages/decorator.py:232: PyEMMA_DeprecationWarning: Call to deprecated function \"vamp\". Called from /home/rajarshi/miniconda3/lib/python3.9/site-packages/decorator.py line 232. Use deeptime.decomposition.VAMP instead.\n",
      "  return caller(func, *(extras + args), **kw)\n",
      "/home/rajarshi/miniconda3/lib/python3.9/site-packages/decorator.py:232: PyEMMA_DeprecationWarning: Call to deprecated function \"vamp\". Called from /home/rajarshi/miniconda3/lib/python3.9/site-packages/decorator.py line 232. Use deeptime.decomposition.VAMP instead.\n",
      "  return caller(func, *(extras + args), **kw)\n",
      "/home/rajarshi/miniconda3/lib/python3.9/site-packages/decorator.py:232: PyEMMA_DeprecationWarning: Call to deprecated function \"vamp\". Called from /home/rajarshi/miniconda3/lib/python3.9/site-packages/decorator.py line 232. Use deeptime.decomposition.VAMP instead.\n",
      "  return caller(func, *(extras + args), **kw)\n",
      "/home/rajarshi/miniconda3/lib/python3.9/site-packages/decorator.py:232: PyEMMA_DeprecationWarning: Call to deprecated function \"vamp\". Called from /home/rajarshi/miniconda3/lib/python3.9/site-packages/decorator.py line 232. Use deeptime.decomposition.VAMP instead.\n",
      "  return caller(func, *(extras + args), **kw)\n",
      "/home/rajarshi/miniconda3/lib/python3.9/site-packages/decorator.py:232: PyEMMA_DeprecationWarning: Call to deprecated function \"vamp\". Called from /home/rajarshi/miniconda3/lib/python3.9/site-packages/decorator.py line 232. Use deeptime.decomposition.VAMP instead.\n",
      "  return caller(func, *(extras + args), **kw)\n",
      "/home/rajarshi/miniconda3/lib/python3.9/site-packages/decorator.py:232: PyEMMA_DeprecationWarning: Call to deprecated function \"vamp\". Called from /home/rajarshi/miniconda3/lib/python3.9/site-packages/decorator.py line 232. Use deeptime.decomposition.VAMP instead.\n",
      "  return caller(func, *(extras + args), **kw)\n",
      "/home/rajarshi/miniconda3/lib/python3.9/site-packages/decorator.py:232: PyEMMA_DeprecationWarning: Call to deprecated function \"vamp\". Called from /home/rajarshi/miniconda3/lib/python3.9/site-packages/decorator.py line 232. Use deeptime.decomposition.VAMP instead.\n",
      "  return caller(func, *(extras + args), **kw)\n",
      "/home/rajarshi/miniconda3/lib/python3.9/site-packages/decorator.py:232: PyEMMA_DeprecationWarning: Call to deprecated function \"vamp\". Called from /home/rajarshi/miniconda3/lib/python3.9/site-packages/decorator.py line 232. Use deeptime.decomposition.VAMP instead.\n",
      "  return caller(func, *(extras + args), **kw)\n",
      "/home/rajarshi/miniconda3/lib/python3.9/site-packages/decorator.py:232: PyEMMA_DeprecationWarning: Call to deprecated function \"vamp\". Called from /home/rajarshi/miniconda3/lib/python3.9/site-packages/decorator.py line 232. Use deeptime.decomposition.VAMP instead.\n",
      "  return caller(func, *(extras + args), **kw)\n",
      "/home/rajarshi/miniconda3/lib/python3.9/site-packages/decorator.py:232: PyEMMA_DeprecationWarning: Call to deprecated function \"vamp\". Called from /home/rajarshi/miniconda3/lib/python3.9/site-packages/decorator.py line 232. Use deeptime.decomposition.VAMP instead.\n",
      "  return caller(func, *(extras + args), **kw)\n",
      "/home/rajarshi/miniconda3/lib/python3.9/site-packages/decorator.py:232: PyEMMA_DeprecationWarning: Call to deprecated function \"vamp\". Called from /home/rajarshi/miniconda3/lib/python3.9/site-packages/decorator.py line 232. Use deeptime.decomposition.VAMP instead.\n",
      "  return caller(func, *(extras + args), **kw)\n"
     ]
    },
    {
     "name": "stderr",
     "output_type": "stream",
     "text": [
      "/home/rajarshi/miniconda3/lib/python3.9/site-packages/decorator.py:232: PyEMMA_DeprecationWarning: Call to deprecated function \"vamp\". Called from /home/rajarshi/miniconda3/lib/python3.9/site-packages/decorator.py line 232. Use deeptime.decomposition.VAMP instead.\n",
      "  return caller(func, *(extras + args), **kw)\n",
      "/home/rajarshi/miniconda3/lib/python3.9/site-packages/decorator.py:232: PyEMMA_DeprecationWarning: Call to deprecated function \"vamp\". Called from /home/rajarshi/miniconda3/lib/python3.9/site-packages/decorator.py line 232. Use deeptime.decomposition.VAMP instead.\n",
      "  return caller(func, *(extras + args), **kw)\n",
      "/home/rajarshi/miniconda3/lib/python3.9/site-packages/decorator.py:232: PyEMMA_DeprecationWarning: Call to deprecated function \"vamp\". Called from /home/rajarshi/miniconda3/lib/python3.9/site-packages/decorator.py line 232. Use deeptime.decomposition.VAMP instead.\n",
      "  return caller(func, *(extras + args), **kw)\n",
      "/home/rajarshi/miniconda3/lib/python3.9/site-packages/decorator.py:232: PyEMMA_DeprecationWarning: Call to deprecated function \"vamp\". Called from /home/rajarshi/miniconda3/lib/python3.9/site-packages/decorator.py line 232. Use deeptime.decomposition.VAMP instead.\n",
      "  return caller(func, *(extras + args), **kw)\n",
      "/home/rajarshi/miniconda3/lib/python3.9/site-packages/decorator.py:232: PyEMMA_DeprecationWarning: Call to deprecated function \"vamp\". Called from /home/rajarshi/miniconda3/lib/python3.9/site-packages/decorator.py line 232. Use deeptime.decomposition.VAMP instead.\n",
      "  return caller(func, *(extras + args), **kw)\n",
      "/home/rajarshi/miniconda3/lib/python3.9/site-packages/decorator.py:232: PyEMMA_DeprecationWarning: Call to deprecated function \"vamp\". Called from /home/rajarshi/miniconda3/lib/python3.9/site-packages/decorator.py line 232. Use deeptime.decomposition.VAMP instead.\n",
      "  return caller(func, *(extras + args), **kw)\n",
      "/home/rajarshi/miniconda3/lib/python3.9/site-packages/decorator.py:232: PyEMMA_DeprecationWarning: Call to deprecated function \"vamp\". Called from /home/rajarshi/miniconda3/lib/python3.9/site-packages/decorator.py line 232. Use deeptime.decomposition.VAMP instead.\n",
      "  return caller(func, *(extras + args), **kw)\n",
      "/home/rajarshi/miniconda3/lib/python3.9/site-packages/decorator.py:232: PyEMMA_DeprecationWarning: Call to deprecated function \"vamp\". Called from /home/rajarshi/miniconda3/lib/python3.9/site-packages/decorator.py line 232. Use deeptime.decomposition.VAMP instead.\n",
      "  return caller(func, *(extras + args), **kw)\n",
      "/home/rajarshi/miniconda3/lib/python3.9/site-packages/decorator.py:232: PyEMMA_DeprecationWarning: Call to deprecated function \"vamp\". Called from /home/rajarshi/miniconda3/lib/python3.9/site-packages/decorator.py line 232. Use deeptime.decomposition.VAMP instead.\n",
      "  return caller(func, *(extras + args), **kw)\n",
      "/home/rajarshi/miniconda3/lib/python3.9/site-packages/decorator.py:232: PyEMMA_DeprecationWarning: Call to deprecated function \"vamp\". Called from /home/rajarshi/miniconda3/lib/python3.9/site-packages/decorator.py line 232. Use deeptime.decomposition.VAMP instead.\n",
      "  return caller(func, *(extras + args), **kw)\n",
      "/home/rajarshi/miniconda3/lib/python3.9/site-packages/decorator.py:232: PyEMMA_DeprecationWarning: Call to deprecated function \"vamp\". Called from /home/rajarshi/miniconda3/lib/python3.9/site-packages/decorator.py line 232. Use deeptime.decomposition.VAMP instead.\n",
      "  return caller(func, *(extras + args), **kw)\n",
      "/home/rajarshi/miniconda3/lib/python3.9/site-packages/decorator.py:232: PyEMMA_DeprecationWarning: Call to deprecated function \"vamp\". Called from /home/rajarshi/miniconda3/lib/python3.9/site-packages/decorator.py line 232. Use deeptime.decomposition.VAMP instead.\n",
      "  return caller(func, *(extras + args), **kw)\n",
      "/home/rajarshi/miniconda3/lib/python3.9/site-packages/decorator.py:232: PyEMMA_DeprecationWarning: Call to deprecated function \"vamp\". Called from /home/rajarshi/miniconda3/lib/python3.9/site-packages/decorator.py line 232. Use deeptime.decomposition.VAMP instead.\n",
      "  return caller(func, *(extras + args), **kw)\n",
      "/home/rajarshi/miniconda3/lib/python3.9/site-packages/decorator.py:232: PyEMMA_DeprecationWarning: Call to deprecated function \"vamp\". Called from /home/rajarshi/miniconda3/lib/python3.9/site-packages/decorator.py line 232. Use deeptime.decomposition.VAMP instead.\n",
      "  return caller(func, *(extras + args), **kw)\n",
      "/home/rajarshi/miniconda3/lib/python3.9/site-packages/decorator.py:232: PyEMMA_DeprecationWarning: Call to deprecated function \"vamp\". Called from /home/rajarshi/miniconda3/lib/python3.9/site-packages/decorator.py line 232. Use deeptime.decomposition.VAMP instead.\n",
      "  return caller(func, *(extras + args), **kw)\n",
      "/home/rajarshi/miniconda3/lib/python3.9/site-packages/decorator.py:232: PyEMMA_DeprecationWarning: Call to deprecated function \"vamp\". Called from /home/rajarshi/miniconda3/lib/python3.9/site-packages/decorator.py line 232. Use deeptime.decomposition.VAMP instead.\n",
      "  return caller(func, *(extras + args), **kw)\n",
      "/home/rajarshi/miniconda3/lib/python3.9/site-packages/decorator.py:232: PyEMMA_DeprecationWarning: Call to deprecated function \"vamp\". Called from /home/rajarshi/miniconda3/lib/python3.9/site-packages/decorator.py line 232. Use deeptime.decomposition.VAMP instead.\n",
      "  return caller(func, *(extras + args), **kw)\n",
      "/home/rajarshi/miniconda3/lib/python3.9/site-packages/decorator.py:232: PyEMMA_DeprecationWarning: Call to deprecated function \"vamp\". Called from /home/rajarshi/miniconda3/lib/python3.9/site-packages/decorator.py line 232. Use deeptime.decomposition.VAMP instead.\n",
      "  return caller(func, *(extras + args), **kw)\n",
      "/home/rajarshi/miniconda3/lib/python3.9/site-packages/decorator.py:232: PyEMMA_DeprecationWarning: Call to deprecated function \"vamp\". Called from /home/rajarshi/miniconda3/lib/python3.9/site-packages/decorator.py line 232. Use deeptime.decomposition.VAMP instead.\n",
      "  return caller(func, *(extras + args), **kw)\n",
      "/home/rajarshi/miniconda3/lib/python3.9/site-packages/decorator.py:232: PyEMMA_DeprecationWarning: Call to deprecated function \"vamp\". Called from /home/rajarshi/miniconda3/lib/python3.9/site-packages/decorator.py line 232. Use deeptime.decomposition.VAMP instead.\n",
      "  return caller(func, *(extras + args), **kw)\n",
      "/home/rajarshi/miniconda3/lib/python3.9/site-packages/decorator.py:232: PyEMMA_DeprecationWarning: Call to deprecated function \"vamp\". Called from /home/rajarshi/miniconda3/lib/python3.9/site-packages/decorator.py line 232. Use deeptime.decomposition.VAMP instead.\n",
      "  return caller(func, *(extras + args), **kw)\n",
      "/home/rajarshi/miniconda3/lib/python3.9/site-packages/decorator.py:232: PyEMMA_DeprecationWarning: Call to deprecated function \"vamp\". Called from /home/rajarshi/miniconda3/lib/python3.9/site-packages/decorator.py line 232. Use deeptime.decomposition.VAMP instead.\n",
      "  return caller(func, *(extras + args), **kw)\n",
      "/home/rajarshi/miniconda3/lib/python3.9/site-packages/decorator.py:232: PyEMMA_DeprecationWarning: Call to deprecated function \"vamp\". Called from /home/rajarshi/miniconda3/lib/python3.9/site-packages/decorator.py line 232. Use deeptime.decomposition.VAMP instead.\n",
      "  return caller(func, *(extras + args), **kw)\n",
      "/home/rajarshi/miniconda3/lib/python3.9/site-packages/decorator.py:232: PyEMMA_DeprecationWarning: Call to deprecated function \"vamp\". Called from /home/rajarshi/miniconda3/lib/python3.9/site-packages/decorator.py line 232. Use deeptime.decomposition.VAMP instead.\n",
      "  return caller(func, *(extras + args), **kw)\n",
      "/home/rajarshi/miniconda3/lib/python3.9/site-packages/decorator.py:232: PyEMMA_DeprecationWarning: Call to deprecated function \"vamp\". Called from /home/rajarshi/miniconda3/lib/python3.9/site-packages/decorator.py line 232. Use deeptime.decomposition.VAMP instead.\n",
      "  return caller(func, *(extras + args), **kw)\n",
      "/home/rajarshi/miniconda3/lib/python3.9/site-packages/decorator.py:232: PyEMMA_DeprecationWarning: Call to deprecated function \"vamp\". Called from /home/rajarshi/miniconda3/lib/python3.9/site-packages/decorator.py line 232. Use deeptime.decomposition.VAMP instead.\n",
      "  return caller(func, *(extras + args), **kw)\n",
      "/home/rajarshi/miniconda3/lib/python3.9/site-packages/decorator.py:232: PyEMMA_DeprecationWarning: Call to deprecated function \"vamp\". Called from /home/rajarshi/miniconda3/lib/python3.9/site-packages/decorator.py line 232. Use deeptime.decomposition.VAMP instead.\n",
      "  return caller(func, *(extras + args), **kw)\n"
     ]
    },
    {
     "name": "stderr",
     "output_type": "stream",
     "text": [
      "/home/rajarshi/miniconda3/lib/python3.9/site-packages/decorator.py:232: PyEMMA_DeprecationWarning: Call to deprecated function \"vamp\". Called from /home/rajarshi/miniconda3/lib/python3.9/site-packages/decorator.py line 232. Use deeptime.decomposition.VAMP instead.\n",
      "  return caller(func, *(extras + args), **kw)\n",
      "/home/rajarshi/miniconda3/lib/python3.9/site-packages/decorator.py:232: PyEMMA_DeprecationWarning: Call to deprecated function \"vamp\". Called from /home/rajarshi/miniconda3/lib/python3.9/site-packages/decorator.py line 232. Use deeptime.decomposition.VAMP instead.\n",
      "  return caller(func, *(extras + args), **kw)\n",
      "/home/rajarshi/miniconda3/lib/python3.9/site-packages/decorator.py:232: PyEMMA_DeprecationWarning: Call to deprecated function \"vamp\". Called from /home/rajarshi/miniconda3/lib/python3.9/site-packages/decorator.py line 232. Use deeptime.decomposition.VAMP instead.\n",
      "  return caller(func, *(extras + args), **kw)\n",
      "/home/rajarshi/miniconda3/lib/python3.9/site-packages/decorator.py:232: PyEMMA_DeprecationWarning: Call to deprecated function \"vamp\". Called from /home/rajarshi/miniconda3/lib/python3.9/site-packages/decorator.py line 232. Use deeptime.decomposition.VAMP instead.\n",
      "  return caller(func, *(extras + args), **kw)\n",
      "/home/rajarshi/miniconda3/lib/python3.9/site-packages/decorator.py:232: PyEMMA_DeprecationWarning: Call to deprecated function \"vamp\". Called from /home/rajarshi/miniconda3/lib/python3.9/site-packages/decorator.py line 232. Use deeptime.decomposition.VAMP instead.\n",
      "  return caller(func, *(extras + args), **kw)\n",
      "/home/rajarshi/miniconda3/lib/python3.9/site-packages/decorator.py:232: PyEMMA_DeprecationWarning: Call to deprecated function \"vamp\". Called from /home/rajarshi/miniconda3/lib/python3.9/site-packages/decorator.py line 232. Use deeptime.decomposition.VAMP instead.\n",
      "  return caller(func, *(extras + args), **kw)\n",
      "/home/rajarshi/miniconda3/lib/python3.9/site-packages/decorator.py:232: PyEMMA_DeprecationWarning: Call to deprecated function \"vamp\". Called from /home/rajarshi/miniconda3/lib/python3.9/site-packages/decorator.py line 232. Use deeptime.decomposition.VAMP instead.\n",
      "  return caller(func, *(extras + args), **kw)\n",
      "/home/rajarshi/miniconda3/lib/python3.9/site-packages/decorator.py:232: PyEMMA_DeprecationWarning: Call to deprecated function \"vamp\". Called from /home/rajarshi/miniconda3/lib/python3.9/site-packages/decorator.py line 232. Use deeptime.decomposition.VAMP instead.\n",
      "  return caller(func, *(extras + args), **kw)\n",
      "/home/rajarshi/miniconda3/lib/python3.9/site-packages/decorator.py:232: PyEMMA_DeprecationWarning: Call to deprecated function \"vamp\". Called from /home/rajarshi/miniconda3/lib/python3.9/site-packages/decorator.py line 232. Use deeptime.decomposition.VAMP instead.\n",
      "  return caller(func, *(extras + args), **kw)\n",
      "/home/rajarshi/miniconda3/lib/python3.9/site-packages/decorator.py:232: PyEMMA_DeprecationWarning: Call to deprecated function \"vamp\". Called from /home/rajarshi/miniconda3/lib/python3.9/site-packages/decorator.py line 232. Use deeptime.decomposition.VAMP instead.\n",
      "  return caller(func, *(extras + args), **kw)\n",
      "/home/rajarshi/miniconda3/lib/python3.9/site-packages/decorator.py:232: PyEMMA_DeprecationWarning: Call to deprecated function \"vamp\". Called from /home/rajarshi/miniconda3/lib/python3.9/site-packages/decorator.py line 232. Use deeptime.decomposition.VAMP instead.\n",
      "  return caller(func, *(extras + args), **kw)\n",
      "/home/rajarshi/miniconda3/lib/python3.9/site-packages/decorator.py:232: PyEMMA_DeprecationWarning: Call to deprecated function \"vamp\". Called from /home/rajarshi/miniconda3/lib/python3.9/site-packages/decorator.py line 232. Use deeptime.decomposition.VAMP instead.\n",
      "  return caller(func, *(extras + args), **kw)\n",
      "/home/rajarshi/miniconda3/lib/python3.9/site-packages/decorator.py:232: PyEMMA_DeprecationWarning: Call to deprecated function \"vamp\". Called from /home/rajarshi/miniconda3/lib/python3.9/site-packages/decorator.py line 232. Use deeptime.decomposition.VAMP instead.\n",
      "  return caller(func, *(extras + args), **kw)\n",
      "/home/rajarshi/miniconda3/lib/python3.9/site-packages/decorator.py:232: PyEMMA_DeprecationWarning: Call to deprecated function \"vamp\". Called from /home/rajarshi/miniconda3/lib/python3.9/site-packages/decorator.py line 232. Use deeptime.decomposition.VAMP instead.\n",
      "  return caller(func, *(extras + args), **kw)\n",
      "/home/rajarshi/miniconda3/lib/python3.9/site-packages/decorator.py:232: PyEMMA_DeprecationWarning: Call to deprecated function \"vamp\". Called from /home/rajarshi/miniconda3/lib/python3.9/site-packages/decorator.py line 232. Use deeptime.decomposition.VAMP instead.\n",
      "  return caller(func, *(extras + args), **kw)\n",
      "/home/rajarshi/miniconda3/lib/python3.9/site-packages/decorator.py:232: PyEMMA_DeprecationWarning: Call to deprecated function \"vamp\". Called from /home/rajarshi/miniconda3/lib/python3.9/site-packages/decorator.py line 232. Use deeptime.decomposition.VAMP instead.\n",
      "  return caller(func, *(extras + args), **kw)\n",
      "/home/rajarshi/miniconda3/lib/python3.9/site-packages/decorator.py:232: PyEMMA_DeprecationWarning: Call to deprecated function \"vamp\". Called from /home/rajarshi/miniconda3/lib/python3.9/site-packages/decorator.py line 232. Use deeptime.decomposition.VAMP instead.\n",
      "  return caller(func, *(extras + args), **kw)\n",
      "/home/rajarshi/miniconda3/lib/python3.9/site-packages/decorator.py:232: PyEMMA_DeprecationWarning: Call to deprecated function \"vamp\". Called from /home/rajarshi/miniconda3/lib/python3.9/site-packages/decorator.py line 232. Use deeptime.decomposition.VAMP instead.\n",
      "  return caller(func, *(extras + args), **kw)\n",
      "/home/rajarshi/miniconda3/lib/python3.9/site-packages/decorator.py:232: PyEMMA_DeprecationWarning: Call to deprecated function \"vamp\". Called from /home/rajarshi/miniconda3/lib/python3.9/site-packages/decorator.py line 232. Use deeptime.decomposition.VAMP instead.\n",
      "  return caller(func, *(extras + args), **kw)\n",
      "/home/rajarshi/miniconda3/lib/python3.9/site-packages/decorator.py:232: PyEMMA_DeprecationWarning: Call to deprecated function \"vamp\". Called from /home/rajarshi/miniconda3/lib/python3.9/site-packages/decorator.py line 232. Use deeptime.decomposition.VAMP instead.\n",
      "  return caller(func, *(extras + args), **kw)\n",
      "/home/rajarshi/miniconda3/lib/python3.9/site-packages/decorator.py:232: PyEMMA_DeprecationWarning: Call to deprecated function \"vamp\". Called from /home/rajarshi/miniconda3/lib/python3.9/site-packages/decorator.py line 232. Use deeptime.decomposition.VAMP instead.\n",
      "  return caller(func, *(extras + args), **kw)\n",
      "/home/rajarshi/miniconda3/lib/python3.9/site-packages/decorator.py:232: PyEMMA_DeprecationWarning: Call to deprecated function \"vamp\". Called from /home/rajarshi/miniconda3/lib/python3.9/site-packages/decorator.py line 232. Use deeptime.decomposition.VAMP instead.\n",
      "  return caller(func, *(extras + args), **kw)\n",
      "/home/rajarshi/miniconda3/lib/python3.9/site-packages/decorator.py:232: PyEMMA_DeprecationWarning: Call to deprecated function \"vamp\". Called from /home/rajarshi/miniconda3/lib/python3.9/site-packages/decorator.py line 232. Use deeptime.decomposition.VAMP instead.\n",
      "  return caller(func, *(extras + args), **kw)\n",
      "/home/rajarshi/miniconda3/lib/python3.9/site-packages/decorator.py:232: PyEMMA_DeprecationWarning: Call to deprecated function \"vamp\". Called from /home/rajarshi/miniconda3/lib/python3.9/site-packages/decorator.py line 232. Use deeptime.decomposition.VAMP instead.\n",
      "  return caller(func, *(extras + args), **kw)\n",
      "/home/rajarshi/miniconda3/lib/python3.9/site-packages/decorator.py:232: PyEMMA_DeprecationWarning: Call to deprecated function \"vamp\". Called from /home/rajarshi/miniconda3/lib/python3.9/site-packages/decorator.py line 232. Use deeptime.decomposition.VAMP instead.\n",
      "  return caller(func, *(extras + args), **kw)\n",
      "/home/rajarshi/miniconda3/lib/python3.9/site-packages/decorator.py:232: PyEMMA_DeprecationWarning: Call to deprecated function \"vamp\". Called from /home/rajarshi/miniconda3/lib/python3.9/site-packages/decorator.py line 232. Use deeptime.decomposition.VAMP instead.\n",
      "  return caller(func, *(extras + args), **kw)\n",
      "/home/rajarshi/miniconda3/lib/python3.9/site-packages/decorator.py:232: PyEMMA_DeprecationWarning: Call to deprecated function \"vamp\". Called from /home/rajarshi/miniconda3/lib/python3.9/site-packages/decorator.py line 232. Use deeptime.decomposition.VAMP instead.\n",
      "  return caller(func, *(extras + args), **kw)\n"
     ]
    },
    {
     "name": "stderr",
     "output_type": "stream",
     "text": [
      "/home/rajarshi/miniconda3/lib/python3.9/site-packages/decorator.py:232: PyEMMA_DeprecationWarning: Call to deprecated function \"vamp\". Called from /home/rajarshi/miniconda3/lib/python3.9/site-packages/decorator.py line 232. Use deeptime.decomposition.VAMP instead.\n",
      "  return caller(func, *(extras + args), **kw)\n",
      "/home/rajarshi/miniconda3/lib/python3.9/site-packages/decorator.py:232: PyEMMA_DeprecationWarning: Call to deprecated function \"vamp\". Called from /home/rajarshi/miniconda3/lib/python3.9/site-packages/decorator.py line 232. Use deeptime.decomposition.VAMP instead.\n",
      "  return caller(func, *(extras + args), **kw)\n",
      "/home/rajarshi/miniconda3/lib/python3.9/site-packages/decorator.py:232: PyEMMA_DeprecationWarning: Call to deprecated function \"vamp\". Called from /home/rajarshi/miniconda3/lib/python3.9/site-packages/decorator.py line 232. Use deeptime.decomposition.VAMP instead.\n",
      "  return caller(func, *(extras + args), **kw)\n",
      "/home/rajarshi/miniconda3/lib/python3.9/site-packages/decorator.py:232: PyEMMA_DeprecationWarning: Call to deprecated function \"vamp\". Called from /home/rajarshi/miniconda3/lib/python3.9/site-packages/decorator.py line 232. Use deeptime.decomposition.VAMP instead.\n",
      "  return caller(func, *(extras + args), **kw)\n",
      "/home/rajarshi/miniconda3/lib/python3.9/site-packages/decorator.py:232: PyEMMA_DeprecationWarning: Call to deprecated function \"vamp\". Called from /home/rajarshi/miniconda3/lib/python3.9/site-packages/decorator.py line 232. Use deeptime.decomposition.VAMP instead.\n",
      "  return caller(func, *(extras + args), **kw)\n",
      "/home/rajarshi/miniconda3/lib/python3.9/site-packages/decorator.py:232: PyEMMA_DeprecationWarning: Call to deprecated function \"vamp\". Called from /home/rajarshi/miniconda3/lib/python3.9/site-packages/decorator.py line 232. Use deeptime.decomposition.VAMP instead.\n",
      "  return caller(func, *(extras + args), **kw)\n",
      "/home/rajarshi/miniconda3/lib/python3.9/site-packages/decorator.py:232: PyEMMA_DeprecationWarning: Call to deprecated function \"vamp\". Called from /home/rajarshi/miniconda3/lib/python3.9/site-packages/decorator.py line 232. Use deeptime.decomposition.VAMP instead.\n",
      "  return caller(func, *(extras + args), **kw)\n",
      "/home/rajarshi/miniconda3/lib/python3.9/site-packages/decorator.py:232: PyEMMA_DeprecationWarning: Call to deprecated function \"vamp\". Called from /home/rajarshi/miniconda3/lib/python3.9/site-packages/decorator.py line 232. Use deeptime.decomposition.VAMP instead.\n",
      "  return caller(func, *(extras + args), **kw)\n",
      "/home/rajarshi/miniconda3/lib/python3.9/site-packages/decorator.py:232: PyEMMA_DeprecationWarning: Call to deprecated function \"vamp\". Called from /home/rajarshi/miniconda3/lib/python3.9/site-packages/decorator.py line 232. Use deeptime.decomposition.VAMP instead.\n",
      "  return caller(func, *(extras + args), **kw)\n",
      "/home/rajarshi/miniconda3/lib/python3.9/site-packages/decorator.py:232: PyEMMA_DeprecationWarning: Call to deprecated function \"vamp\". Called from /home/rajarshi/miniconda3/lib/python3.9/site-packages/decorator.py line 232. Use deeptime.decomposition.VAMP instead.\n",
      "  return caller(func, *(extras + args), **kw)\n",
      "/home/rajarshi/miniconda3/lib/python3.9/site-packages/decorator.py:232: PyEMMA_DeprecationWarning: Call to deprecated function \"vamp\". Called from /home/rajarshi/miniconda3/lib/python3.9/site-packages/decorator.py line 232. Use deeptime.decomposition.VAMP instead.\n",
      "  return caller(func, *(extras + args), **kw)\n",
      "/home/rajarshi/miniconda3/lib/python3.9/site-packages/decorator.py:232: PyEMMA_DeprecationWarning: Call to deprecated function \"vamp\". Called from /home/rajarshi/miniconda3/lib/python3.9/site-packages/decorator.py line 232. Use deeptime.decomposition.VAMP instead.\n",
      "  return caller(func, *(extras + args), **kw)\n",
      "/home/rajarshi/miniconda3/lib/python3.9/site-packages/decorator.py:232: PyEMMA_DeprecationWarning: Call to deprecated function \"vamp\". Called from /home/rajarshi/miniconda3/lib/python3.9/site-packages/decorator.py line 232. Use deeptime.decomposition.VAMP instead.\n",
      "  return caller(func, *(extras + args), **kw)\n",
      "/home/rajarshi/miniconda3/lib/python3.9/site-packages/decorator.py:232: PyEMMA_DeprecationWarning: Call to deprecated function \"vamp\". Called from /home/rajarshi/miniconda3/lib/python3.9/site-packages/decorator.py line 232. Use deeptime.decomposition.VAMP instead.\n",
      "  return caller(func, *(extras + args), **kw)\n",
      "/home/rajarshi/miniconda3/lib/python3.9/site-packages/decorator.py:232: PyEMMA_DeprecationWarning: Call to deprecated function \"vamp\". Called from /home/rajarshi/miniconda3/lib/python3.9/site-packages/decorator.py line 232. Use deeptime.decomposition.VAMP instead.\n",
      "  return caller(func, *(extras + args), **kw)\n",
      "/home/rajarshi/miniconda3/lib/python3.9/site-packages/decorator.py:232: PyEMMA_DeprecationWarning: Call to deprecated function \"vamp\". Called from /home/rajarshi/miniconda3/lib/python3.9/site-packages/decorator.py line 232. Use deeptime.decomposition.VAMP instead.\n",
      "  return caller(func, *(extras + args), **kw)\n",
      "/home/rajarshi/miniconda3/lib/python3.9/site-packages/decorator.py:232: PyEMMA_DeprecationWarning: Call to deprecated function \"vamp\". Called from /home/rajarshi/miniconda3/lib/python3.9/site-packages/decorator.py line 232. Use deeptime.decomposition.VAMP instead.\n",
      "  return caller(func, *(extras + args), **kw)\n",
      "/home/rajarshi/miniconda3/lib/python3.9/site-packages/decorator.py:232: PyEMMA_DeprecationWarning: Call to deprecated function \"vamp\". Called from /home/rajarshi/miniconda3/lib/python3.9/site-packages/decorator.py line 232. Use deeptime.decomposition.VAMP instead.\n",
      "  return caller(func, *(extras + args), **kw)\n",
      "/home/rajarshi/miniconda3/lib/python3.9/site-packages/decorator.py:232: PyEMMA_DeprecationWarning: Call to deprecated function \"vamp\". Called from /home/rajarshi/miniconda3/lib/python3.9/site-packages/decorator.py line 232. Use deeptime.decomposition.VAMP instead.\n",
      "  return caller(func, *(extras + args), **kw)\n",
      "/home/rajarshi/miniconda3/lib/python3.9/site-packages/decorator.py:232: PyEMMA_DeprecationWarning: Call to deprecated function \"vamp\". Called from /home/rajarshi/miniconda3/lib/python3.9/site-packages/decorator.py line 232. Use deeptime.decomposition.VAMP instead.\n",
      "  return caller(func, *(extras + args), **kw)\n",
      "/home/rajarshi/miniconda3/lib/python3.9/site-packages/decorator.py:232: PyEMMA_DeprecationWarning: Call to deprecated function \"vamp\". Called from /home/rajarshi/miniconda3/lib/python3.9/site-packages/decorator.py line 232. Use deeptime.decomposition.VAMP instead.\n",
      "  return caller(func, *(extras + args), **kw)\n",
      "/home/rajarshi/miniconda3/lib/python3.9/site-packages/decorator.py:232: PyEMMA_DeprecationWarning: Call to deprecated function \"vamp\". Called from /home/rajarshi/miniconda3/lib/python3.9/site-packages/decorator.py line 232. Use deeptime.decomposition.VAMP instead.\n",
      "  return caller(func, *(extras + args), **kw)\n",
      "/home/rajarshi/miniconda3/lib/python3.9/site-packages/decorator.py:232: PyEMMA_DeprecationWarning: Call to deprecated function \"vamp\". Called from /home/rajarshi/miniconda3/lib/python3.9/site-packages/decorator.py line 232. Use deeptime.decomposition.VAMP instead.\n",
      "  return caller(func, *(extras + args), **kw)\n",
      "/home/rajarshi/miniconda3/lib/python3.9/site-packages/decorator.py:232: PyEMMA_DeprecationWarning: Call to deprecated function \"vamp\". Called from /home/rajarshi/miniconda3/lib/python3.9/site-packages/decorator.py line 232. Use deeptime.decomposition.VAMP instead.\n",
      "  return caller(func, *(extras + args), **kw)\n",
      "/home/rajarshi/miniconda3/lib/python3.9/site-packages/decorator.py:232: PyEMMA_DeprecationWarning: Call to deprecated function \"vamp\". Called from /home/rajarshi/miniconda3/lib/python3.9/site-packages/decorator.py line 232. Use deeptime.decomposition.VAMP instead.\n",
      "  return caller(func, *(extras + args), **kw)\n",
      "/home/rajarshi/miniconda3/lib/python3.9/site-packages/decorator.py:232: PyEMMA_DeprecationWarning: Call to deprecated function \"vamp\". Called from /home/rajarshi/miniconda3/lib/python3.9/site-packages/decorator.py line 232. Use deeptime.decomposition.VAMP instead.\n",
      "  return caller(func, *(extras + args), **kw)\n",
      "/home/rajarshi/miniconda3/lib/python3.9/site-packages/decorator.py:232: PyEMMA_DeprecationWarning: Call to deprecated function \"vamp\". Called from /home/rajarshi/miniconda3/lib/python3.9/site-packages/decorator.py line 232. Use deeptime.decomposition.VAMP instead.\n",
      "  return caller(func, *(extras + args), **kw)\n"
     ]
    },
    {
     "name": "stderr",
     "output_type": "stream",
     "text": [
      "/home/rajarshi/miniconda3/lib/python3.9/site-packages/decorator.py:232: PyEMMA_DeprecationWarning: Call to deprecated function \"vamp\". Called from /home/rajarshi/miniconda3/lib/python3.9/site-packages/decorator.py line 232. Use deeptime.decomposition.VAMP instead.\n",
      "  return caller(func, *(extras + args), **kw)\n",
      "/home/rajarshi/miniconda3/lib/python3.9/site-packages/decorator.py:232: PyEMMA_DeprecationWarning: Call to deprecated function \"vamp\". Called from /home/rajarshi/miniconda3/lib/python3.9/site-packages/decorator.py line 232. Use deeptime.decomposition.VAMP instead.\n",
      "  return caller(func, *(extras + args), **kw)\n",
      "/home/rajarshi/miniconda3/lib/python3.9/site-packages/decorator.py:232: PyEMMA_DeprecationWarning: Call to deprecated function \"vamp\". Called from /home/rajarshi/miniconda3/lib/python3.9/site-packages/decorator.py line 232. Use deeptime.decomposition.VAMP instead.\n",
      "  return caller(func, *(extras + args), **kw)\n",
      "/home/rajarshi/miniconda3/lib/python3.9/site-packages/decorator.py:232: PyEMMA_DeprecationWarning: Call to deprecated function \"vamp\". Called from /home/rajarshi/miniconda3/lib/python3.9/site-packages/decorator.py line 232. Use deeptime.decomposition.VAMP instead.\n",
      "  return caller(func, *(extras + args), **kw)\n",
      "/home/rajarshi/miniconda3/lib/python3.9/site-packages/decorator.py:232: PyEMMA_DeprecationWarning: Call to deprecated function \"vamp\". Called from /home/rajarshi/miniconda3/lib/python3.9/site-packages/decorator.py line 232. Use deeptime.decomposition.VAMP instead.\n",
      "  return caller(func, *(extras + args), **kw)\n",
      "/home/rajarshi/miniconda3/lib/python3.9/site-packages/decorator.py:232: PyEMMA_DeprecationWarning: Call to deprecated function \"vamp\". Called from /home/rajarshi/miniconda3/lib/python3.9/site-packages/decorator.py line 232. Use deeptime.decomposition.VAMP instead.\n",
      "  return caller(func, *(extras + args), **kw)\n",
      "/home/rajarshi/miniconda3/lib/python3.9/site-packages/decorator.py:232: PyEMMA_DeprecationWarning: Call to deprecated function \"vamp\". Called from /home/rajarshi/miniconda3/lib/python3.9/site-packages/decorator.py line 232. Use deeptime.decomposition.VAMP instead.\n",
      "  return caller(func, *(extras + args), **kw)\n",
      "/home/rajarshi/miniconda3/lib/python3.9/site-packages/decorator.py:232: PyEMMA_DeprecationWarning: Call to deprecated function \"vamp\". Called from /home/rajarshi/miniconda3/lib/python3.9/site-packages/decorator.py line 232. Use deeptime.decomposition.VAMP instead.\n",
      "  return caller(func, *(extras + args), **kw)\n",
      "/home/rajarshi/miniconda3/lib/python3.9/site-packages/decorator.py:232: PyEMMA_DeprecationWarning: Call to deprecated function \"vamp\". Called from /home/rajarshi/miniconda3/lib/python3.9/site-packages/decorator.py line 232. Use deeptime.decomposition.VAMP instead.\n",
      "  return caller(func, *(extras + args), **kw)\n",
      "/home/rajarshi/miniconda3/lib/python3.9/site-packages/decorator.py:232: PyEMMA_DeprecationWarning: Call to deprecated function \"vamp\". Called from /home/rajarshi/miniconda3/lib/python3.9/site-packages/decorator.py line 232. Use deeptime.decomposition.VAMP instead.\n",
      "  return caller(func, *(extras + args), **kw)\n",
      "/home/rajarshi/miniconda3/lib/python3.9/site-packages/decorator.py:232: PyEMMA_DeprecationWarning: Call to deprecated function \"vamp\". Called from /home/rajarshi/miniconda3/lib/python3.9/site-packages/decorator.py line 232. Use deeptime.decomposition.VAMP instead.\n",
      "  return caller(func, *(extras + args), **kw)\n",
      "/home/rajarshi/miniconda3/lib/python3.9/site-packages/decorator.py:232: PyEMMA_DeprecationWarning: Call to deprecated function \"vamp\". Called from /home/rajarshi/miniconda3/lib/python3.9/site-packages/decorator.py line 232. Use deeptime.decomposition.VAMP instead.\n",
      "  return caller(func, *(extras + args), **kw)\n",
      "/home/rajarshi/miniconda3/lib/python3.9/site-packages/decorator.py:232: PyEMMA_DeprecationWarning: Call to deprecated function \"vamp\". Called from /home/rajarshi/miniconda3/lib/python3.9/site-packages/decorator.py line 232. Use deeptime.decomposition.VAMP instead.\n",
      "  return caller(func, *(extras + args), **kw)\n",
      "/home/rajarshi/miniconda3/lib/python3.9/site-packages/decorator.py:232: PyEMMA_DeprecationWarning: Call to deprecated function \"vamp\". Called from /home/rajarshi/miniconda3/lib/python3.9/site-packages/decorator.py line 232. Use deeptime.decomposition.VAMP instead.\n",
      "  return caller(func, *(extras + args), **kw)\n",
      "/home/rajarshi/miniconda3/lib/python3.9/site-packages/decorator.py:232: PyEMMA_DeprecationWarning: Call to deprecated function \"vamp\". Called from /home/rajarshi/miniconda3/lib/python3.9/site-packages/decorator.py line 232. Use deeptime.decomposition.VAMP instead.\n",
      "  return caller(func, *(extras + args), **kw)\n",
      "/home/rajarshi/miniconda3/lib/python3.9/site-packages/decorator.py:232: PyEMMA_DeprecationWarning: Call to deprecated function \"vamp\". Called from /home/rajarshi/miniconda3/lib/python3.9/site-packages/decorator.py line 232. Use deeptime.decomposition.VAMP instead.\n",
      "  return caller(func, *(extras + args), **kw)\n",
      "/home/rajarshi/miniconda3/lib/python3.9/site-packages/decorator.py:232: PyEMMA_DeprecationWarning: Call to deprecated function \"vamp\". Called from /home/rajarshi/miniconda3/lib/python3.9/site-packages/decorator.py line 232. Use deeptime.decomposition.VAMP instead.\n",
      "  return caller(func, *(extras + args), **kw)\n",
      "/home/rajarshi/miniconda3/lib/python3.9/site-packages/decorator.py:232: PyEMMA_DeprecationWarning: Call to deprecated function \"vamp\". Called from /home/rajarshi/miniconda3/lib/python3.9/site-packages/decorator.py line 232. Use deeptime.decomposition.VAMP instead.\n",
      "  return caller(func, *(extras + args), **kw)\n",
      "/home/rajarshi/miniconda3/lib/python3.9/site-packages/decorator.py:232: PyEMMA_DeprecationWarning: Call to deprecated function \"vamp\". Called from /home/rajarshi/miniconda3/lib/python3.9/site-packages/decorator.py line 232. Use deeptime.decomposition.VAMP instead.\n",
      "  return caller(func, *(extras + args), **kw)\n",
      "/home/rajarshi/miniconda3/lib/python3.9/site-packages/decorator.py:232: PyEMMA_DeprecationWarning: Call to deprecated function \"vamp\". Called from /home/rajarshi/miniconda3/lib/python3.9/site-packages/decorator.py line 232. Use deeptime.decomposition.VAMP instead.\n",
      "  return caller(func, *(extras + args), **kw)\n",
      "/home/rajarshi/miniconda3/lib/python3.9/site-packages/decorator.py:232: PyEMMA_DeprecationWarning: Call to deprecated function \"vamp\". Called from /home/rajarshi/miniconda3/lib/python3.9/site-packages/decorator.py line 232. Use deeptime.decomposition.VAMP instead.\n",
      "  return caller(func, *(extras + args), **kw)\n",
      "/home/rajarshi/miniconda3/lib/python3.9/site-packages/decorator.py:232: PyEMMA_DeprecationWarning: Call to deprecated function \"vamp\". Called from /home/rajarshi/miniconda3/lib/python3.9/site-packages/decorator.py line 232. Use deeptime.decomposition.VAMP instead.\n",
      "  return caller(func, *(extras + args), **kw)\n",
      "/home/rajarshi/miniconda3/lib/python3.9/site-packages/decorator.py:232: PyEMMA_DeprecationWarning: Call to deprecated function \"vamp\". Called from /home/rajarshi/miniconda3/lib/python3.9/site-packages/decorator.py line 232. Use deeptime.decomposition.VAMP instead.\n",
      "  return caller(func, *(extras + args), **kw)\n",
      "/home/rajarshi/miniconda3/lib/python3.9/site-packages/decorator.py:232: PyEMMA_DeprecationWarning: Call to deprecated function \"vamp\". Called from /home/rajarshi/miniconda3/lib/python3.9/site-packages/decorator.py line 232. Use deeptime.decomposition.VAMP instead.\n",
      "  return caller(func, *(extras + args), **kw)\n",
      "/home/rajarshi/miniconda3/lib/python3.9/site-packages/decorator.py:232: PyEMMA_DeprecationWarning: Call to deprecated function \"vamp\". Called from /home/rajarshi/miniconda3/lib/python3.9/site-packages/decorator.py line 232. Use deeptime.decomposition.VAMP instead.\n",
      "  return caller(func, *(extras + args), **kw)\n",
      "/home/rajarshi/miniconda3/lib/python3.9/site-packages/decorator.py:232: PyEMMA_DeprecationWarning: Call to deprecated function \"vamp\". Called from /home/rajarshi/miniconda3/lib/python3.9/site-packages/decorator.py line 232. Use deeptime.decomposition.VAMP instead.\n",
      "  return caller(func, *(extras + args), **kw)\n",
      "/home/rajarshi/miniconda3/lib/python3.9/site-packages/decorator.py:232: PyEMMA_DeprecationWarning: Call to deprecated function \"vamp\". Called from /home/rajarshi/miniconda3/lib/python3.9/site-packages/decorator.py line 232. Use deeptime.decomposition.VAMP instead.\n",
      "  return caller(func, *(extras + args), **kw)\n"
     ]
    },
    {
     "name": "stderr",
     "output_type": "stream",
     "text": [
      "/home/rajarshi/miniconda3/lib/python3.9/site-packages/decorator.py:232: PyEMMA_DeprecationWarning: Call to deprecated function \"vamp\". Called from /home/rajarshi/miniconda3/lib/python3.9/site-packages/decorator.py line 232. Use deeptime.decomposition.VAMP instead.\n",
      "  return caller(func, *(extras + args), **kw)\n",
      "/home/rajarshi/miniconda3/lib/python3.9/site-packages/decorator.py:232: PyEMMA_DeprecationWarning: Call to deprecated function \"vamp\". Called from /home/rajarshi/miniconda3/lib/python3.9/site-packages/decorator.py line 232. Use deeptime.decomposition.VAMP instead.\n",
      "  return caller(func, *(extras + args), **kw)\n",
      "/home/rajarshi/miniconda3/lib/python3.9/site-packages/decorator.py:232: PyEMMA_DeprecationWarning: Call to deprecated function \"vamp\". Called from /home/rajarshi/miniconda3/lib/python3.9/site-packages/decorator.py line 232. Use deeptime.decomposition.VAMP instead.\n",
      "  return caller(func, *(extras + args), **kw)\n",
      "/home/rajarshi/miniconda3/lib/python3.9/site-packages/decorator.py:232: PyEMMA_DeprecationWarning: Call to deprecated function \"vamp\". Called from /home/rajarshi/miniconda3/lib/python3.9/site-packages/decorator.py line 232. Use deeptime.decomposition.VAMP instead.\n",
      "  return caller(func, *(extras + args), **kw)\n",
      "/home/rajarshi/miniconda3/lib/python3.9/site-packages/decorator.py:232: PyEMMA_DeprecationWarning: Call to deprecated function \"vamp\". Called from /home/rajarshi/miniconda3/lib/python3.9/site-packages/decorator.py line 232. Use deeptime.decomposition.VAMP instead.\n",
      "  return caller(func, *(extras + args), **kw)\n",
      "/home/rajarshi/miniconda3/lib/python3.9/site-packages/decorator.py:232: PyEMMA_DeprecationWarning: Call to deprecated function \"vamp\". Called from /home/rajarshi/miniconda3/lib/python3.9/site-packages/decorator.py line 232. Use deeptime.decomposition.VAMP instead.\n",
      "  return caller(func, *(extras + args), **kw)\n",
      "/home/rajarshi/miniconda3/lib/python3.9/site-packages/decorator.py:232: PyEMMA_DeprecationWarning: Call to deprecated function \"vamp\". Called from /home/rajarshi/miniconda3/lib/python3.9/site-packages/decorator.py line 232. Use deeptime.decomposition.VAMP instead.\n",
      "  return caller(func, *(extras + args), **kw)\n",
      "/home/rajarshi/miniconda3/lib/python3.9/site-packages/decorator.py:232: PyEMMA_DeprecationWarning: Call to deprecated function \"vamp\". Called from /home/rajarshi/miniconda3/lib/python3.9/site-packages/decorator.py line 232. Use deeptime.decomposition.VAMP instead.\n",
      "  return caller(func, *(extras + args), **kw)\n",
      "/home/rajarshi/miniconda3/lib/python3.9/site-packages/decorator.py:232: PyEMMA_DeprecationWarning: Call to deprecated function \"vamp\". Called from /home/rajarshi/miniconda3/lib/python3.9/site-packages/decorator.py line 232. Use deeptime.decomposition.VAMP instead.\n",
      "  return caller(func, *(extras + args), **kw)\n",
      "/home/rajarshi/miniconda3/lib/python3.9/site-packages/decorator.py:232: PyEMMA_DeprecationWarning: Call to deprecated function \"vamp\". Called from /home/rajarshi/miniconda3/lib/python3.9/site-packages/decorator.py line 232. Use deeptime.decomposition.VAMP instead.\n",
      "  return caller(func, *(extras + args), **kw)\n",
      "/home/rajarshi/miniconda3/lib/python3.9/site-packages/decorator.py:232: PyEMMA_DeprecationWarning: Call to deprecated function \"vamp\". Called from /home/rajarshi/miniconda3/lib/python3.9/site-packages/decorator.py line 232. Use deeptime.decomposition.VAMP instead.\n",
      "  return caller(func, *(extras + args), **kw)\n",
      "/home/rajarshi/miniconda3/lib/python3.9/site-packages/decorator.py:232: PyEMMA_DeprecationWarning: Call to deprecated function \"vamp\". Called from /home/rajarshi/miniconda3/lib/python3.9/site-packages/decorator.py line 232. Use deeptime.decomposition.VAMP instead.\n",
      "  return caller(func, *(extras + args), **kw)\n",
      "/home/rajarshi/miniconda3/lib/python3.9/site-packages/decorator.py:232: PyEMMA_DeprecationWarning: Call to deprecated function \"vamp\". Called from /home/rajarshi/miniconda3/lib/python3.9/site-packages/decorator.py line 232. Use deeptime.decomposition.VAMP instead.\n",
      "  return caller(func, *(extras + args), **kw)\n",
      "/home/rajarshi/miniconda3/lib/python3.9/site-packages/decorator.py:232: PyEMMA_DeprecationWarning: Call to deprecated function \"vamp\". Called from /home/rajarshi/miniconda3/lib/python3.9/site-packages/decorator.py line 232. Use deeptime.decomposition.VAMP instead.\n",
      "  return caller(func, *(extras + args), **kw)\n",
      "/home/rajarshi/miniconda3/lib/python3.9/site-packages/decorator.py:232: PyEMMA_DeprecationWarning: Call to deprecated function \"vamp\". Called from /home/rajarshi/miniconda3/lib/python3.9/site-packages/decorator.py line 232. Use deeptime.decomposition.VAMP instead.\n",
      "  return caller(func, *(extras + args), **kw)\n",
      "/home/rajarshi/miniconda3/lib/python3.9/site-packages/decorator.py:232: PyEMMA_DeprecationWarning: Call to deprecated function \"vamp\". Called from /home/rajarshi/miniconda3/lib/python3.9/site-packages/decorator.py line 232. Use deeptime.decomposition.VAMP instead.\n",
      "  return caller(func, *(extras + args), **kw)\n",
      "/home/rajarshi/miniconda3/lib/python3.9/site-packages/decorator.py:232: PyEMMA_DeprecationWarning: Call to deprecated function \"vamp\". Called from /home/rajarshi/miniconda3/lib/python3.9/site-packages/decorator.py line 232. Use deeptime.decomposition.VAMP instead.\n",
      "  return caller(func, *(extras + args), **kw)\n",
      "/home/rajarshi/miniconda3/lib/python3.9/site-packages/decorator.py:232: PyEMMA_DeprecationWarning: Call to deprecated function \"vamp\". Called from /home/rajarshi/miniconda3/lib/python3.9/site-packages/decorator.py line 232. Use deeptime.decomposition.VAMP instead.\n",
      "  return caller(func, *(extras + args), **kw)\n",
      "/home/rajarshi/miniconda3/lib/python3.9/site-packages/decorator.py:232: PyEMMA_DeprecationWarning: Call to deprecated function \"vamp\". Called from /home/rajarshi/miniconda3/lib/python3.9/site-packages/decorator.py line 232. Use deeptime.decomposition.VAMP instead.\n",
      "  return caller(func, *(extras + args), **kw)\n",
      "/home/rajarshi/miniconda3/lib/python3.9/site-packages/decorator.py:232: PyEMMA_DeprecationWarning: Call to deprecated function \"vamp\". Called from /home/rajarshi/miniconda3/lib/python3.9/site-packages/decorator.py line 232. Use deeptime.decomposition.VAMP instead.\n",
      "  return caller(func, *(extras + args), **kw)\n",
      "/home/rajarshi/miniconda3/lib/python3.9/site-packages/decorator.py:232: PyEMMA_DeprecationWarning: Call to deprecated function \"vamp\". Called from /home/rajarshi/miniconda3/lib/python3.9/site-packages/decorator.py line 232. Use deeptime.decomposition.VAMP instead.\n",
      "  return caller(func, *(extras + args), **kw)\n",
      "/home/rajarshi/miniconda3/lib/python3.9/site-packages/decorator.py:232: PyEMMA_DeprecationWarning: Call to deprecated function \"vamp\". Called from /home/rajarshi/miniconda3/lib/python3.9/site-packages/decorator.py line 232. Use deeptime.decomposition.VAMP instead.\n",
      "  return caller(func, *(extras + args), **kw)\n",
      "/home/rajarshi/miniconda3/lib/python3.9/site-packages/decorator.py:232: PyEMMA_DeprecationWarning: Call to deprecated function \"vamp\". Called from /home/rajarshi/miniconda3/lib/python3.9/site-packages/decorator.py line 232. Use deeptime.decomposition.VAMP instead.\n",
      "  return caller(func, *(extras + args), **kw)\n",
      "/home/rajarshi/miniconda3/lib/python3.9/site-packages/decorator.py:232: PyEMMA_DeprecationWarning: Call to deprecated function \"vamp\". Called from /home/rajarshi/miniconda3/lib/python3.9/site-packages/decorator.py line 232. Use deeptime.decomposition.VAMP instead.\n",
      "  return caller(func, *(extras + args), **kw)\n",
      "/home/rajarshi/miniconda3/lib/python3.9/site-packages/decorator.py:232: PyEMMA_DeprecationWarning: Call to deprecated function \"vamp\". Called from /home/rajarshi/miniconda3/lib/python3.9/site-packages/decorator.py line 232. Use deeptime.decomposition.VAMP instead.\n",
      "  return caller(func, *(extras + args), **kw)\n",
      "/home/rajarshi/miniconda3/lib/python3.9/site-packages/decorator.py:232: PyEMMA_DeprecationWarning: Call to deprecated function \"vamp\". Called from /home/rajarshi/miniconda3/lib/python3.9/site-packages/decorator.py line 232. Use deeptime.decomposition.VAMP instead.\n",
      "  return caller(func, *(extras + args), **kw)\n",
      "/home/rajarshi/miniconda3/lib/python3.9/site-packages/decorator.py:232: PyEMMA_DeprecationWarning: Call to deprecated function \"vamp\". Called from /home/rajarshi/miniconda3/lib/python3.9/site-packages/decorator.py line 232. Use deeptime.decomposition.VAMP instead.\n",
      "  return caller(func, *(extras + args), **kw)\n"
     ]
    },
    {
     "name": "stderr",
     "output_type": "stream",
     "text": [
      "/home/rajarshi/miniconda3/lib/python3.9/site-packages/decorator.py:232: PyEMMA_DeprecationWarning: Call to deprecated function \"vamp\". Called from /home/rajarshi/miniconda3/lib/python3.9/site-packages/decorator.py line 232. Use deeptime.decomposition.VAMP instead.\n",
      "  return caller(func, *(extras + args), **kw)\n",
      "/home/rajarshi/miniconda3/lib/python3.9/site-packages/decorator.py:232: PyEMMA_DeprecationWarning: Call to deprecated function \"vamp\". Called from /home/rajarshi/miniconda3/lib/python3.9/site-packages/decorator.py line 232. Use deeptime.decomposition.VAMP instead.\n",
      "  return caller(func, *(extras + args), **kw)\n",
      "/home/rajarshi/miniconda3/lib/python3.9/site-packages/decorator.py:232: PyEMMA_DeprecationWarning: Call to deprecated function \"vamp\". Called from /home/rajarshi/miniconda3/lib/python3.9/site-packages/decorator.py line 232. Use deeptime.decomposition.VAMP instead.\n",
      "  return caller(func, *(extras + args), **kw)\n",
      "/home/rajarshi/miniconda3/lib/python3.9/site-packages/decorator.py:232: PyEMMA_DeprecationWarning: Call to deprecated function \"vamp\". Called from /home/rajarshi/miniconda3/lib/python3.9/site-packages/decorator.py line 232. Use deeptime.decomposition.VAMP instead.\n",
      "  return caller(func, *(extras + args), **kw)\n",
      "/home/rajarshi/miniconda3/lib/python3.9/site-packages/decorator.py:232: PyEMMA_DeprecationWarning: Call to deprecated function \"vamp\". Called from /home/rajarshi/miniconda3/lib/python3.9/site-packages/decorator.py line 232. Use deeptime.decomposition.VAMP instead.\n",
      "  return caller(func, *(extras + args), **kw)\n",
      "/home/rajarshi/miniconda3/lib/python3.9/site-packages/decorator.py:232: PyEMMA_DeprecationWarning: Call to deprecated function \"vamp\". Called from /home/rajarshi/miniconda3/lib/python3.9/site-packages/decorator.py line 232. Use deeptime.decomposition.VAMP instead.\n",
      "  return caller(func, *(extras + args), **kw)\n",
      "/home/rajarshi/miniconda3/lib/python3.9/site-packages/decorator.py:232: PyEMMA_DeprecationWarning: Call to deprecated function \"vamp\". Called from /home/rajarshi/miniconda3/lib/python3.9/site-packages/decorator.py line 232. Use deeptime.decomposition.VAMP instead.\n",
      "  return caller(func, *(extras + args), **kw)\n",
      "/home/rajarshi/miniconda3/lib/python3.9/site-packages/decorator.py:232: PyEMMA_DeprecationWarning: Call to deprecated function \"vamp\". Called from /home/rajarshi/miniconda3/lib/python3.9/site-packages/decorator.py line 232. Use deeptime.decomposition.VAMP instead.\n",
      "  return caller(func, *(extras + args), **kw)\n",
      "/home/rajarshi/miniconda3/lib/python3.9/site-packages/decorator.py:232: PyEMMA_DeprecationWarning: Call to deprecated function \"vamp\". Called from /home/rajarshi/miniconda3/lib/python3.9/site-packages/decorator.py line 232. Use deeptime.decomposition.VAMP instead.\n",
      "  return caller(func, *(extras + args), **kw)\n",
      "/home/rajarshi/miniconda3/lib/python3.9/site-packages/decorator.py:232: PyEMMA_DeprecationWarning: Call to deprecated function \"vamp\". Called from /home/rajarshi/miniconda3/lib/python3.9/site-packages/decorator.py line 232. Use deeptime.decomposition.VAMP instead.\n",
      "  return caller(func, *(extras + args), **kw)\n",
      "/home/rajarshi/miniconda3/lib/python3.9/site-packages/decorator.py:232: PyEMMA_DeprecationWarning: Call to deprecated function \"vamp\". Called from /home/rajarshi/miniconda3/lib/python3.9/site-packages/decorator.py line 232. Use deeptime.decomposition.VAMP instead.\n",
      "  return caller(func, *(extras + args), **kw)\n",
      "/home/rajarshi/miniconda3/lib/python3.9/site-packages/decorator.py:232: PyEMMA_DeprecationWarning: Call to deprecated function \"vamp\". Called from /home/rajarshi/miniconda3/lib/python3.9/site-packages/decorator.py line 232. Use deeptime.decomposition.VAMP instead.\n",
      "  return caller(func, *(extras + args), **kw)\n",
      "/home/rajarshi/miniconda3/lib/python3.9/site-packages/decorator.py:232: PyEMMA_DeprecationWarning: Call to deprecated function \"vamp\". Called from /home/rajarshi/miniconda3/lib/python3.9/site-packages/decorator.py line 232. Use deeptime.decomposition.VAMP instead.\n",
      "  return caller(func, *(extras + args), **kw)\n",
      "/home/rajarshi/miniconda3/lib/python3.9/site-packages/decorator.py:232: PyEMMA_DeprecationWarning: Call to deprecated function \"vamp\". Called from /home/rajarshi/miniconda3/lib/python3.9/site-packages/decorator.py line 232. Use deeptime.decomposition.VAMP instead.\n",
      "  return caller(func, *(extras + args), **kw)\n",
      "/home/rajarshi/miniconda3/lib/python3.9/site-packages/decorator.py:232: PyEMMA_DeprecationWarning: Call to deprecated function \"vamp\". Called from /home/rajarshi/miniconda3/lib/python3.9/site-packages/decorator.py line 232. Use deeptime.decomposition.VAMP instead.\n",
      "  return caller(func, *(extras + args), **kw)\n",
      "/home/rajarshi/miniconda3/lib/python3.9/site-packages/decorator.py:232: PyEMMA_DeprecationWarning: Call to deprecated function \"vamp\". Called from /home/rajarshi/miniconda3/lib/python3.9/site-packages/decorator.py line 232. Use deeptime.decomposition.VAMP instead.\n",
      "  return caller(func, *(extras + args), **kw)\n",
      "/home/rajarshi/miniconda3/lib/python3.9/site-packages/decorator.py:232: PyEMMA_DeprecationWarning: Call to deprecated function \"vamp\". Called from /home/rajarshi/miniconda3/lib/python3.9/site-packages/decorator.py line 232. Use deeptime.decomposition.VAMP instead.\n",
      "  return caller(func, *(extras + args), **kw)\n",
      "/home/rajarshi/miniconda3/lib/python3.9/site-packages/decorator.py:232: PyEMMA_DeprecationWarning: Call to deprecated function \"vamp\". Called from /home/rajarshi/miniconda3/lib/python3.9/site-packages/decorator.py line 232. Use deeptime.decomposition.VAMP instead.\n",
      "  return caller(func, *(extras + args), **kw)\n",
      "/home/rajarshi/miniconda3/lib/python3.9/site-packages/decorator.py:232: PyEMMA_DeprecationWarning: Call to deprecated function \"vamp\". Called from /home/rajarshi/miniconda3/lib/python3.9/site-packages/decorator.py line 232. Use deeptime.decomposition.VAMP instead.\n",
      "  return caller(func, *(extras + args), **kw)\n",
      "/home/rajarshi/miniconda3/lib/python3.9/site-packages/decorator.py:232: PyEMMA_DeprecationWarning: Call to deprecated function \"vamp\". Called from /home/rajarshi/miniconda3/lib/python3.9/site-packages/decorator.py line 232. Use deeptime.decomposition.VAMP instead.\n",
      "  return caller(func, *(extras + args), **kw)\n",
      "/home/rajarshi/miniconda3/lib/python3.9/site-packages/decorator.py:232: PyEMMA_DeprecationWarning: Call to deprecated function \"vamp\". Called from /home/rajarshi/miniconda3/lib/python3.9/site-packages/decorator.py line 232. Use deeptime.decomposition.VAMP instead.\n",
      "  return caller(func, *(extras + args), **kw)\n",
      "/home/rajarshi/miniconda3/lib/python3.9/site-packages/decorator.py:232: PyEMMA_DeprecationWarning: Call to deprecated function \"vamp\". Called from /home/rajarshi/miniconda3/lib/python3.9/site-packages/decorator.py line 232. Use deeptime.decomposition.VAMP instead.\n",
      "  return caller(func, *(extras + args), **kw)\n",
      "/home/rajarshi/miniconda3/lib/python3.9/site-packages/decorator.py:232: PyEMMA_DeprecationWarning: Call to deprecated function \"vamp\". Called from /home/rajarshi/miniconda3/lib/python3.9/site-packages/decorator.py line 232. Use deeptime.decomposition.VAMP instead.\n",
      "  return caller(func, *(extras + args), **kw)\n",
      "/home/rajarshi/miniconda3/lib/python3.9/site-packages/decorator.py:232: PyEMMA_DeprecationWarning: Call to deprecated function \"vamp\". Called from /home/rajarshi/miniconda3/lib/python3.9/site-packages/decorator.py line 232. Use deeptime.decomposition.VAMP instead.\n",
      "  return caller(func, *(extras + args), **kw)\n",
      "/home/rajarshi/miniconda3/lib/python3.9/site-packages/decorator.py:232: PyEMMA_DeprecationWarning: Call to deprecated function \"vamp\". Called from /home/rajarshi/miniconda3/lib/python3.9/site-packages/decorator.py line 232. Use deeptime.decomposition.VAMP instead.\n",
      "  return caller(func, *(extras + args), **kw)\n",
      "/home/rajarshi/miniconda3/lib/python3.9/site-packages/decorator.py:232: PyEMMA_DeprecationWarning: Call to deprecated function \"vamp\". Called from /home/rajarshi/miniconda3/lib/python3.9/site-packages/decorator.py line 232. Use deeptime.decomposition.VAMP instead.\n",
      "  return caller(func, *(extras + args), **kw)\n",
      "/home/rajarshi/miniconda3/lib/python3.9/site-packages/decorator.py:232: PyEMMA_DeprecationWarning: Call to deprecated function \"vamp\". Called from /home/rajarshi/miniconda3/lib/python3.9/site-packages/decorator.py line 232. Use deeptime.decomposition.VAMP instead.\n",
      "  return caller(func, *(extras + args), **kw)\n"
     ]
    },
    {
     "name": "stderr",
     "output_type": "stream",
     "text": [
      "/home/rajarshi/miniconda3/lib/python3.9/site-packages/decorator.py:232: PyEMMA_DeprecationWarning: Call to deprecated function \"vamp\". Called from /home/rajarshi/miniconda3/lib/python3.9/site-packages/decorator.py line 232. Use deeptime.decomposition.VAMP instead.\n",
      "  return caller(func, *(extras + args), **kw)\n",
      "/home/rajarshi/miniconda3/lib/python3.9/site-packages/decorator.py:232: PyEMMA_DeprecationWarning: Call to deprecated function \"vamp\". Called from /home/rajarshi/miniconda3/lib/python3.9/site-packages/decorator.py line 232. Use deeptime.decomposition.VAMP instead.\n",
      "  return caller(func, *(extras + args), **kw)\n",
      "/home/rajarshi/miniconda3/lib/python3.9/site-packages/decorator.py:232: PyEMMA_DeprecationWarning: Call to deprecated function \"vamp\". Called from /home/rajarshi/miniconda3/lib/python3.9/site-packages/decorator.py line 232. Use deeptime.decomposition.VAMP instead.\n",
      "  return caller(func, *(extras + args), **kw)\n",
      "/home/rajarshi/miniconda3/lib/python3.9/site-packages/decorator.py:232: PyEMMA_DeprecationWarning: Call to deprecated function \"vamp\". Called from /home/rajarshi/miniconda3/lib/python3.9/site-packages/decorator.py line 232. Use deeptime.decomposition.VAMP instead.\n",
      "  return caller(func, *(extras + args), **kw)\n",
      "/home/rajarshi/miniconda3/lib/python3.9/site-packages/decorator.py:232: PyEMMA_DeprecationWarning: Call to deprecated function \"vamp\". Called from /home/rajarshi/miniconda3/lib/python3.9/site-packages/decorator.py line 232. Use deeptime.decomposition.VAMP instead.\n",
      "  return caller(func, *(extras + args), **kw)\n",
      "/home/rajarshi/miniconda3/lib/python3.9/site-packages/decorator.py:232: PyEMMA_DeprecationWarning: Call to deprecated function \"vamp\". Called from /home/rajarshi/miniconda3/lib/python3.9/site-packages/decorator.py line 232. Use deeptime.decomposition.VAMP instead.\n",
      "  return caller(func, *(extras + args), **kw)\n",
      "/home/rajarshi/miniconda3/lib/python3.9/site-packages/decorator.py:232: PyEMMA_DeprecationWarning: Call to deprecated function \"vamp\". Called from /home/rajarshi/miniconda3/lib/python3.9/site-packages/decorator.py line 232. Use deeptime.decomposition.VAMP instead.\n",
      "  return caller(func, *(extras + args), **kw)\n",
      "/home/rajarshi/miniconda3/lib/python3.9/site-packages/decorator.py:232: PyEMMA_DeprecationWarning: Call to deprecated function \"vamp\". Called from /home/rajarshi/miniconda3/lib/python3.9/site-packages/decorator.py line 232. Use deeptime.decomposition.VAMP instead.\n",
      "  return caller(func, *(extras + args), **kw)\n",
      "/home/rajarshi/miniconda3/lib/python3.9/site-packages/decorator.py:232: PyEMMA_DeprecationWarning: Call to deprecated function \"vamp\". Called from /home/rajarshi/miniconda3/lib/python3.9/site-packages/decorator.py line 232. Use deeptime.decomposition.VAMP instead.\n",
      "  return caller(func, *(extras + args), **kw)\n",
      "/home/rajarshi/miniconda3/lib/python3.9/site-packages/decorator.py:232: PyEMMA_DeprecationWarning: Call to deprecated function \"vamp\". Called from /home/rajarshi/miniconda3/lib/python3.9/site-packages/decorator.py line 232. Use deeptime.decomposition.VAMP instead.\n",
      "  return caller(func, *(extras + args), **kw)\n",
      "/home/rajarshi/miniconda3/lib/python3.9/site-packages/decorator.py:232: PyEMMA_DeprecationWarning: Call to deprecated function \"vamp\". Called from /home/rajarshi/miniconda3/lib/python3.9/site-packages/decorator.py line 232. Use deeptime.decomposition.VAMP instead.\n",
      "  return caller(func, *(extras + args), **kw)\n",
      "/home/rajarshi/miniconda3/lib/python3.9/site-packages/decorator.py:232: PyEMMA_DeprecationWarning: Call to deprecated function \"vamp\". Called from /home/rajarshi/miniconda3/lib/python3.9/site-packages/decorator.py line 232. Use deeptime.decomposition.VAMP instead.\n",
      "  return caller(func, *(extras + args), **kw)\n",
      "/home/rajarshi/miniconda3/lib/python3.9/site-packages/decorator.py:232: PyEMMA_DeprecationWarning: Call to deprecated function \"vamp\". Called from /home/rajarshi/miniconda3/lib/python3.9/site-packages/decorator.py line 232. Use deeptime.decomposition.VAMP instead.\n",
      "  return caller(func, *(extras + args), **kw)\n",
      "/home/rajarshi/miniconda3/lib/python3.9/site-packages/decorator.py:232: PyEMMA_DeprecationWarning: Call to deprecated function \"vamp\". Called from /home/rajarshi/miniconda3/lib/python3.9/site-packages/decorator.py line 232. Use deeptime.decomposition.VAMP instead.\n",
      "  return caller(func, *(extras + args), **kw)\n",
      "/home/rajarshi/miniconda3/lib/python3.9/site-packages/decorator.py:232: PyEMMA_DeprecationWarning: Call to deprecated function \"vamp\". Called from /home/rajarshi/miniconda3/lib/python3.9/site-packages/decorator.py line 232. Use deeptime.decomposition.VAMP instead.\n",
      "  return caller(func, *(extras + args), **kw)\n",
      "/home/rajarshi/miniconda3/lib/python3.9/site-packages/decorator.py:232: PyEMMA_DeprecationWarning: Call to deprecated function \"vamp\". Called from /home/rajarshi/miniconda3/lib/python3.9/site-packages/decorator.py line 232. Use deeptime.decomposition.VAMP instead.\n",
      "  return caller(func, *(extras + args), **kw)\n",
      "/home/rajarshi/miniconda3/lib/python3.9/site-packages/decorator.py:232: PyEMMA_DeprecationWarning: Call to deprecated function \"vamp\". Called from /home/rajarshi/miniconda3/lib/python3.9/site-packages/decorator.py line 232. Use deeptime.decomposition.VAMP instead.\n",
      "  return caller(func, *(extras + args), **kw)\n",
      "/home/rajarshi/miniconda3/lib/python3.9/site-packages/decorator.py:232: PyEMMA_DeprecationWarning: Call to deprecated function \"vamp\". Called from /home/rajarshi/miniconda3/lib/python3.9/site-packages/decorator.py line 232. Use deeptime.decomposition.VAMP instead.\n",
      "  return caller(func, *(extras + args), **kw)\n",
      "/home/rajarshi/miniconda3/lib/python3.9/site-packages/decorator.py:232: PyEMMA_DeprecationWarning: Call to deprecated function \"vamp\". Called from /home/rajarshi/miniconda3/lib/python3.9/site-packages/decorator.py line 232. Use deeptime.decomposition.VAMP instead.\n",
      "  return caller(func, *(extras + args), **kw)\n",
      "/home/rajarshi/miniconda3/lib/python3.9/site-packages/decorator.py:232: PyEMMA_DeprecationWarning: Call to deprecated function \"vamp\". Called from /home/rajarshi/miniconda3/lib/python3.9/site-packages/decorator.py line 232. Use deeptime.decomposition.VAMP instead.\n",
      "  return caller(func, *(extras + args), **kw)\n",
      "/home/rajarshi/miniconda3/lib/python3.9/site-packages/decorator.py:232: PyEMMA_DeprecationWarning: Call to deprecated function \"vamp\". Called from /home/rajarshi/miniconda3/lib/python3.9/site-packages/decorator.py line 232. Use deeptime.decomposition.VAMP instead.\n",
      "  return caller(func, *(extras + args), **kw)\n",
      "/home/rajarshi/miniconda3/lib/python3.9/site-packages/decorator.py:232: PyEMMA_DeprecationWarning: Call to deprecated function \"vamp\". Called from /home/rajarshi/miniconda3/lib/python3.9/site-packages/decorator.py line 232. Use deeptime.decomposition.VAMP instead.\n",
      "  return caller(func, *(extras + args), **kw)\n"
     ]
    },
    {
     "data": {
      "image/png": "[encoded data removed]",
      "text/plain": [
       "<Figure size 640x480 with 1 Axes>"
      ]
     },
     "metadata": {},
     "output_type": "display_data"
    }
   ],
   "source": [
    "#Finding lag time and dimensions for tICA dimenstion reduction\n",
    "#Maybe wont converge, so use intuition\n",
    "\n",
    "lags = [5,10,20,50]\n",
    "dims = [i + 1 for i in range(10)]\n",
    "\n",
    "fig, ax = plt.subplots()\n",
    "for i, lag in enumerate(lags):\n",
    "    scores_ = np.array([score_cv(data, dim, lag)\n",
    "                        for dim in dims])\n",
    "    scores = np.mean(scores_, axis=1)\n",
    "    errors = np.std(scores_, axis=1, ddof=1)\n",
    "    color = 'C{}'.format(i)\n",
    "    ax.fill_between(dims, scores - errors, scores + errors, alpha=0.3, facecolor=color)\n",
    "    ax.plot(dims, scores, '--o', color=color, label='lag={:.1f}ns'.format(lag * 0.01))\n",
    "ax.legend()\n",
    "ax.set_xlabel('number of dimensions')\n",
    "ax.set_ylabel('VAMP2 score')\n",
    "fig.tight_layout()"
   ]
  },
  {
   "cell_type": "code",
   "execution_count": 17,
   "id": "d61f9b17",
   "metadata": {},
   "outputs": [
    {
     "name": "stderr",
     "output_type": "stream",
     "text": [
      "/home/rajarshi/miniconda3/lib/python3.9/site-packages/decorator.py:232: PyEMMA_DeprecationWarning: Call to deprecated function \"tica\". Called from /home/rajarshi/miniconda3/lib/python3.9/site-packages/decorator.py line 232. Use deeptime.decomposition.TICA instead.\n",
      "  return caller(func, *(extras + args), **kw)\n"
     ]
    },
    {
     "data": {
      "application/vnd.jupyter.widget-view+json": {
       "model_id": "",
       "version_major": 2,
       "version_minor": 0
      },
      "text/plain": [
       "calculate covariances:   0%|                                                               | 0/29 [00:00<?, ?i…"
      ]
     },
     "metadata": {},
     "output_type": "display_data"
    },
    {
     "data": {
      "application/vnd.jupyter.widget-view+json": {
       "model_id": "",
       "version_major": 2,
       "version_minor": 0
      },
      "text/plain": [
       "getting output of TICA:   0%|                                                              | 0/29 [00:00<?, ?i…"
      ]
     },
     "metadata": {},
     "output_type": "display_data"
    },
    {
     "data": {
      "application/vnd.jupyter.widget-view+json": {
       "model_id": "",
       "version_major": 2,
       "version_minor": 0
      },
      "text/plain": [
       "getting output of TICA:   0%|                                                              | 0/29 [00:00<?, ?i…"
      ]
     },
     "metadata": {},
     "output_type": "display_data"
    },
    {
     "data": {
      "application/vnd.jupyter.widget-view+json": {
       "model_id": "",
       "version_major": 2,
       "version_minor": 0
      },
      "text/plain": [
       "getting output of TICA:   0%|                                                              | 0/29 [00:00<?, ?i…"
      ]
     },
     "metadata": {},
     "output_type": "display_data"
    },
    {
     "data": {
      "application/vnd.jupyter.widget-view+json": {
       "model_id": "",
       "version_major": 2,
       "version_minor": 0
      },
      "text/plain": [
       "getting output of TICA:   0%|                                                              | 0/29 [00:00<?, ?i…"
      ]
     },
     "metadata": {},
     "output_type": "display_data"
    },
    {
     "data": {
      "application/vnd.jupyter.widget-view+json": {
       "model_id": "",
       "version_major": 2,
       "version_minor": 0
      },
      "text/plain": [
       "getting output of TICA:   0%|                                                              | 0/29 [00:00<?, ?i…"
      ]
     },
     "metadata": {},
     "output_type": "display_data"
    },
    {
     "data": {
      "application/vnd.jupyter.widget-view+json": {
       "model_id": "",
       "version_major": 2,
       "version_minor": 0
      },
      "text/plain": [
       "getting output of TICA:   0%|                                                              | 0/29 [00:00<?, ?i…"
      ]
     },
     "metadata": {},
     "output_type": "display_data"
    },
    {
     "data": {
      "application/vnd.jupyter.widget-view+json": {
       "model_id": "",
       "version_major": 2,
       "version_minor": 0
      },
      "text/plain": [
       "getting output of TICA:   0%|                                                              | 0/29 [00:00<?, ?i…"
      ]
     },
     "metadata": {},
     "output_type": "display_data"
    },
    {
     "data": {
      "application/vnd.jupyter.widget-view+json": {
       "model_id": "",
       "version_major": 2,
       "version_minor": 0
      },
      "text/plain": [
       "getting output of TICA:   0%|                                                              | 0/29 [00:00<?, ?i…"
      ]
     },
     "metadata": {},
     "output_type": "display_data"
    },
    {
     "data": {
      "application/vnd.jupyter.widget-view+json": {
       "model_id": "",
       "version_major": 2,
       "version_minor": 0
      },
      "text/plain": [
       "getting output of TICA:   0%|                                                              | 0/29 [00:00<?, ?i…"
      ]
     },
     "metadata": {},
     "output_type": "display_data"
    },
    {
     "data": {
      "application/vnd.jupyter.widget-view+json": {
       "model_id": "",
       "version_major": 2,
       "version_minor": 0
      },
      "text/plain": [
       "getting output of TICA:   0%|                                                              | 0/29 [00:00<?, ?i…"
      ]
     },
     "metadata": {},
     "output_type": "display_data"
    },
    {
     "data": {
      "application/vnd.jupyter.widget-view+json": {
       "model_id": "",
       "version_major": 2,
       "version_minor": 0
      },
      "text/plain": [
       "getting output of TICA:   0%|                                                              | 0/29 [00:00<?, ?i…"
      ]
     },
     "metadata": {},
     "output_type": "display_data"
    },
    {
     "data": {
      "application/vnd.jupyter.widget-view+json": {
       "model_id": "",
       "version_major": 2,
       "version_minor": 0
      },
      "text/plain": [
       "getting output of TICA:   0%|                                                              | 0/29 [00:00<?, ?i…"
      ]
     },
     "metadata": {},
     "output_type": "display_data"
    },
    {
     "data": {
      "application/vnd.jupyter.widget-view+json": {
       "model_id": "",
       "version_major": 2,
       "version_minor": 0
      },
      "text/plain": [
       "getting output of TICA:   0%|                                                              | 0/29 [00:00<?, ?i…"
      ]
     },
     "metadata": {},
     "output_type": "display_data"
    },
    {
     "data": {
      "application/vnd.jupyter.widget-view+json": {
       "model_id": "",
       "version_major": 2,
       "version_minor": 0
      },
      "text/plain": [
       "getting output of TICA:   0%|                                                              | 0/29 [00:00<?, ?i…"
      ]
     },
     "metadata": {},
     "output_type": "display_data"
    },
    {
     "data": {
      "application/vnd.jupyter.widget-view+json": {
       "model_id": "",
       "version_major": 2,
       "version_minor": 0
      },
      "text/plain": [
       "getting output of TICA:   0%|                                                              | 0/29 [00:00<?, ?i…"
      ]
     },
     "metadata": {},
     "output_type": "display_data"
    },
    {
     "data": {
      "application/vnd.jupyter.widget-view+json": {
       "model_id": "",
       "version_major": 2,
       "version_minor": 0
      },
      "text/plain": [
       "getting output of TICA:   0%|                                                              | 0/29 [00:00<?, ?i…"
      ]
     },
     "metadata": {},
     "output_type": "display_data"
    },
    {
     "data": {
      "application/vnd.jupyter.widget-view+json": {
       "model_id": "",
       "version_major": 2,
       "version_minor": 0
      },
      "text/plain": [
       "getting output of TICA:   0%|                                                              | 0/29 [00:00<?, ?i…"
      ]
     },
     "metadata": {},
     "output_type": "display_data"
    },
    {
     "data": {
      "application/vnd.jupyter.widget-view+json": {
       "model_id": "",
       "version_major": 2,
       "version_minor": 0
      },
      "text/plain": [
       "getting output of TICA:   0%|                                                              | 0/29 [00:00<?, ?i…"
      ]
     },
     "metadata": {},
     "output_type": "display_data"
    },
    {
     "data": {
      "application/vnd.jupyter.widget-view+json": {
       "model_id": "",
       "version_major": 2,
       "version_minor": 0
      },
      "text/plain": [
       "getting output of TICA:   0%|                                                              | 0/29 [00:00<?, ?i…"
      ]
     },
     "metadata": {},
     "output_type": "display_data"
    },
    {
     "data": {
      "application/vnd.jupyter.widget-view+json": {
       "model_id": "",
       "version_major": 2,
       "version_minor": 0
      },
      "text/plain": [
       "getting output of TICA:   0%|                                                              | 0/29 [00:00<?, ?i…"
      ]
     },
     "metadata": {},
     "output_type": "display_data"
    },
    {
     "data": {
      "application/vnd.jupyter.widget-view+json": {
       "model_id": "",
       "version_major": 2,
       "version_minor": 0
      },
      "text/plain": [
       "getting output of TICA:   0%|                                                              | 0/29 [00:00<?, ?i…"
      ]
     },
     "metadata": {},
     "output_type": "display_data"
    },
    {
     "data": {
      "application/vnd.jupyter.widget-view+json": {
       "model_id": "",
       "version_major": 2,
       "version_minor": 0
      },
      "text/plain": [
       "getting output of TICA:   0%|                                                              | 0/29 [00:00<?, ?i…"
      ]
     },
     "metadata": {},
     "output_type": "display_data"
    },
    {
     "data": {
      "application/vnd.jupyter.widget-view+json": {
       "model_id": "",
       "version_major": 2,
       "version_minor": 0
      },
      "text/plain": [
       "getting output of TICA:   0%|                                                              | 0/29 [00:00<?, ?i…"
      ]
     },
     "metadata": {},
     "output_type": "display_data"
    },
    {
     "data": {
      "application/vnd.jupyter.widget-view+json": {
       "model_id": "",
       "version_major": 2,
       "version_minor": 0
      },
      "text/plain": [
       "getting output of TICA:   0%|                                                              | 0/29 [00:00<?, ?i…"
      ]
     },
     "metadata": {},
     "output_type": "display_data"
    },
    {
     "data": {
      "application/vnd.jupyter.widget-view+json": {
       "model_id": "",
       "version_major": 2,
       "version_minor": 0
      },
      "text/plain": [
       "getting output of TICA:   0%|                                                              | 0/29 [00:00<?, ?i…"
      ]
     },
     "metadata": {},
     "output_type": "display_data"
    },
    {
     "data": {
      "application/vnd.jupyter.widget-view+json": {
       "model_id": "",
       "version_major": 2,
       "version_minor": 0
      },
      "text/plain": [
       "getting output of TICA:   0%|                                                              | 0/29 [00:00<?, ?i…"
      ]
     },
     "metadata": {},
     "output_type": "display_data"
    },
    {
     "data": {
      "application/vnd.jupyter.widget-view+json": {
       "model_id": "",
       "version_major": 2,
       "version_minor": 0
      },
      "text/plain": [
       "getting output of TICA:   0%|                                                              | 0/29 [00:00<?, ?i…"
      ]
     },
     "metadata": {},
     "output_type": "display_data"
    },
    {
     "data": {
      "application/vnd.jupyter.widget-view+json": {
       "model_id": "",
       "version_major": 2,
       "version_minor": 0
      },
      "text/plain": [
       "getting output of TICA:   0%|                                                              | 0/29 [00:00<?, ?i…"
      ]
     },
     "metadata": {},
     "output_type": "display_data"
    },
    {
     "data": {
      "application/vnd.jupyter.widget-view+json": {
       "model_id": "",
       "version_major": 2,
       "version_minor": 0
      },
      "text/plain": [
       "getting output of TICA:   0%|                                                              | 0/29 [00:00<?, ?i…"
      ]
     },
     "metadata": {},
     "output_type": "display_data"
    },
    {
     "name": "stdout",
     "output_type": "stream",
     "text": [
      "Projected data shape =  (580029, 2)\n"
     ]
    }
   ],
   "source": [
    "#DOING TICA\n",
    "\n",
    "lag=10\n",
    "tica_obj = coor.tica(inp, lag=lag, dim=2, kinetic_map=False)\n",
    "\n",
    "\n",
    "Y7 = [\n",
    "    tica_obj.get_output()[0], \n",
    "    tica_obj.get_output()[1], \n",
    "    tica_obj.get_output()[2], \n",
    "    tica_obj.get_output()[3],\n",
    "    tica_obj.get_output()[4],\n",
    "    tica_obj.get_output()[5],\n",
    "    tica_obj.get_output()[6],\n",
    "    tica_obj.get_output()[7],\n",
    "    tica_obj.get_output()[8],\n",
    "    tica_obj.get_output()[9],\n",
    "    tica_obj.get_output()[10],\n",
    "    tica_obj.get_output()[11],\n",
    "    tica_obj.get_output()[12],\n",
    "    tica_obj.get_output()[13],\n",
    "    tica_obj.get_output()[14],\n",
    "    tica_obj.get_output()[15],\n",
    "    tica_obj.get_output()[16],\n",
    "    tica_obj.get_output()[17],\n",
    "    tica_obj.get_output()[18],\n",
    "    tica_obj.get_output()[19],\n",
    "    tica_obj.get_output()[20],\n",
    "    tica_obj.get_output()[21],\n",
    "    tica_obj.get_output()[22],\n",
    "    tica_obj.get_output()[23],\n",
    "    tica_obj.get_output()[24],\n",
    "    tica_obj.get_output()[25],\n",
    "    tica_obj.get_output()[26],\n",
    "    tica_obj.get_output()[27],\n",
    "    tica_obj.get_output()[28]\n",
    "\n",
    "    ]\n",
    "\n",
    "Y = np.vstack(Y7)\n",
    "\n",
    "\n",
    "print('Projected data shape = ', Y.shape)\n",
    "\n"
   ]
  },
  {
   "cell_type": "code",
   "execution_count": 20,
   "id": "9e512e4c",
   "metadata": {},
   "outputs": [
    {
     "data": {
      "text/plain": [
       "Text(0.5, 0, 'time (10 ps)')"
      ]
     },
     "execution_count": 20,
     "metadata": {},
     "output_type": "execute_result"
    },
    {
     "data": {
      "image/png": "[encoded data removed]",
      "text/plain": [
       "<Figure size 640x480 with 2 Axes>"
      ]
     },
     "metadata": {},
     "output_type": "display_data"
    }
   ],
   "source": [
    "#PLotting TICA plots vvith time\n",
    "\n",
    "subplot2grid((2,1),(0,0))\n",
    "plot(Y[:,0])\n",
    "ylabel('ind. comp. 1')\n",
    "subplot2grid((2,1),(1,0))\n",
    "plot(Y[:,1])\n",
    "ylabel('ind. comp. 2')\n",
    "xlabel('time (10 ps)')\n",
    "\n",
    "#plt.savefig('1_TICA_plot_wt.png')"
   ]
  },
  {
   "cell_type": "code",
   "execution_count": 23,
   "id": "cb27a82f",
   "metadata": {},
   "outputs": [
    {
     "data": {
      "text/plain": [
       "(<Figure size 640x480 with 2 Axes>,\n",
       " <AxesSubplot:>,\n",
       " {'mappable': <matplotlib.contour.QuadContourSet at 0x7fc902e98eb0>,\n",
       "  'cbar': <matplotlib.colorbar.Colorbar at 0x7fc8f4fd6520>})"
      ]
     },
     "execution_count": 23,
     "metadata": {},
     "output_type": "execute_result"
    },
    {
     "data": {
      "image/png": "[encoded data removed]",
      "text/plain": [
       "<Figure size 640x480 with 2 Axes>"
      ]
     },
     "metadata": {},
     "output_type": "display_data"
    }
   ],
   "source": [
    "#Plotting the IC1 and IC2 Energy plot\n",
    "\n",
    "pyemma.plots.plot_free_energy(*Y.T[0:2], legacy=False)"
   ]
  },
  {
   "cell_type": "code",
   "execution_count": 22,
   "id": "e4541fae",
   "metadata": {},
   "outputs": [
    {
     "name": "stderr",
     "output_type": "stream",
     "text": [
      "/home/rajarshi/miniconda3/lib/python3.9/site-packages/decorator.py:232: PyEMMA_DeprecationWarning: Call to deprecated function \"cluster_kmeans\". Called from /home/rajarshi/miniconda3/lib/python3.9/site-packages/decorator.py line 232. Use deeptime.clustering.KMeans instead.\n",
      "  return caller(func, *(extras + args), **kw)\n",
      "/home/rajarshi/miniconda3/lib/python3.9/site-packages/decorator.py:232: PyEMMA_DeprecationWarning: Call to deprecated function \"cluster_kmeans\". Called from /home/rajarshi/miniconda3/lib/python3.9/site-packages/decorator.py line 232. Use deeptime.clustering.KMeans instead.\n",
      "  return caller(func, *(extras + args), **kw)\n",
      "/home/rajarshi/miniconda3/lib/python3.9/site-packages/decorator.py:232: PyEMMA_DeprecationWarning: Call to deprecated function \"cluster_kmeans\". Called from /home/rajarshi/miniconda3/lib/python3.9/site-packages/decorator.py line 232. Use deeptime.clustering.KMeans instead.\n",
      "  return caller(func, *(extras + args), **kw)\n",
      "/home/rajarshi/miniconda3/lib/python3.9/site-packages/decorator.py:232: PyEMMA_DeprecationWarning: Call to deprecated function \"cluster_kmeans\". Called from /home/rajarshi/miniconda3/lib/python3.9/site-packages/decorator.py line 232. Use deeptime.clustering.KMeans instead.\n",
      "  return caller(func, *(extras + args), **kw)\n",
      "/home/rajarshi/miniconda3/lib/python3.9/site-packages/decorator.py:232: PyEMMA_DeprecationWarning: Call to deprecated function \"cluster_kmeans\". Called from /home/rajarshi/miniconda3/lib/python3.9/site-packages/decorator.py line 232. Use deeptime.clustering.KMeans instead.\n",
      "  return caller(func, *(extras + args), **kw)\n",
      "/home/rajarshi/miniconda3/lib/python3.9/site-packages/decorator.py:232: PyEMMA_DeprecationWarning: Call to deprecated function \"cluster_kmeans\". Called from /home/rajarshi/miniconda3/lib/python3.9/site-packages/decorator.py line 232. Use deeptime.clustering.KMeans instead.\n",
      "  return caller(func, *(extras + args), **kw)\n",
      "/home/rajarshi/miniconda3/lib/python3.9/site-packages/decorator.py:232: PyEMMA_DeprecationWarning: Call to deprecated function \"cluster_kmeans\". Called from /home/rajarshi/miniconda3/lib/python3.9/site-packages/decorator.py line 232. Use deeptime.clustering.KMeans instead.\n",
      "  return caller(func, *(extras + args), **kw)\n"
     ]
    },
    {
     "name": "stdout",
     "output_type": "stream",
     "text": [
      "13-01-25 23:57:40 pyemma.coordinates.clustering.kmeans.KmeansClustering[50] WARNING  Algorithm did not reach convergence criterion of 1e-05 in 50 iterations. Consider increasing max_iter.\n"
     ]
    },
    {
     "name": "stderr",
     "output_type": "stream",
     "text": [
      "/home/rajarshi/miniconda3/lib/python3.9/site-packages/decorator.py:232: PyEMMA_DeprecationWarning: Call to deprecated function \"cluster_kmeans\". Called from /home/rajarshi/miniconda3/lib/python3.9/site-packages/decorator.py line 232. Use deeptime.clustering.KMeans instead.\n",
      "  return caller(func, *(extras + args), **kw)\n",
      "/home/rajarshi/miniconda3/lib/python3.9/site-packages/deeptime/clustering/_kmeans.py:466: UserWarning: Algorithm did not reach convergence criterion of 1e-05 in 50 iterations. Consider increasing max_iter.\n",
      "  warnings.warn(f\"Algorithm did not reach convergence criterion\"\n",
      "/home/rajarshi/miniconda3/lib/python3.9/site-packages/decorator.py:232: PyEMMA_DeprecationWarning: Call to deprecated function \"cluster_kmeans\". Called from /home/rajarshi/miniconda3/lib/python3.9/site-packages/decorator.py line 232. Use deeptime.clustering.KMeans instead.\n",
      "  return caller(func, *(extras + args), **kw)\n",
      "/home/rajarshi/miniconda3/lib/python3.9/site-packages/decorator.py:232: PyEMMA_DeprecationWarning: Call to deprecated function \"cluster_kmeans\". Called from /home/rajarshi/miniconda3/lib/python3.9/site-packages/decorator.py line 232. Use deeptime.clustering.KMeans instead.\n",
      "  return caller(func, *(extras + args), **kw)\n",
      "/home/rajarshi/miniconda3/lib/python3.9/site-packages/decorator.py:232: PyEMMA_DeprecationWarning: Call to deprecated function \"cluster_kmeans\". Called from /home/rajarshi/miniconda3/lib/python3.9/site-packages/decorator.py line 232. Use deeptime.clustering.KMeans instead.\n",
      "  return caller(func, *(extras + args), **kw)\n",
      "/home/rajarshi/miniconda3/lib/python3.9/site-packages/decorator.py:232: PyEMMA_DeprecationWarning: Call to deprecated function \"cluster_kmeans\". Called from /home/rajarshi/miniconda3/lib/python3.9/site-packages/decorator.py line 232. Use deeptime.clustering.KMeans instead.\n",
      "  return caller(func, *(extras + args), **kw)\n",
      "/home/rajarshi/miniconda3/lib/python3.9/site-packages/decorator.py:232: PyEMMA_DeprecationWarning: Call to deprecated function \"cluster_kmeans\". Called from /home/rajarshi/miniconda3/lib/python3.9/site-packages/decorator.py line 232. Use deeptime.clustering.KMeans instead.\n",
      "  return caller(func, *(extras + args), **kw)\n",
      "/home/rajarshi/miniconda3/lib/python3.9/site-packages/decorator.py:232: PyEMMA_DeprecationWarning: Call to deprecated function \"cluster_kmeans\". Called from /home/rajarshi/miniconda3/lib/python3.9/site-packages/decorator.py line 232. Use deeptime.clustering.KMeans instead.\n",
      "  return caller(func, *(extras + args), **kw)\n",
      "/home/rajarshi/miniconda3/lib/python3.9/site-packages/decorator.py:232: PyEMMA_DeprecationWarning: Call to deprecated function \"cluster_kmeans\". Called from /home/rajarshi/miniconda3/lib/python3.9/site-packages/decorator.py line 232. Use deeptime.clustering.KMeans instead.\n",
      "  return caller(func, *(extras + args), **kw)\n",
      "/home/rajarshi/miniconda3/lib/python3.9/site-packages/decorator.py:232: PyEMMA_DeprecationWarning: Call to deprecated function \"cluster_kmeans\". Called from /home/rajarshi/miniconda3/lib/python3.9/site-packages/decorator.py line 232. Use deeptime.clustering.KMeans instead.\n",
      "  return caller(func, *(extras + args), **kw)\n"
     ]
    },
    {
     "name": "stdout",
     "output_type": "stream",
     "text": [
      "13-01-25 23:57:56 pyemma.coordinates.clustering.kmeans.KmeansClustering[82] WARNING  Algorithm did not reach convergence criterion of 1e-05 in 50 iterations. Consider increasing max_iter.\n"
     ]
    },
    {
     "name": "stderr",
     "output_type": "stream",
     "text": [
      "/home/rajarshi/miniconda3/lib/python3.9/site-packages/deeptime/clustering/_kmeans.py:466: UserWarning: Algorithm did not reach convergence criterion of 1e-05 in 50 iterations. Consider increasing max_iter.\n",
      "  warnings.warn(f\"Algorithm did not reach convergence criterion\"\n",
      "/home/rajarshi/miniconda3/lib/python3.9/site-packages/decorator.py:232: PyEMMA_DeprecationWarning: Call to deprecated function \"cluster_kmeans\". Called from /home/rajarshi/miniconda3/lib/python3.9/site-packages/decorator.py line 232. Use deeptime.clustering.KMeans instead.\n",
      "  return caller(func, *(extras + args), **kw)\n",
      "/home/rajarshi/miniconda3/lib/python3.9/site-packages/decorator.py:232: PyEMMA_DeprecationWarning: Call to deprecated function \"cluster_kmeans\". Called from /home/rajarshi/miniconda3/lib/python3.9/site-packages/decorator.py line 232. Use deeptime.clustering.KMeans instead.\n",
      "  return caller(func, *(extras + args), **kw)\n"
     ]
    },
    {
     "name": "stdout",
     "output_type": "stream",
     "text": [
      "13-01-25 23:58:01 pyemma.coordinates.clustering.kmeans.KmeansClustering[90] WARNING  Algorithm did not reach convergence criterion of 1e-05 in 50 iterations. Consider increasing max_iter.\n"
     ]
    },
    {
     "name": "stderr",
     "output_type": "stream",
     "text": [
      "/home/rajarshi/miniconda3/lib/python3.9/site-packages/deeptime/clustering/_kmeans.py:466: UserWarning: Algorithm did not reach convergence criterion of 1e-05 in 50 iterations. Consider increasing max_iter.\n",
      "  warnings.warn(f\"Algorithm did not reach convergence criterion\"\n",
      "/home/rajarshi/miniconda3/lib/python3.9/site-packages/decorator.py:232: PyEMMA_DeprecationWarning: Call to deprecated function \"cluster_kmeans\". Called from /home/rajarshi/miniconda3/lib/python3.9/site-packages/decorator.py line 232. Use deeptime.clustering.KMeans instead.\n",
      "  return caller(func, *(extras + args), **kw)\n"
     ]
    },
    {
     "name": "stdout",
     "output_type": "stream",
     "text": [
      "13-01-25 23:58:03 pyemma.coordinates.clustering.kmeans.KmeansClustering[94] WARNING  Algorithm did not reach convergence criterion of 1e-05 in 50 iterations. Consider increasing max_iter.\n"
     ]
    },
    {
     "name": "stderr",
     "output_type": "stream",
     "text": [
      "/home/rajarshi/miniconda3/lib/python3.9/site-packages/deeptime/clustering/_kmeans.py:466: UserWarning: Algorithm did not reach convergence criterion of 1e-05 in 50 iterations. Consider increasing max_iter.\n",
      "  warnings.warn(f\"Algorithm did not reach convergence criterion\"\n",
      "/home/rajarshi/miniconda3/lib/python3.9/site-packages/decorator.py:232: PyEMMA_DeprecationWarning: Call to deprecated function \"cluster_kmeans\". Called from /home/rajarshi/miniconda3/lib/python3.9/site-packages/decorator.py line 232. Use deeptime.clustering.KMeans instead.\n",
      "  return caller(func, *(extras + args), **kw)\n",
      "/home/rajarshi/miniconda3/lib/python3.9/site-packages/decorator.py:232: PyEMMA_DeprecationWarning: Call to deprecated function \"cluster_kmeans\". Called from /home/rajarshi/miniconda3/lib/python3.9/site-packages/decorator.py line 232. Use deeptime.clustering.KMeans instead.\n",
      "  return caller(func, *(extras + args), **kw)\n",
      "/home/rajarshi/miniconda3/lib/python3.9/site-packages/decorator.py:232: PyEMMA_DeprecationWarning: Call to deprecated function \"cluster_kmeans\". Called from /home/rajarshi/miniconda3/lib/python3.9/site-packages/decorator.py line 232. Use deeptime.clustering.KMeans instead.\n",
      "  return caller(func, *(extras + args), **kw)\n",
      "/home/rajarshi/miniconda3/lib/python3.9/site-packages/decorator.py:232: PyEMMA_DeprecationWarning: Call to deprecated function \"cluster_kmeans\". Called from /home/rajarshi/miniconda3/lib/python3.9/site-packages/decorator.py line 232. Use deeptime.clustering.KMeans instead.\n",
      "  return caller(func, *(extras + args), **kw)\n",
      "/home/rajarshi/miniconda3/lib/python3.9/site-packages/decorator.py:232: PyEMMA_DeprecationWarning: Call to deprecated function \"cluster_kmeans\". Called from /home/rajarshi/miniconda3/lib/python3.9/site-packages/decorator.py line 232. Use deeptime.clustering.KMeans instead.\n",
      "  return caller(func, *(extras + args), **kw)\n"
     ]
    },
    {
     "name": "stdout",
     "output_type": "stream",
     "text": [
      "13-01-25 23:58:23 pyemma.coordinates.clustering.kmeans.KmeansClustering[114] WARNING  Algorithm did not reach convergence criterion of 1e-05 in 50 iterations. Consider increasing max_iter.\n"
     ]
    },
    {
     "name": "stderr",
     "output_type": "stream",
     "text": [
      "/home/rajarshi/miniconda3/lib/python3.9/site-packages/deeptime/clustering/_kmeans.py:466: UserWarning: Algorithm did not reach convergence criterion of 1e-05 in 50 iterations. Consider increasing max_iter.\n",
      "  warnings.warn(f\"Algorithm did not reach convergence criterion\"\n",
      "/home/rajarshi/miniconda3/lib/python3.9/site-packages/decorator.py:232: PyEMMA_DeprecationWarning: Call to deprecated function \"cluster_kmeans\". Called from /home/rajarshi/miniconda3/lib/python3.9/site-packages/decorator.py line 232. Use deeptime.clustering.KMeans instead.\n",
      "  return caller(func, *(extras + args), **kw)\n",
      "/home/rajarshi/miniconda3/lib/python3.9/site-packages/decorator.py:232: PyEMMA_DeprecationWarning: Call to deprecated function \"cluster_kmeans\". Called from /home/rajarshi/miniconda3/lib/python3.9/site-packages/decorator.py line 232. Use deeptime.clustering.KMeans instead.\n",
      "  return caller(func, *(extras + args), **kw)\n",
      "/home/rajarshi/miniconda3/lib/python3.9/site-packages/decorator.py:232: PyEMMA_DeprecationWarning: Call to deprecated function \"cluster_kmeans\". Called from /home/rajarshi/miniconda3/lib/python3.9/site-packages/decorator.py line 232. Use deeptime.clustering.KMeans instead.\n",
      "  return caller(func, *(extras + args), **kw)\n",
      "/home/rajarshi/miniconda3/lib/python3.9/site-packages/decorator.py:232: PyEMMA_DeprecationWarning: Call to deprecated function \"cluster_kmeans\". Called from /home/rajarshi/miniconda3/lib/python3.9/site-packages/decorator.py line 232. Use deeptime.clustering.KMeans instead.\n",
      "  return caller(func, *(extras + args), **kw)\n",
      "/home/rajarshi/miniconda3/lib/python3.9/site-packages/decorator.py:232: PyEMMA_DeprecationWarning: Call to deprecated function \"cluster_kmeans\". Called from /home/rajarshi/miniconda3/lib/python3.9/site-packages/decorator.py line 232. Use deeptime.clustering.KMeans instead.\n",
      "  return caller(func, *(extras + args), **kw)\n",
      "/home/rajarshi/miniconda3/lib/python3.9/site-packages/decorator.py:232: PyEMMA_DeprecationWarning: Call to deprecated function \"cluster_kmeans\". Called from /home/rajarshi/miniconda3/lib/python3.9/site-packages/decorator.py line 232. Use deeptime.clustering.KMeans instead.\n",
      "  return caller(func, *(extras + args), **kw)\n"
     ]
    },
    {
     "data": {
      "image/png": "[encoded data removed]",
      "text/plain": [
       "<Figure size 640x480 with 1 Axes>"
      ]
     },
     "metadata": {},
     "output_type": "display_data"
    }
   ],
   "source": [
    "#Number of clustering to be decided\n",
    "\n",
    "\n",
    "n_clustercenters = [5, 10, 30, 75, 200, 450]\n",
    "\n",
    "scores = np.zeros((len(n_clustercenters), 5))\n",
    "for n, k in enumerate(n_clustercenters):\n",
    "    for m in range(5):\n",
    "        with pyemma.util.contexts.settings(show_progress_bars=False):\n",
    "            _cl = pyemma.coordinates.cluster_kmeans(\n",
    "                Y, k=k, max_iter=50, stride=50)\n",
    "            _msm = pyemma.msm.estimate_markov_model(_cl.dtrajs, 5)\n",
    "            scores[n, m] = _msm.score_cv(\n",
    "                _cl.dtrajs, n=1, score_method='VAMP2', score_k=min(10, k))\n",
    "\n",
    "fig, ax = plt.subplots()\n",
    "lower, upper = pyemma.util.statistics.confidence_interval(scores.T.tolist(), conf=0.9)\n",
    "ax.fill_between(n_clustercenters, lower, upper, alpha=0.3)\n",
    "ax.plot(n_clustercenters, np.mean(scores, axis=1), '-o')\n",
    "ax.semilogx()\n",
    "ax.set_xlabel('number of cluster centers')\n",
    "ax.set_ylabel('VAMP-2 score')\n",
    "fig.tight_layout()"
   ]
  },
  {
   "cell_type": "code",
   "execution_count": null,
   "id": "25dccd58",
   "metadata": {
    "scrolled": false
   },
   "outputs": [],
   "source": [
    "#CLustering Happening here\n",
    "\n",
    "\n",
    "\n",
    "cl = coor.cluster_kmeans(data=Y, k=75, max_iter = 500)\n",
    "# for later use we save the discrete trajectories and cluster center coordinates:\n",
    "dtrajs = cl.dtrajs\n",
    "cc_x = cl.clustercenters[:,0]\n",
    "cc_y = cl.clustercenters[:,1]"
   ]
  },
  {
   "cell_type": "code",
   "execution_count": null,
   "id": "1ec1f3fa",
   "metadata": {},
   "outputs": [],
   "source": [
    "#Clustering plots\n",
    "\n",
    "plt.figure(figsize=(6, 4)) \n",
    "short_dist_tica_concatenated = np.concatenate(Y)\n",
    "pyemma.plots.plot_free_energy(*Y.T[0:2], legacy=False)\n",
    "\n",
    "plot(cc_x,cc_y, linewidth=0, marker='o', markerfacecolor='white',  # Fill color of the marker\n",
    "    markeredgecolor='black', markeredgewidth=0.6,  # Thickness of the border\n",
    "    markersize=5 ) \n",
    "plt.xlabel('IC 1')\n",
    "plt.ylabel('IC 2')\n",
    "plt.show()\n",
    "print(short_dist_tica_concatenated)\n"
   ]
  },
  {
   "cell_type": "code",
   "execution_count": null,
   "id": "094ff3da",
   "metadata": {},
   "outputs": [],
   "source": [
    "#MSM_Estimation\n",
    "import pyemma.msm as msm\n",
    "import pyemma.plots as mplt\n",
    "\n",
    "\n"
   ]
  },
  {
   "cell_type": "code",
   "execution_count": null,
   "id": "91312559",
   "metadata": {},
   "outputs": [],
   "source": []
  },
  {
   "cell_type": "code",
   "execution_count": null,
   "id": "c7e1271a",
   "metadata": {},
   "outputs": [],
   "source": [
    "#Selection of lag time\n",
    "\n",
    "lags = [1,2,5,50, 100, 150, 200 ,250]\n",
    "its = pyemma.msm.its(cl.dtrajs, lags=lags, nits=10, errors='bayes')"
   ]
  },
  {
   "cell_type": "code",
   "execution_count": null,
   "id": "7005ff72",
   "metadata": {},
   "outputs": [],
   "source": [
    "pyemma.plots.plot_implied_timescales(its, dt=0.1, units='(ns)' , marker='None');\n",
    "\n",
    "plt.xlabel('τ (ns)')\n",
    "plt.ylabel('ti (ns)')\n",
    "\n",
    "import pyemma.msm as msm\n",
    "import pyemma.plots as mplt\n",
    "\n",
    "#mplt.plot_implied_timescales(its)\n",
    "\n",
    "#plt.savefig('1_ITS_Plot_Nevv_double.png')\n",
    "\n",
    "\n",
    "plt.savefig('1_ITS_PLOT_al.png')\n",
    "#K means"
   ]
  },
  {
   "cell_type": "code",
   "execution_count": null,
   "id": "71deec42",
   "metadata": {},
   "outputs": [],
   "source": [
    "dtrajs_concatenated = np.concatenate(cl.dtrajs)"
   ]
  },
  {
   "cell_type": "code",
   "execution_count": null,
   "id": "84b93e22",
   "metadata": {},
   "outputs": [],
   "source": [
    "M = msm.estimate_markov_model(dtrajs_concatenated, 1000)\n"
   ]
  },
  {
   "cell_type": "code",
   "execution_count": null,
   "id": "3e348446",
   "metadata": {},
   "outputs": [],
   "source": [
    "print('fraction of states used = ', M.active_state_fraction)\n",
    "print('fraction of counts used = ', M.active_count_fraction)"
   ]
  },
  {
   "cell_type": "code",
   "execution_count": null,
   "id": "efc10467",
   "metadata": {},
   "outputs": [],
   "source": [
    "#Eigen spectrum analysis\n",
    "\n",
    "plot(M.timescales(),linewidth=0,marker='o')\n",
    "xlabel('index'); ylabel('timescale (ns)'); xlim(-0.5,10.5)"
   ]
  },
  {
   "cell_type": "code",
   "execution_count": null,
   "id": "d93b48e5",
   "metadata": {},
   "outputs": [],
   "source": [
    "#plt.savefig('time_scalevsindex_double.png')\n",
    "\n",
    "plot(M.timescales()[:-1]/M.timescales()[1:], linewidth=0,marker='o')\n",
    "xlabel('index'); ylabel('timescale separation'); xlim(-0.5,10.5)"
   ]
  },
  {
   "cell_type": "code",
   "execution_count": null,
   "id": "1ca31823",
   "metadata": {},
   "outputs": [],
   "source": [
    "dtrajs_concatenated = np.concatenate(cl.dtrajs)"
   ]
  },
  {
   "cell_type": "code",
   "execution_count": null,
   "id": "45871349",
   "metadata": {},
   "outputs": [],
   "source": [
    "print('hi')\n",
    "\n",
    "M = msm.estimate_markov_model(dtrajs_concatenated, 1000)\n",
    "\n",
    "print(len(dtrajs[0]))"
   ]
  },
  {
   "cell_type": "code",
   "execution_count": null,
   "id": "1a58af47",
   "metadata": {},
   "outputs": [],
   "source": [
    "print('fraction of states used = ', M.active_state_fraction)\n",
    "print('fraction of counts used = ', M.active_count_fraction)"
   ]
  },
  {
   "cell_type": "code",
   "execution_count": null,
   "id": "49dfc027",
   "metadata": {},
   "outputs": [],
   "source": [
    "plot(M.timescales(),linewidth=0,marker='o')\n",
    "xlabel('index'); ylabel('timescale (ns)'); xlim(-0.5,10.5)"
   ]
  },
  {
   "cell_type": "code",
   "execution_count": null,
   "id": "705a5c5b",
   "metadata": {},
   "outputs": [],
   "source": [
    "#plt.savefig('time_scalevsindex_double.png')\n",
    "\n",
    "plot(M.timescales()[:-1]/M.timescales()[1:], linewidth=0,marker='o')\n",
    "xlabel('index'); ylabel('timescale separation'); xlim(-0.5,10.5)"
   ]
  },
  {
   "cell_type": "code",
   "execution_count": null,
   "id": "28a929ec",
   "metadata": {},
   "outputs": [],
   "source": [
    "#Saving pdb structures\n",
    "\n",
    "nstates = 3\n",
    "\n",
    "M.pcca(nstates)\n",
    "\n",
    "two_dist_msm = M\n",
    "B = M.metastable_assignments\n",
    "print(B)\n",
    "C = []\n",
    "for i in range(len(two_dist_msm.metastable_assignments)):\n",
    "    if two_dist_msm.metastable_assignments[i] == 1:\n",
    "        C.append(two_dist_msm.metastable_assignments[i])\n",
    "print(len(C))\n",
    "\n",
    "\n",
    "\n",
    "pcca_samples = two_dist_msm.sample_by_state(1, subset = B)\n",
    "\n",
    "trjfile = [[\"/home1/wt/c1-sim1/c1-protein.xtc\", \"/home1/wt/c2-sim1/c2-protein.xtc\", \"/home1/wt/c3-sim1/c3-protein.xtc\", \"/home1/wt/c4-sim1/c4-protein.xtc\", \"/home1/wt/c5-sim1/c5-protein.xtc\", \"/home1/wt/c6-sim1/c6-protein.xtc\", \"/home1/wt/c7-sim1/c7-protein.xtc\", \"/home1/wt/c8-sim1/c8-protein.xtc\", \"/home1/wt/c9-sim1/c9-protein.xtc\", \"/home1/wt/c10-sim1/c10-protein.xtc\", \"/home1/wt/c1-sim2/c1-protein.xtc\", \"/home1/wt/c2-sim2/c2-protein.xtc\", \"/home1/wt/c3-sim2/c3-protein.xtc\", \"/home1/wt/c4-sim2/c4-protein.xtc\", \"/home1/wt/c5-sim2/c5-protein.xtc\", \"/home1/wt/c6-sim2/c6-protein.xtc\", \"/home1/wt/c7-sim2/c7-protein.xtc\", \"/home1/wt/c8-sim2/c8-protein.xtc\", \"/home1/wt/c9-sim2/c9-protein.xtc\", \"/home1/wt/c10-sim2/c10-protein.xtc\", \"/home1/wt/c1-sim3/c1-protein.xtc\", \"/home1/wt/c2-sim3/c2-protein.xtc\", \"/home1/wt/c3-sim3/c3-protein.xtc\", \"/home1/wt/c4-sim3/c4-protein.xtc\", \"/home1/wt/c5-sim3/c5-protein.xtc\", \"/home1/wt/c6-sim3/c6-protein.xtc\", \"/home1/wt/c7-sim3/c7-protein.xtc\", \"/home1/wt/c8-sim3/c8-protein.xtc\", \"/home1/wt/c9-sim3/c9-protein.xtc\", \"/home1/wt/c10-sim3/c10-protein.xtc\"\n",
    "]]\n",
    "\n",
    "\n",
    "short_dist = pyemma.coordinates.source(trjfile, features=feat)\n",
    "print(pcca_samples)\n",
    "pyemma.coordinates.save_trajs(\n",
    "    short_dist,\n",
    "    pcca_samples,\n",
    "    prefix = 'AL_STRUCTURE_TOR',\n",
    "    fmt = 'pdb')\n"
   ]
  },
  {
   "cell_type": "code",
   "execution_count": null,
   "id": "34903aac",
   "metadata": {},
   "outputs": [],
   "source": [
    "\n",
    "pcca_dist = M.metastable_distributions\n",
    "pcca_samples = M.sample_by_distributions(pcca_dist, 1000)\n",
    "pcca_sets_6 = M.metastable_sets\n",
    "\n",
    "\n",
    "#SAVING TRAJECTOREIS\n",
    "\n",
    "inp = coor.source(trjfile, feat)\n",
    "coor.save_traj(inp, pcca_samples[0], 'pcca1_AL_TOR.xtc')\n",
    "coor.save_traj(inp, pcca_samples[1], 'pcca2_AL_TOR.xtc')\n",
    "coor.save_traj(inp, pcca_samples[2], 'pcca3_AL_TOR.xtc')\n",
    "coor.save_traj(inp, pcca_samples[3], 'pcca4_AL_TOR.xtc')\n",
    "coor.save_traj(inp, pcca_samples[4], 'pcca5_AL_TOR.xtc')\n",
    "\n",
    "##VISUALIZING\n",
    "\n",
    "#from IPython.display import Image\n",
    "#Image(filename='./data/pcca_structures.png', width=800)"
   ]
  },
  {
   "cell_type": "code",
   "execution_count": null,
   "id": "1f6dd784",
   "metadata": {},
   "outputs": [],
   "source": []
  },
  {
   "cell_type": "code",
   "execution_count": null,
   "id": "05552a0f",
   "metadata": {},
   "outputs": [],
   "source": [
    "# Caclulating stationary probaility matrix and the mpft of transitions\n",
    "\n",
    "for i, s in enumerate(two_dist_msm.metastable_sets):\n",
    "    print('π_{} = {:f}'.format(i + 1, two_dist_msm.pi[s].sum()))\n",
    "    \n",
    "two_dist_msm.pcca(nstates)    \n",
    "two_dist_mfpt = np.zeros((nstates, nstates))\n",
    "for i in range(nstates):\n",
    "    for j in range(nstates):\n",
    "        two_dist_mfpt[i, j] = two_dist_msm.mfpt(\n",
    "            two_dist_msm.metastable_sets[i],\n",
    "            two_dist_msm.metastable_sets[j])\n",
    "\n",
    "two_dist_inverse_mfpt = np.zeros_like(two_dist_mfpt)\n",
    "two_dist_nz = two_dist_mfpt.nonzero()\n",
    "two_dist_inverse_mfpt[two_dist_nz] = 1.0 / two_dist_mfpt[two_dist_nz]\n",
    "\n",
    "from pandas import DataFrame\n",
    "print('MFPT / steps:')\n",
    "DataFrame(np.round(two_dist_mfpt, decimals=2), index=range(1, nstates + 1), columns=range(1, nstates + 1))"
   ]
  },
  {
   "cell_type": "code",
   "execution_count": null,
   "id": "8b65cb25",
   "metadata": {},
   "outputs": [],
   "source": [
    "#Visualizing the macrostates formed after coarse graining\n",
    "\n",
    "nstates = 5\n",
    "M.pcca(5)\n",
    "metastable_traj = M.metastable_assignments[dtrajs_concatenated]\n",
    "\n",
    "fig, ax = plt.subplots(figsize=(5, 4))\n",
    "_, _, misc = pyemma.plots.plot_state_map(\n",
    "    *Y[:, :2].T, metastable_traj, ax=ax)\n",
    "ax.set_xlabel('IC 1')\n",
    "ax.set_ylabel('IC 2')\n",
    "misc['cbar'].set_ticklabels([r'$\\mathcal{S}_%d$' % (i + 1)\n",
    "                             for i in range(nstates)])\n",
    "fig.tight_layout()"
   ]
  },
  {
   "cell_type": "code",
   "execution_count": null,
   "id": "5c0867f7",
   "metadata": {},
   "outputs": [],
   "source": [
    "#SEEING MICROSTATES VVITH THE PDB Structure number on energy landscape\n",
    "\n",
    "\n",
    "import matplotlib.pyplot as plt\n",
    "pcca_sets_6 = M.metastable_sets\n",
    "pyemma.plots.plot_free_energy(*Y.T[0:2], legacy=False)\n",
    "\n",
    "\n",
    "    # Highlight points corresponding to metastable state 0\n",
    "metastable_indices = [i for i, state in enumerate(B) if state == 0]\n",
    "metastable_x = cc_x[metastable_indices]\n",
    "metastable_y = cc_y[metastable_indices]\n",
    "plt.scatter(metastable_x, metastable_y, color='green',label='Metastable State 0', edgecolors ='black', s=20)\n",
    "\n",
    "           \n",
    "# Highlight points corresponding to metastable state 1\n",
    "metastable_indices = [i for i, state in enumerate(B) if state == 1]\n",
    "metastable_x = cc_x[metastable_indices]\n",
    "metastable_y = cc_y[metastable_indices]\n",
    "plt.scatter(metastable_x, metastable_y, color='red', label='Metastable State 1', edgecolors='black', s=20)\n",
    "\n",
    "# Highlight points corresponding to metastable state 2\n",
    "metastable_indices = [i for i, state in enumerate(B) if state == 2]\n",
    "metastable_x = cc_x[metastable_indices]\n",
    "metastable_y = cc_y[metastable_indices]\n",
    "plt.scatter(metastable_x, metastable_y, color='yellow', label='Metastable State 2', edgecolors='red', s=20)\n",
    "\n",
    "\n",
    "# Highlight points corresponding to metastable state 3\n",
    "metastable_indices = [i for i, state in enumerate(B) if state == 3]\n",
    "metastable_x = cc_x[metastable_indices]\n",
    "metastable_y = cc_y[metastable_indices]\n",
    "plt.scatter(metastable_x, metastable_y, color='black', label='Metastable State 3', edgecolors='red', s=20)\n",
    "\n",
    "#Highlight points corresponding to metastable state 4\n",
    "metastable_indices = [i for i, state in enumerate(B) if state == 4]\n",
    "metastable_x = cc_x[metastable_indices]\n",
    "metastable_y = cc_y[metastable_indices]\n",
    "plt.scatter(metastable_x, metastable_y, color='red', label='Metastable State 4', edgecolors='pink', s=20)\n",
    "\n",
    "\n",
    "\n",
    "            \n",
    "            \n",
    "            \n",
    "            \n",
    "\n",
    "# Highlight points corresponding to metastable state 0\n",
    "metastable_indices_0 = [i for i, state in enumerate(B) if state == 0]\n",
    "\n",
    "for i in metastable_indices_0:\n",
    "    plt.text(cc_x[i], cc_y[i], f\"{i}\", fontsize=8, color='white')\n",
    "\n",
    "# Highlight points corresponding to metastable state 1\n",
    "metastable_indices_1 = [i for i, state in enumerate(B) if state == 1]\n",
    "\n",
    "for i in metastable_indices_1:\n",
    "    plt.text(cc_x[i], cc_y[i], f\"{i}\", fontsize=8, color='white')\n",
    "\n",
    "# Highlight points corresponding to metastable state 2\n",
    "metastable_indices_2 = [i for i, state in enumerate(B) if state == 2]\n",
    "\n",
    "for i in metastable_indices_2:\n",
    "    plt.text(cc_x[i], cc_y[i], f\"{i}\", fontsize=8, color='white')\n",
    "\n",
    "# Highlight points corresponding to metastable state 3\n",
    "metastable_indices_2 = [i for i, state in enumerate(B) if state == 3]\n",
    "\n",
    "for i in metastable_indices_2:\n",
    "    plt.text(cc_x[i], cc_y[i], f\"{i}\", fontsize=8, color='white')\n",
    "\n",
    "\n",
    " # Highlight points corresponding to metastable state 4\n",
    "metastable_indices_2 = [i for i, state in enumerate(B) if state == 4]\n",
    "\n",
    "for i in metastable_indices_2:\n",
    "    plt.text(cc_x[i], cc_y[i], f\"{i}\", fontsize=8, color='white')\n",
    "\n",
    "\n",
    "\n",
    "\n",
    "# Add labels, legend, and title\n",
    "plt.xlabel(\"IC 1\")\n",
    "plt.ylabel(\"IC 2\")\n",
    "plt.title(\"Cluster Centers\")\n",
    "plt.legend()\n",
    "plt.legend(fontsize=5)\n",
    "plt.show()\n"
   ]
  },
  {
   "cell_type": "code",
   "execution_count": null,
   "id": "220d6e49",
   "metadata": {},
   "outputs": [],
   "source": []
  },
  {
   "cell_type": "code",
   "execution_count": null,
   "id": "bcfac0e9",
   "metadata": {},
   "outputs": [],
   "source": []
  },
  {
   "cell_type": "code",
   "execution_count": null,
   "id": "ae592c74",
   "metadata": {},
   "outputs": [],
   "source": []
  }
 ],
 "metadata": {
  "kernelspec": {
   "display_name": "Python 3 (ipykernel)",
   "language": "python",
   "name": "python3"
  },
  "language_info": {
   "codemirror_mode": {
    "name": "ipython",
    "version": 3
   },
   "file_extension": ".py",
   "mimetype": "text/x-python",
   "name": "python",
   "nbconvert_exporter": "python",
   "pygments_lexer": "ipython3",
   "version": "3.9.13"
  }
 },
 "nbformat": 4,
 "nbformat_minor": 5
}
